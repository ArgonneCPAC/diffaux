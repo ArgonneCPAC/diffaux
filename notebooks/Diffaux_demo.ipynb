{
 "cells": [
  {
   "cell_type": "code",
   "execution_count": null,
   "id": "96530a80-1f22-4b9b-87ba-85047f85e293",
   "metadata": {},
   "outputs": [],
   "source": [
    "import os\n",
    "from diffaux.validation.read_size_validation_data import read_size_data, validation_info\n",
    "from diffaux.validation.read_size_validation_data import get_author_list"
   ]
  },
  {
   "cell_type": "markdown",
   "id": "3f113ea6-1570-49bf-8c92-0ff6168d9fe2",
   "metadata": {},
   "source": [
    "##  Get Validation Data and Plot Behavior"
   ]
  },
  {
   "cell_type": "code",
   "execution_count": null,
   "id": "ce3d33df-8c8d-4c28-b4ec-e39abd5cc282",
   "metadata": {},
   "outputs": [],
   "source": [
    "authors_rm = get_author_list(validation_info['Re_vs_Mstar'])\n",
    "authors_re = get_author_list(validation_info['Re_vs_z_data'])"
   ]
  },
  {
   "cell_type": "code",
   "execution_count": null,
   "id": "ccbefda2-22d0-430f-9508-3dc0e340f517",
   "metadata": {},
   "outputs": [],
   "source": [
    "Redata = read_size_data({}, authors_re, info_key='Re_vs_z_data')"
   ]
  },
  {
   "cell_type": "code",
   "execution_count": null,
   "id": "0802d688-209e-4f03-9e98-d0dd34874a0e",
   "metadata": {},
   "outputs": [],
   "source": [
    "Rmdata= read_size_data({}, authors_rm, info_key='Re_vs_Mstar')"
   ]
  },
  {
   "cell_type": "code",
   "execution_count": null,
   "id": "de1e8d6d-69b9-46b2-a986-e22196042475",
   "metadata": {},
   "outputs": [],
   "source": [
    "authors = get_author_list(validation_info['Re_vs_z'])\n",
    "data= read_size_data({}, authors, info_key='Re_vs_z')"
   ]
  },
  {
   "cell_type": "code",
   "execution_count": null,
   "id": "4971ede6-139a-40d3-857e-e409c6a5a1ad",
   "metadata": {},
   "outputs": [],
   "source": [
    "authors_rd = get_author_list(validation_info['Re_vs_Mstar_data'])\n",
    "Rddata = {}\n",
    "for author in authors_rd:\n",
    "    samples = validation_info['Re_vs_Mstar_data'][author]['samples']\n",
    "    for sample in samples:\n",
    "        if 'All' not in sample:\n",
    "            Rddata = read_size_data(Rddata, authors_rd, info_key='Re_vs_Mstar_data', sample=sample)\n"
   ]
  },
  {
   "cell_type": "code",
   "execution_count": null,
   "id": "c0077417-e860-4773-8fae-dcff2f6f0b51",
   "metadata": {},
   "outputs": [],
   "source": [
    "notebook_dir = '/Users/kovacs/cosmology/diff_notebooks'\n",
    "from diffaux.validation.plot_size_data import plot_size_data\n",
    "from diffaux.validation.plot_size_data import PLOT_DRN"
   ]
  },
  {
   "cell_type": "code",
   "execution_count": null,
   "id": "9a2da060-0516-4fff-987f-bff6b413f7eb",
   "metadata": {},
   "outputs": [],
   "source": [
    "plot_size_data(Rddata, validation_info, authors, info_keys=['Re_vs_Mstar_data'], plotdir=os.path.join(notebook_dir, PLOT_DRN))"
   ]
  },
  {
   "cell_type": "code",
   "execution_count": null,
   "id": "e45a5f0c-cf0d-448d-ba2e-c3edcfd3432a",
   "metadata": {},
   "outputs": [],
   "source": [
    "plot_size_data(Redata, validation_info, authors, info_keys=['Re_vs_z_data'], plotdir=os.path.join(notebook_dir, PLOT_DRN), summary_only=True)"
   ]
  },
  {
   "cell_type": "markdown",
   "id": "af202292-39c8-4de9-ad34-c3e27d902287",
   "metadata": {},
   "source": [
    "### Plot Behavior of Fit Coefficients for Median Sizes"
   ]
  },
  {
   "cell_type": "code",
   "execution_count": null,
   "id": "0063f8d9-5c49-4966-bae4-96655873b0e2",
   "metadata": {},
   "outputs": [],
   "source": [
    "plot_size_data(Rmdata, validation_info, authors_rm, info_keys=['Re_vs_Mstar'], summary_only=True, plotdir=os.path.join(notebook_dir, PLOT_DRN))"
   ]
  },
  {
   "cell_type": "code",
   "execution_count": null,
   "id": "54451dcd-9411-4da2-8170-685cc634a9ae",
   "metadata": {},
   "outputs": [],
   "source": [
    "plot_size_data(data, validation_info, authors, info_keys=['Re_vs_z'], plotdir=os.path.join(notebook_dir, PLOT_DRN), summary_only=True)"
   ]
  },
  {
   "cell_type": "markdown",
   "id": "0625ef94-bb9e-44c1-b619-8243083d1ffa",
   "metadata": {},
   "source": [
    "## Setup Choices for Fitting the Behavior of Median Sizes with z"
   ]
  },
  {
   "cell_type": "code",
   "execution_count": null,
   "id": "05e36af8-e4b0-4d6a-b308-948df5f3451f",
   "metadata": {},
   "outputs": [],
   "source": [
    "from diffaux.size_modeling.fit_size_data import Samples_zFit\n",
    "from diffaux.size_modeling.fit_size_data import zFitParams_initial\n",
    "print(zFitParams_initial)\n",
    "print(Samples_zFit)"
   ]
  },
  {
   "cell_type": "code",
   "execution_count": null,
   "id": "1c4109da-ce7d-4b48-91f8-918ad6ea99f9",
   "metadata": {
    "scrolled": true
   },
   "outputs": [],
   "source": [
    "from diffaux.size_modeling.fit_size_data import collect_data_vectors\n",
    "#authors_fit = get_author_list(validation_info['Re_vs_z'], lambda_min=0.5, lambda_max=1.0)\n",
    "#data_fit = read_size_data({}, authors_fit, info_key='Re_vs_z')\n",
    "data_vectors = collect_data_vectors(data, Samples_zFit, validation_info, fit_type='Re_vs_z',\n",
    "                                    lambda_min=0.5, lambda_max=1.0)"
   ]
  },
  {
   "cell_type": "code",
   "execution_count": null,
   "id": "bd606448-8c32-4f36-8145-5d11385f52d2",
   "metadata": {},
   "outputs": [],
   "source": [
    "#print(data_vectors)\n",
    "from diffaux.size_modeling.fit_size_data import assign_p0_values_to_fits\n",
    "#assign initial values to fits dict and plot\n",
    "fits = assign_p0_values_to_fits(zFitParams_initial, fit_type='Re_vs_z')"
   ]
  },
  {
   "cell_type": "code",
   "execution_count": null,
   "id": "36aab63c-6911-43f7-a7a5-be5d73fa3715",
   "metadata": {},
   "outputs": [],
   "source": [
    "from diffaux.validation.plot_size_fits import plot_fits"
   ]
  },
  {
   "cell_type": "markdown",
   "id": "cb29e87a-87fe-4729-af77-fd7f8c1b6955",
   "metadata": {},
   "source": [
    "### Plot Initial Guess for Fit Results and Compare to Data"
   ]
  },
  {
   "cell_type": "code",
   "execution_count": null,
   "id": "63fbcd1e-0844-4459-ad3c-efe14d426339",
   "metadata": {},
   "outputs": [],
   "source": [
    "fit_type = 'Re_vs_z'\n",
    "plot_fits(fits[fit_type], data_vectors[fit_type], Samples_zFit, validation_info[fit_type], plotdir=os.path.join(notebook_dir, PLOT_DRN),\n",
    "          title='_InitialGuess')"
   ]
  },
  {
   "cell_type": "markdown",
   "id": "bce0551b-0cd3-4850-9405-9d39e5fa9bbc",
   "metadata": {},
   "source": [
    "## Fit the Coefficients and Save Results"
   ]
  },
  {
   "cell_type": "code",
   "execution_count": null,
   "id": "5ea95fe0-65b3-496b-b14b-ce6a3d49cfc6",
   "metadata": {},
   "outputs": [],
   "source": [
    "fit_type = 'Re_vs_z'\n",
    "from diffaux.size_modeling.fit_size_data import fit_parameters, _sigmoid\n",
    "fits = {}\n",
    "from diffaux.size_modeling.fit_size_data import Xvalue_zFit\n",
    "print(zFitParams_initial)\n",
    "fits[fit_type] = fit_parameters(data_vectors[fit_type], Xvalue_zFit, zFitParams_initial, func=_sigmoid)"
   ]
  },
  {
   "cell_type": "code",
   "execution_count": null,
   "id": "6a3282bd-1466-4556-b736-739caeeebef3",
   "metadata": {},
   "outputs": [],
   "source": [
    "#print(fits)\n",
    "author_list = get_author_list(validation_info['Re_vs_z'], lambda_min=0.5, lambda_max=1.0)\n",
    "plot_fits(fits[fit_type], data_vectors[fit_type], Samples_zFit, validation_info[fit_type], func=_sigmoid,\n",
    "          data=data[fit_type], authors=author_list, plotdir=os.path.join(notebook_dir, PLOT_DRN))\n"
   ]
  },
  {
   "cell_type": "code",
   "execution_count": null,
   "id": "a9af4061-50ed-4a6e-bdef-031d14cf431b",
   "metadata": {},
   "outputs": [],
   "source": [
    "import pickle\n",
    "from diffaux.size_modeling.fit_size_data import zFitParameters\n",
    "from diffaux.size_modeling.fit_size_data import write_fit_parameters, read_fit_parameters"
   ]
  },
  {
   "cell_type": "code",
   "execution_count": null,
   "id": "91b50cac-ba76-4fcc-8b1a-6d1caacceb02",
   "metadata": {},
   "outputs": [],
   "source": [
    "#write_fit_parameters(fits, fitdir=os.path.join(fit_dir, FIT_DRN))\n",
    "write_fit_parameters(fits, fitdir='./')"
   ]
  },
  {
   "cell_type": "markdown",
   "id": "3a26f472-ca74-479e-b17a-0605dc293ee8",
   "metadata": {},
   "source": [
    "## Read in Fit Parameters and Generate Sizes"
   ]
  },
  {
   "cell_type": "code",
   "execution_count": null,
   "id": "44a9f9bf-c338-4f4d-9f4d-bb3e7095460d",
   "metadata": {},
   "outputs": [],
   "source": [
    "fit_pars, fits = read_fit_parameters(zFitParameters)\n",
    "print(fit_pars)"
   ]
  },
  {
   "cell_type": "code",
   "execution_count": null,
   "id": "ad6dea04-3cfc-4a90-a34a-2f3a69d238ca",
   "metadata": {},
   "outputs": [],
   "source": [
    "#generate sizes\n",
    "import numpy as np\n",
    "from diffaux.size_modeling.fit_size_data import generate_sizes, get_color_mask, _sigmoid, median_size_vs_z\n",
    "fit_func=_sigmoid\n",
    "size_func=median_size_vs_z\n",
    "N = 5000\n",
    "lM_lo = 9.0\n",
    "lM_hi = 12.0\n",
    "z_lo = 0.\n",
    "z_hi = 3.0\n",
    "log_Mstar = np.random.uniform(low=lM_lo, high=lM_hi, size=N)\n",
    "redshift = np.random.uniform(low=z_lo, high=z_hi, size=N)\n",
    "color_gal = np.random.uniform(low=-0.2, high=2.3, size=N)\n",
    "#print(log_Mstar, redshift, color)"
   ]
  },
  {
   "cell_type": "code",
   "execution_count": null,
   "id": "683aca4a-8209-4762-8f6c-5d534ae07a1c",
   "metadata": {},
   "outputs": [],
   "source": [
    "Re, R_med, scatter_up, scatter_down = generate_sizes(zFitParams_initial, log_Mstar, redshift, color_gal,\n",
    "                                                     samples=Samples_zFit)\n",
    "print(np.min(R_med), np.max(R_med))\n",
    "print(np.min(Re), np.max(Re))"
   ]
  },
  {
   "cell_type": "markdown",
   "id": "3881c43b-6e73-4fd6-b29e-7a956c107e88",
   "metadata": {},
   "source": [
    "## Plot Results and Compare Generated Sizes with Validation Data"
   ]
  },
  {
   "cell_type": "code",
   "execution_count": null,
   "id": "8e7489bd-0e9c-4037-8e58-4bccf811e40a",
   "metadata": {},
   "outputs": [],
   "source": [
    "tests = [Redata, Rddata]"
   ]
  },
  {
   "cell_type": "code",
   "execution_count": null,
   "id": "1e3a0189-8365-4b1a-adb3-451523a838be",
   "metadata": {},
   "outputs": [],
   "source": [
    "# make validation plots using data for measured sizes and median sizes\n",
    "from diffaux.validation.plot_size_fits import plot_generated_sizes\n",
    "for test, ikey in zip(tests, ['Re_vs_z_data', 'Re_vs_Mstar_data']):\n",
    "    authors = get_author_list(validation_info[ikey])\n",
    "    plot_generated_sizes(Re, R_med, color_gal, log_Mstar, redshift, Samples_zFit, \n",
    "                         authors, test[ikey], validation_info[ikey],\n",
    "                         plotdir=os.path.join(notebook_dir, PLOT_DRN))\n"
   ]
  },
  {
   "cell_type": "code",
   "execution_count": null,
   "id": "67dd0ce1-761f-44b6-9665-510bd0aa0d17",
   "metadata": {},
   "outputs": [],
   "source": [
    "#test behavior of R_med\n",
    "from diffaux.validation.plot_size_fits import plot_Re_median"
   ]
  },
  {
   "cell_type": "code",
   "execution_count": null,
   "id": "5752d86f-e21f-495e-8b15-e213429ece8b",
   "metadata": {},
   "outputs": [],
   "source": [
    "plot_Re_median(fit_pars, Samples_zFit, plotdir=os.path.join(notebook_dir, PLOT_DRN))"
   ]
  },
  {
   "cell_type": "markdown",
   "id": "44a315ed-b6ee-441c-85a0-d38ed4ac3cea",
   "metadata": {},
   "source": [
    "### Run test for generated sizes: "
   ]
  },
  {
   "cell_type": "code",
   "execution_count": null,
   "id": "33c132c5-1bee-440a-88d5-1eef861f67f7",
   "metadata": {},
   "outputs": [],
   "source": [
    "#Test use facing functions\n",
    "from diffaux.size_modeling.tests.test_sizes import test_generate_sizes"
   ]
  },
  {
   "cell_type": "code",
   "execution_count": null,
   "id": "fe154ced-9f4f-4071-81fa-d85ab64f70d0",
   "metadata": {},
   "outputs": [],
   "source": [
    "#Run the test in write mode to generate test data\n",
    "test_generate_sizes(read=False, testdata_dir='./')"
   ]
  },
  {
   "cell_type": "code",
   "execution_count": null,
   "id": "c21fc1b5-bd1a-4ade-936c-815e367bc3c7",
   "metadata": {},
   "outputs": [],
   "source": [
    "#Run the test in read mode to read test data and compare with tthe user facing function\n",
    "test_generate_sizes(read=True)"
   ]
  },
  {
   "cell_type": "code",
   "execution_count": null,
   "id": "ea4ead59-6a54-424c-a807-44a492134f6b",
   "metadata": {},
   "outputs": [],
   "source": []
  }
 ],
 "metadata": {
  "kernelspec": {
   "display_name": "diffaux",
   "language": "python",
   "name": "diffaux"
  },
  "language_info": {
   "codemirror_mode": {
    "name": "ipython",
    "version": 3
   },
   "file_extension": ".py",
   "mimetype": "text/x-python",
   "name": "python",
   "nbconvert_exporter": "python",
   "pygments_lexer": "ipython3",
   "version": "3.12.7"
  }
 },
 "nbformat": 4,
 "nbformat_minor": 5
}
