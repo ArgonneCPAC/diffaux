{
 "cells": [
  {
   "cell_type": "code",
   "execution_count": null,
   "id": "09662311-02d9-49ab-998c-f1a5a720b438",
   "metadata": {},
   "outputs": [],
   "source": [
    "import os\n",
    "from diffaux.disk_bulge_modeling.generate_bulge_disk_sample import (\n",
    "    get_bulge_disk_test_sample,\n",
    "    get_bulge_disk_decomposition,\n",
    "    get_zindexes,\n",
    ")\n",
    "\n",
    "from jax import random as jran\n",
    "import numpy as np\n",
    "import jax.numpy as jnp\n",
    "import matplotlib.cm as cm\n",
    "import matplotlib.pyplot as plt\n",
    "import numpy as np\n",
    "from collections import OrderedDict, namedtuple\n",
    "from itertools import zip_longest\n",
    "from diffaux.validation.plot_disk_bulge import (\n",
    "    plot_qs_profiles_for_zvals,\n",
    "    plot_qs_profiles,\n",
    "    plot_q_profile,\n",
    "    plot_q_vs_xs_color_scatter,\n",
    ")\n",
    "from diffaux.disk_bulge_modeling.mc_disk_bulge import generate_fbulge_parameters_2d_sigmoid\n",
    "from diffaux.disk_bulge_modeling.disk_bulge_kernels import (\n",
    "    calc_tform_pop,\n",
    "    _sigmoid,\n",
    "    _sigmoid_2d,\n",
    ")\n",
    "from diffaux.validation.plot_utilities import get_nrow_ncol\n",
    "\n",
    "# from diffsky.utils import _sigmoid\n",
    "\n",
    "ran_key = jran.key(0)"
   ]
  },
  {
   "cell_type": "code",
   "execution_count": null,
   "id": "f6134bd3-f925-4bb4-ab01-478e378ccea0",
   "metadata": {},
   "outputs": [],
   "source": [
    "halo_key, ran_key = jran.split(ran_key, 2)\n",
    "lgmp_min = 11.0\n",
    "redshift = 0.05\n",
    "Lbox = 75.0\n",
    "diffstar_cens = get_bulge_disk_test_sample(halo_key, lgmp_min=lgmp_min, redshift=redshift, Lbox=Lbox)"
   ]
  },
  {
   "cell_type": "code",
   "execution_count": null,
   "id": "e53c1d88-ef7b-487d-baef-071327c21b0c",
   "metadata": {},
   "outputs": [],
   "source": [
    "zvalues = [0.0, 0.5, 1.0, 1.5, 2.0, 2.5]\n",
    "redshifts = diffstar_cens[\"z_table\"]\n",
    "zindexes, zs = get_zindexes(zvalues, redshifts)"
   ]
  },
  {
   "cell_type": "markdown",
   "id": "cc7a2bbc-b561-406c-b48b-bcf1bb89daa2",
   "metadata": {},
   "source": [
    "## Fbulge Experiments"
   ]
  },
  {
   "cell_type": "code",
   "execution_count": null,
   "id": "a15c7976-8467-455c-9560-0eb555c71cab",
   "metadata": {},
   "outputs": [],
   "source": [
    "logMz0_min = 8.0\n",
    "logssfr_min = -16\n",
    "mass_mask = np.log10(diffstar_cens[\"smh\"][:, -1]) > logMz0_min\n",
    "sfr_mask = np.log10(diffstar_cens[\"sSFR\"][:, -1]) > logssfr_min\n",
    "mask = mass_mask & sfr_mask\n",
    "title = \"$M^*_{{z=0}} > 10^{{{:.1f}}} M_\\\\odot, sSFR > 10^{{{}}} yr^{{-1}}$\".format(logMz0_min, logssfr_min)\n",
    "xname = \"log_M0_min_{:.1f}_logssfr_min_{}\".format(logMz0_min, -logssfr_min)\n",
    "\n",
    "logsm = np.log10(diffstar_cens[\"smh\"])[mask]\n",
    "logssfr = np.log10(diffstar_cens[\"sSFR\"])[mask]"
   ]
  },
  {
   "cell_type": "code",
   "execution_count": null,
   "id": "a1dd16ad-834e-467d-8d48-23cd70ebd377",
   "metadata": {},
   "outputs": [],
   "source": [
    "from dsps.constants import SFR_MIN\n",
    "from diffstar.utils import cumulative_mstar_formed_galpop\n",
    "from diffaux.disk_bulge_modeling.disk_bulge_kernels import (\n",
    "    calc_tform_pop,\n",
    ")\n",
    "\n",
    "tarr = diffstar_cens[\"t_table\"]\n",
    "print(SFR_MIN)\n",
    "\n",
    "# calculate t10 and t90 exactly as in code\n",
    "sfh_pop = diffstar_cens[\"sfh\"]\n",
    "sfh_pop = np.where(sfh_pop < SFR_MIN, SFR_MIN, sfh_pop)\n",
    "smh_pop = cumulative_mstar_formed_galpop(tarr, sfh_pop)\n",
    "t10 = calc_tform_pop(tarr, smh_pop, 0.1)\n",
    "t90 = calc_tform_pop(tarr, smh_pop, 0.9)\n",
    "print(np.min(t10), np.max(t10), np.min(t90), np.max(t90))\n",
    "print(np.min(sfh_pop), np.max(sfh_pop), np.min(smh_pop), np.max(smh_pop))"
   ]
  },
  {
   "cell_type": "markdown",
   "id": "60502e0f-9f46-4f4f-8603-f14810fc814d",
   "metadata": {},
   "source": [
    "## 2d Sigmoid: Fbulge_early"
   ]
  },
  {
   "cell_type": "code",
   "execution_count": null,
   "id": "7cd07b40-1930-4eba-a410-77eceffe35ed",
   "metadata": {},
   "outputs": [],
   "source": [
    "# Try using sample logssfr0 and logsm0\n",
    "x0 = -10.0\n",
    "y0 = 10\n",
    "kx = 0.2\n",
    "ky = 0.2\n",
    "zmin = 1.0\n",
    "zmax = 0.2\n",
    "logsm0 = np.log10(diffstar_cens[\"smh\"][:, -1])\n",
    "logssfr0 = np.log10(diffstar_cens[\"sSFR\"][:, -1])\n",
    "fbulge_early = _sigmoid_2d(logssfr0, x0, logsm0, y0, kx, ky, zmin, zmax)\n",
    "print(fbulge_early.shape)\n",
    "\n",
    "plotdir = \"/Users/kovacs/cosmology/BulgeDisk/DiskBulgePlots\""
   ]
  },
  {
   "cell_type": "code",
   "execution_count": null,
   "id": "90e0d15e-a473-43c1-aca0-75d5a70d4951",
   "metadata": {},
   "outputs": [],
   "source": [
    "xs = [logsm0[mask], logssfr0[mask]]\n",
    "color_arrays = [logssfr0[mask], logsm0[mask]]\n",
    "\n",
    "plot_q_vs_xs_color_scatter(\n",
    "    fbulge_early[mask],\n",
    "    xs,\n",
    "    color_arrays,\n",
    "    \"fbulge_early\",\n",
    "    xname=xname,\n",
    "    title=title,\n",
    "    wspace=0.35,\n",
    "    N=2000,\n",
    "    plotdir=plotdir,\n",
    "    pltname=\"{}_vs_SFR_Mstar_{}_new.png\",\n",
    ")"
   ]
  },
  {
   "cell_type": "markdown",
   "id": "cf568c8e-de13-4302-a3ba-71a92e275f21",
   "metadata": {},
   "source": [
    "## 2d Sigmoid: Fbulge_late"
   ]
  },
  {
   "cell_type": "code",
   "execution_count": null,
   "id": "39ef2a7b-a616-407a-8581-c3a610e39f1f",
   "metadata": {},
   "outputs": [],
   "source": [
    "fbulge_late = _sigmoid_2d(logssfr0, x0, logsm0, y0, kx, ky, fbulge_early, zmax)\n",
    "print(fbulge_late.shape)"
   ]
  },
  {
   "cell_type": "code",
   "execution_count": null,
   "id": "638ede20-f8d6-4833-a763-9e76acf9ebcf",
   "metadata": {},
   "outputs": [],
   "source": [
    "plot_q_vs_xs_color_scatter(\n",
    "    fbulge_late[mask],\n",
    "    xs,\n",
    "    color_arrays,\n",
    "    \"fbulge_late\",\n",
    "    xname=xname,\n",
    "    title=title,\n",
    "    wspace=0.35,\n",
    "    N=2000,\n",
    "    plotdir=plotdir,\n",
    "    pltname=\"{}_vs_SFR_Mstar_{}_new.png\",\n",
    ")"
   ]
  },
  {
   "cell_type": "code",
   "execution_count": null,
   "id": "98632f49-1995-40fe-a0fa-5bcd07349504",
   "metadata": {},
   "outputs": [],
   "source": [
    "fs = [fbulge_late[mask], fbulge_late[mask]]\n",
    "flabels = [\"fbulge_late\", \"fbulge_late\"]\n",
    "plot_q_vs_xs_color_scatter(\n",
    "    fbulge_early[mask],\n",
    "    fs,\n",
    "    color_arrays,\n",
    "    \"fbulge_early_late\",\n",
    "    xname=xname,\n",
    "    title=title,\n",
    "    wspace=0.35,\n",
    "    xlabels=flabels,\n",
    "    N=2000,\n",
    "    plotdir=plotdir,\n",
    "    pltname=\"{}_vs_SFR_Mstar_{}_new.png\",\n",
    ")"
   ]
  },
  {
   "cell_type": "markdown",
   "id": "587dcf56-8319-4159-9714-fc4d1d07362e",
   "metadata": {},
   "source": [
    "## 2d sigmoid: tcrit_bulge"
   ]
  },
  {
   "cell_type": "code",
   "execution_count": null,
   "id": "6a6c3857-996a-4ae5-a1c3-c9ba10f92da3",
   "metadata": {},
   "outputs": [],
   "source": [
    "# For tcrit, use sigmoid\n",
    "km = 0.8\n",
    "kf = 0.5\n",
    "xf = -10.0\n",
    "xm = 10\n",
    "tcrit_bulge = _sigmoid_2d(logssfr0, xf, logsm0, xm, kf, km, t90, t10)\n",
    "print(tcrit_bulge.shape)"
   ]
  },
  {
   "cell_type": "code",
   "execution_count": null,
   "id": "0602b013-9554-4ece-aa3d-a05e2f722dfe",
   "metadata": {},
   "outputs": [],
   "source": [
    "plot_q_vs_xs_color_scatter(\n",
    "    tcrit_bulge[mask],\n",
    "    xs,\n",
    "    color_arrays,\n",
    "    \"tcrit_bulge\",\n",
    "    xname=xname,\n",
    "    title=title,\n",
    "    wspace=0.35,\n",
    "    N=3000,\n",
    "    plotdir=plotdir,\n",
    "    pltname=\"{}_vs_SFR_Mstar_{}_new.png\",\n",
    ")"
   ]
  },
  {
   "cell_type": "code",
   "execution_count": null,
   "id": "2e9cf0e6-e0f6-4f93-8cd0-76e57f438583",
   "metadata": {},
   "outputs": [],
   "source": [
    "ts = [t10[mask], t10[mask]]\n",
    "tlabels = [\"t10\", \"t10\"]\n",
    "plot_q_vs_xs_color_scatter(\n",
    "    tcrit_bulge[mask],\n",
    "    ts,\n",
    "    color_arrays,\n",
    "    \"tcrit_bulge\",\n",
    "    xname=xname,\n",
    "    title=title,\n",
    "    wspace=0.35,\n",
    "    xlabels=tlabels,\n",
    "    N=3000,\n",
    "    plotdir=plotdir,\n",
    "    pltname=\"{}_vs_t10_{}_new.png\",\n",
    ")"
   ]
  },
  {
   "cell_type": "code",
   "execution_count": null,
   "id": "29287c09-5bd2-4a06-9bea-45074bd1dc17",
   "metadata": {},
   "outputs": [],
   "source": [
    "ts = [t90[mask], t90[mask]]\n",
    "tlabels = [\"t90\", \"t90\"]\n",
    "plot_q_vs_xs_color_scatter(\n",
    "    tcrit_bulge[mask],\n",
    "    ts,\n",
    "    color_arrays,\n",
    "    \"tcrit_bulge\",\n",
    "    xname=xname,\n",
    "    title=title,\n",
    "    wspace=0.35,\n",
    "    xlabels=tlabels,\n",
    "    N=3000,\n",
    "    plotdir=plotdir,\n",
    "    pltname=\"{}_vs_t90_{}_new.png\",\n",
    ")"
   ]
  },
  {
   "cell_type": "code",
   "execution_count": null,
   "id": "289df59b-97b3-48bb-b5af-792a60c925b9",
   "metadata": {},
   "outputs": [],
   "source": [
    "# Put this together into a new generate_fbulge_parameters\n",
    "# No stocastcity yet\n",
    "from diffaux.disk_bulge_modeling.mc_disk_bulge import DEFAULT_FBULGEPARAMS\n",
    "\n",
    "print(DEFAULT_FBULGEPARAMS)\n",
    "print(DEFAULT_FBULGEPARAMS.tcrit_logsm0_k)"
   ]
  },
  {
   "cell_type": "code",
   "execution_count": null,
   "id": "8c7afe1e-5a66-4a36-91c3-4ef6111a1842",
   "metadata": {},
   "outputs": [],
   "source": [
    "fbulge_key, ran_key = jran.split(ran_key, 2)\n",
    "fbulge_params = generate_fbulge_parameters_2d_sigmoid(\n",
    "    ran_key, logsm0, logssfr0, t10, t90, DEFAULT_FBULGEPARAMS\n",
    ")\n",
    "print(fbulge_params.shape)"
   ]
  },
  {
   "cell_type": "code",
   "execution_count": null,
   "id": "31079d64-827a-4ae2-a867-13efef1c7d75",
   "metadata": {},
   "outputs": [],
   "source": []
  }
 ],
 "metadata": {
  "kernelspec": {
   "display_name": "diffaux",
   "language": "python",
   "name": "diffaux"
  },
  "language_info": {
   "codemirror_mode": {
    "name": "ipython",
    "version": 3
   },
   "file_extension": ".py",
   "mimetype": "text/x-python",
   "name": "python",
   "nbconvert_exporter": "python",
   "pygments_lexer": "ipython3",
   "version": "3.12.7"
  }
 },
 "nbformat": 4,
 "nbformat_minor": 5
}
