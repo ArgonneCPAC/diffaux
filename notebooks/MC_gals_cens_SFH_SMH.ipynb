{
 "cells": [
  {
   "cell_type": "code",
   "execution_count": null,
   "id": "6969f4ee-0d62-4c18-a1ac-3cf116f84aa3",
   "metadata": {},
   "outputs": [],
   "source": [
    "from jax import random as jran\n",
    "\n",
    "ran_key = jran.key(0)"
   ]
  },
  {
   "cell_type": "markdown",
   "id": "61960f51-e424-4a3c-9465-90588081609c",
   "metadata": {},
   "source": [
    "## Generate Monte Carlo subhalo catalog and SFHs"
   ]
  },
  {
   "cell_type": "code",
   "execution_count": null,
   "id": "073bcb88-a962-4151-8be8-acb3a45a73ad",
   "metadata": {},
   "outputs": [],
   "source": [
    "from diffsky.mc_diffsky import mc_diffstar_galpop, mc_diffstar_cenpop\n",
    "\n",
    "halo_key, ran_key = jran.split(ran_key, 2)\n",
    "\n",
    "lgmp_min = 11.0\n",
    "redshift = 0.05\n",
    "Lbox = 100.0\n",
    "volume_com = Lbox**3\n",
    "args = (ran_key, redshift, lgmp_min, volume_com)\n",
    "diffstar_data = mc_diffstar_galpop(*args, return_internal_quantities=True)\n",
    "diffstar_cens = mc_diffstar_cenpop(*args, return_internal_quantities=True)"
   ]
  },
  {
   "cell_type": "code",
   "execution_count": null,
   "id": "896a0b43-f004-4d66-90d8-46a4471a6e72",
   "metadata": {},
   "outputs": [],
   "source": [
    "print(diffstar_data.keys())\n",
    "print(diffstar_data[\"subcat\"]._fields)\n",
    "print(diffstar_cens.keys())\n",
    "print(diffstar_cens[\"subcat\"]._fields)\n",
    "print(diffstar_data[\"subcat\"].mah_params._fields)"
   ]
  },
  {
   "cell_type": "code",
   "execution_count": null,
   "id": "598f0b8c-6816-4656-9269-7347c3cd6253",
   "metadata": {},
   "outputs": [],
   "source": [
    "subcat = diffstar_data[\"subcat\"]\n",
    "import matplotlib.pyplot as plt\n",
    "import numpy as np\n",
    "for subcat, l  in zip([diffstar_data[\"subcat\"], diffstar_cens[\"subcat\"]],\n",
    "                     ['gals', 'cens']):\n",
    "    fig, ax = plt.subplots(1, 1, figsize=(6, 4))\n",
    "    yscale = ax.set_yscale('log')\n",
    "    __=ax.hist(subcat.logmp0, bins=np.linspace(11, 15, 40))\n",
    "    ax.set_xlabel('$M_{p0}$')\n",
    "    fig.suptitle(l)\n",
    "    plt.savefig('MC_logmp0_{}.png'.format(l))"
   ]
  },
  {
   "cell_type": "code",
   "execution_count": null,
   "id": "80c3af1b-bfcb-4c66-b28f-08a8135130fa",
   "metadata": {},
   "outputs": [],
   "source": [
    "#Plot some input and output distributions\n",
    "for subcat, l in zip([diffstar_data[\"subcat\"], diffstar_cens[\"subcat\"]],\n",
    "                     ['gals', 'cens']):\n",
    "    fig, ax_all = plt.subplots(1, len(subcat.mah_params), figsize=(18, 3))\n",
    "    for ax, par, xlbl in zip(ax_all.flat, subcat.mah_params, subcat.mah_params._fields):\n",
    "        __ = ax.hist(par, bins=50)\n",
    "        ax.set_xlabel(xlbl)\n",
    "    fig.suptitle(l)\n",
    "    plt.savefig('MC_mah_params_{}.png'.format(l))\n",
    "#print(len(subcat.mah_params[0]), len(subcat.logmp0))"
   ]
  },
  {
   "cell_type": "code",
   "execution_count": null,
   "id": "5ac09a90-586e-4a3d-adee-083186342409",
   "metadata": {},
   "outputs": [],
   "source": [
    "from diffmah import mah_halopop\n",
    "import matplotlib.cm as cm"
   ]
  },
  {
   "cell_type": "code",
   "execution_count": null,
   "id": "80e7cdae-e32a-4964-9788-1cd0c18be316",
   "metadata": {},
   "outputs": [],
   "source": [
    "for subcat, l, t_table in zip([diffstar_data[\"subcat\"], diffstar_cens[\"subcat\"]],\n",
    "                ['gals', 'cens'], [diffstar_data[\"t_table\"], diffstar_cens[\"t_table\"]]):\n",
    "    logt0 = np.log10(t_table[-1])\n",
    "    dmhdt, log_mah = mah_halopop(subcat.mah_params, t_table, logt0)\n",
    "    colors=cm.coolwarm(np.linspace(1, 0, len(subcat.logmp0)))\n",
    "    fig, ax = plt.subplots(1, 1, figsize=(6, 4))\n",
    "    __=ax.loglog()\n",
    "    step = 100\n",
    "    for logmah, c in zip(log_mah[::step], colors[::step]):\n",
    "        __=ax.plot(t_table, 10**logmah, color=c)\n",
    "    fig.suptitle(l)\n",
    "    plt.savefig('MC_MAH_{}.png'.format(l))"
   ]
  },
  {
   "cell_type": "code",
   "execution_count": null,
   "id": "08474192-1352-4352-b48d-f7b5bd4de7ca",
   "metadata": {},
   "outputs": [],
   "source": [
    "for subcat, lbl in zip([diffstar_data[\"subcat\"], diffstar_cens[\"subcat\"]],\n",
    "                    ['gals', 'cens']):\n",
    "\n",
    "    logmu_infall = subcat.logmp_ult_inf - subcat.logmhost_ult_inf\n",
    "    qs = [logmu_infall, subcat.logmhost_ult_inf, subcat.t_ult_inf]\n",
    "    labels = ('logmu_infall', 'logmhost_ult_inf', 't_ult_inf')\n",
    "    fig, ax_all = plt.subplots(1, len(qs), figsize=(15, 4))\n",
    "    for ax, q, l in zip(ax_all.flat, qs, labels):\n",
    "        __ = ax.hist(q, bins=50)\n",
    "        ax.set_xlabel(l)\n",
    "    fig.suptitle(lbl)\n",
    "    plt.savefig('MC_logmu_logmhost_t_ult_{}.png'.format(lbl))"
   ]
  },
  {
   "cell_type": "markdown",
   "id": "8f4e6a3b-68ee-4685-a3f7-640c3d1ce869",
   "metadata": {},
   "source": [
    "## Check Monte Carlo star formation histories"
   ]
  },
  {
   "cell_type": "code",
   "execution_count": null,
   "id": "5ac8cf6d-4747-4a6a-aaf5-6a9ef784df31",
   "metadata": {},
   "outputs": [],
   "source": [
    "for frac_q, sfh_params, lbl in zip([diffstar_data[\"frac_q\"], diffstar_cens[\"frac_q\"]],\n",
    "                                   [diffstar_data[\"sfh_params\"], diffstar_cens[\"sfh_params\"]],\n",
    "                                   ['gals', 'cens']):\n",
    "    #print(sfh_params.ms_params._fields, sfh_params.q_params._fields )\n",
    "    q_ms = [getattr(sfh_params.ms_params, f) for f in sfh_params.ms_params._fields]\n",
    "    q_q = [getattr(sfh_params.q_params, f) for f in sfh_params.q_params._fields]\n",
    "    labels = ['frac_q'] + list(sfh_params.ms_params._fields) + list(sfh_params.q_params._fields)\n",
    "    qs = [frac_q] + q_ms + q_q\n",
    "    print(lbl, len(frac_q), np.min(frac_q), np.max(frac_q))\n",
    "\n",
    "    ncol = int(len(qs)/2)\n",
    "    fig, ax_all = plt.subplots(2, ncol, figsize=(5*ncol, 10))\n",
    "    for ax, q, l in zip(ax_all.flat, qs, labels):\n",
    "        print(l, np.min(q), np.max(q))\n",
    "        bins = np.linspace(np.min(q), np.max(q), num=50) if np.min(q) < np.max(q) else 50\n",
    "        __ = ax.hist(q, bins=bins)\n",
    "        ax.set_xlabel(l)\n",
    "    fig.suptitle(lbl)\n",
    "    plt.savefig('MC_sfh_params_{}.png'.format(lbl))"
   ]
  },
  {
   "cell_type": "code",
   "execution_count": null,
   "id": "89b51036-339a-413c-bb89-8c43a6b8d6ce",
   "metadata": {},
   "outputs": [],
   "source": [
    "print(diffstar_data[\"sfh\"].shape, diffstar_cens[\"sfh\"].shape)\n"
   ]
  },
  {
   "cell_type": "code",
   "execution_count": null,
   "id": "92d34010-dacd-40ca-8607-8366e6f14c38",
   "metadata": {},
   "outputs": [],
   "source": [
    "for sfh, smh, t_table, l in zip([diffstar_data[\"sfh\"], diffstar_cens[\"sfh\"]],\n",
    "                               [diffstar_data[\"smh\"], diffstar_cens[\"smh\"]],\n",
    "                               [diffstar_data[\"t_table\"], diffstar_cens[\"t_table\"]],\n",
    "                               ['gals', 'cens']):\n",
    "\n",
    "    fig, ax_all = plt.subplots(1, 2, figsize=(9, 4))\n",
    "    step = 300\n",
    "    for ax, tab, label in zip(ax_all.flat, [sfh, smh], ['SFR', 'M*']):\n",
    "        colors=cm.coolwarm(np.linspace(1, 0, len(tab)))\n",
    "        for t, c in zip(tab[::step], colors[::step]):\n",
    "            __=ax.plot(t_table, t, color=c)\n",
    "        ax.set_ylabel(label)\n",
    "        ax.set_xlabel('$t$')\n",
    "    fig.suptitle(l)\n",
    "    plt.savefig('SFH_{}_step_{}.png'.format(l, step))"
   ]
  },
  {
   "cell_type": "code",
   "execution_count": null,
   "id": "c4390a7a-e682-4dfe-9ffb-5e8015ac8d7a",
   "metadata": {},
   "outputs": [],
   "source": []
  },
  {
   "cell_type": "code",
   "execution_count": null,
   "id": "cc8345b9-a9d2-4e5d-b02c-08ad2aabe83d",
   "metadata": {},
   "outputs": [],
   "source": []
  }
 ],
 "metadata": {
  "kernelspec": {
   "display_name": "diffaux",
   "language": "python",
   "name": "diffaux"
  },
  "language_info": {
   "codemirror_mode": {
    "name": "ipython",
    "version": 3
   },
   "file_extension": ".py",
   "mimetype": "text/x-python",
   "name": "python",
   "nbconvert_exporter": "python",
   "pygments_lexer": "ipython3",
   "version": "3.12.7"
  }
 },
 "nbformat": 4,
 "nbformat_minor": 5
}
