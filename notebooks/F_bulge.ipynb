{
 "cells": [
  {
   "cell_type": "code",
   "execution_count": null,
   "id": "3158f6f1-3dab-486f-8765-934057bfc42e",
   "metadata": {},
   "outputs": [],
   "source": [
    "import os\n",
    "from diffaux.disk_bulge_modeling.generate_bulge_disk_sample import (\n",
    "    get_bulge_disk_test_sample,\n",
    "    get_bulge_disk_decomposition,\n",
    "    get_zindexes,\n",
    ")\n",
    "from jax import random as jran\n",
    "import numpy as np\n",
    "import jax.numpy as jnp\n",
    "import matplotlib.cm as cm\n",
    "import matplotlib.pyplot as plt\n",
    "from itertools import zip_longest\n",
    "\n",
    "ran_key = jran.key(0)"
   ]
  },
  {
   "cell_type": "code",
   "execution_count": null,
   "id": "39fba11e-f3b8-4ffe-9578-b96afa3e7f3e",
   "metadata": {},
   "outputs": [],
   "source": [
    "halo_key, ran_key = jran.split(ran_key, 2)\n",
    "lgmp_min = 11.0\n",
    "redshift = 0.05\n",
    "Lbox = 100.0\n",
    "diffstar_cens = get_bulge_disk_test_sample(halo_key, lgmp_min=lgmp_min, redshift=redshift, Lbox=Lbox)"
   ]
  },
  {
   "cell_type": "markdown",
   "id": "e458f489-e909-4f3a-9888-0811b8457fc9",
   "metadata": {},
   "source": [
    "## logsm0 Bug-fixed Version"
   ]
  },
  {
   "cell_type": "code",
   "execution_count": null,
   "id": "4669dbfc-d3ab-4769-87a1-506d86f0f1c1",
   "metadata": {},
   "outputs": [],
   "source": [
    "disk_bulge_key, ran_key = jran.split(ran_key, 2)\n",
    "diffstar_cens = get_bulge_disk_decomposition(disk_bulge_key, diffstar_cens, new_model=False)\n",
    "print(diffstar_cens.keys())\n",
    "for q in ['tcrit_bulge', 'fbulge_early', 'fbulge_late']:\n",
    "    print(q, diffstar_cens[q].shape)"
   ]
  },
  {
   "cell_type": "code",
   "execution_count": null,
   "id": "2fd75f9c-e7e2-4677-809c-a003257f871d",
   "metadata": {},
   "outputs": [],
   "source": [
    "from dsps.constants import SFR_MIN\n",
    "from diffaux.disk_bulge_modeling.disk_bulge_kernels import (\n",
    "    calc_tform_pop,\n",
    "    _bulge_fraction_vs_tform,\n",
    "    _bulge_fraction_kernel,\n",
    ")\n",
    "from diffaux.validation.plot_utilities import get_nrow_ncol, get_subsample\n",
    "\n",
    "zvalues = [0.0, 0.5, 1.0, 1.5, 2.0, 2.5]\n",
    "redshifts = diffstar_cens[\"z_table\"]\n",
    "zindexes, zs = get_zindexes(zvalues, redshifts)\n",
    "\n",
    "from diffaux.validation.plot_disk_bulge import (\n",
    "    plot_qs_nocuts,\n",
    "    plot_histories,\n",
    "    plot_q_with_cuts,\n",
    "    plot_q1_q2,\n",
    "    plot_q1_vs_q2,\n",
    "    plot_q_vs_q_x_at_z_scatter,\n",
    "    plot_q_vs_qx_at_z_profile,\n",
    "    plot_eff_sigmoids,\n",
    ")\n",
    "\n",
    "plotdir = \"/Users/kovacs/cosmology/BulgeDisk/DiskBulgePlots\""
   ]
  },
  {
   "cell_type": "code",
   "execution_count": null,
   "id": "98ca45cf-0d5a-4d1d-8333-62944c2e2afa",
   "metadata": {},
   "outputs": [],
   "source": [
    "logMz0_min = 8.0\n",
    "logssfr_min = -16\n",
    "mass_mask = np.log10(diffstar_cens[\"smh\"][:, -1]) > logMz0_min\n",
    "sfr_mask = np.log10(diffstar_cens[\"sSFR\"][:, -1]) > logssfr_min\n",
    "mask = mass_mask & sfr_mask\n",
    "title = \"$M^*_{{z=0}} > 10^{{{:.1f}}} M_\\\\odot, sSFR > 10^{{{}}} yr^{{-1}}$\".format(logMz0_min, logssfr_min)\n",
    "xname = \"log_M0_min_{:.1f}_logssfr_min_{}\".format(logMz0_min, -logssfr_min)\n",
    "print(diffstar_cens[\"eff_bulge\"][mass_mask].shape)\n",
    "\n",
    "qs = [diffstar_cens['fbulge_early'][mass_mask], diffstar_cens['fbulge_late'][mass_mask]]\n",
    "ylabels = ['fbulge_early', 'fbulge_late']"
   ]
  },
  {
   "cell_type": "code",
   "execution_count": null,
   "id": "58977337-3409-4a1d-ac54-6796c47448ec",
   "metadata": {},
   "outputs": [],
   "source": [
    "for q, ylabel in zip(qs, ylabels):\n",
    "    plot_q_vs_q_x_at_z_scatter(q, diffstar_cens['tcrit_bulge'][mass_mask], ylabel, \n",
    "              diffstar_cens[\"eff_bulge\"][mass_mask], zindexes, zs,\n",
    "              cbar_title=\"$\\\\epsilon_{bulge}$\",\n",
    "              title=title,\n",
    "              xname=xname,\n",
    "              N=2000, plotdir=plotdir,\n",
    "              xlabel=\"tcrit_bulge\",\n",
    "              plotsubdir='Fbulge',\n",
    "              pltname=\"{}_vs_tcrit_bulge_{}.png\",\n",
    ")"
   ]
  },
  {
   "cell_type": "code",
   "execution_count": null,
   "id": "83fbec91-0e22-43a2-b9c1-c9fda0fc37a0",
   "metadata": {},
   "outputs": [],
   "source": [
    "plot_q_vs_q_x_at_z_scatter(diffstar_cens['fbulge_late'][mass_mask], diffstar_cens['fbulge_early'][mass_mask], 'fbulge_late', \n",
    "              diffstar_cens[\"eff_bulge\"][mass_mask], zindexes, zs,\n",
    "              cbar_title=\"$\\\\epsilon_{bulge}$\",\n",
    "              title=title,\n",
    "              xname=xname,\n",
    "              N=2000, plotdir=plotdir,\n",
    "              plotsubdir='Fbulge',\n",
    "              xlabel=\"fbulge_early\",\n",
    "              pltname=\"{}_vs_fbulge_early_{}.png\",\n",
    ")"
   ]
  },
  {
   "cell_type": "code",
   "execution_count": null,
   "id": "dd5e03d8-26ef-4dcd-82d8-841d2dad70f5",
   "metadata": {},
   "outputs": [],
   "source": [
    "Df = diffstar_cens['fbulge_early'][mass_mask] - diffstar_cens['fbulge_late'][mass_mask]\n",
    "plot_q_vs_q_x_at_z_scatter(Df, diffstar_cens['tcrit_bulge'][mass_mask],\n",
    "                           'dfbulge', \n",
    "              diffstar_cens[\"eff_bulge\"][mass_mask], zindexes, zs,\n",
    "              cbar_title=\"$\\\\epsilon_{bulge}$\",\n",
    "              title=title,\n",
    "              xname=xname,\n",
    "              N=2000, plotdir=plotdir,\n",
    "              xlabel=\"tcrit_bulge\",\n",
    "              plotsubdir='Fbulge',\n",
    "              pltname=\"{}_vs_tcrit_bulge_{}.png\",\n",
    ")"
   ]
  },
  {
   "cell_type": "code",
   "execution_count": null,
   "id": "3a3f4eb1-2735-4a96-80dc-4b5ce3f7a662",
   "metadata": {},
   "outputs": [],
   "source": [
    "#eff_bulge = _bulge_fraction_vs_tform(tarr, t10, t90, fbulge_params)\n",
    "#        dt = t90 - t10\n",
    "#          = _bulge_fraction_kernel(tarr, fbulge_tcrit, fbulge_early, fbulge_late, dt)\n",
    "#          \n",
    "#        tw_h = dt / 6.0\n",
    "# _bulge_fraction_kernel(t, thalf, frac_early, frac_late, dt) = _tw_sigmoid(t, thalf, tw_h, frac_early, frac_late)\n",
    "# \n",
    "# Putting call sequence together:\n",
    "#        eff_bulge = _tw_sigmoid(tarr, fbulge_tcrit, dt/6, fbulge_early, fbulge_late)\n",
    "# \n",
    "# tri-weight sigmoid is approximation to sigmoid \n",
    "# tri-wt sigmoid =   _tw_sigmoid(x, x0, tw_h, ymin, ymax)\n",
    "# cf  _sigmoid(x, x0, k, ymin, ymax)"
   ]
  },
  {
   "cell_type": "code",
   "execution_count": null,
   "id": "328eefce-5734-49fe-bfd5-1a21c713b1f9",
   "metadata": {},
   "outputs": [],
   "source": [
    "#Try an example to see how fbulge_params determine eff_bulge\n",
    "# Look at t10, t90 and dt distributions\n",
    "tarr = diffstar_cens[\"t_table\"]\n",
    "smh_pop = diffstar_cens[\"smh\"][mass_mask]\n",
    "t10 = calc_tform_pop(tarr, smh_pop, 0.1)\n",
    "t90 = calc_tform_pop(tarr, smh_pop, 0.9)\n",
    "dt = (t90 - t10)\n",
    "tcrit = diffstar_cens[\"tcrit_bulge\"][mass_mask]\n",
    "early = diffstar_cens[\"fbulge_early\"][mass_mask]\n",
    "late = diffstar_cens[\"fbulge_late\"][mass_mask]\n",
    "print(t90.shape, dt.shape, tcrit.shape, early.shape)"
   ]
  },
  {
   "cell_type": "code",
   "execution_count": null,
   "id": "aa2a0b65-9379-46e7-8319-67ece4d658e2",
   "metadata": {},
   "outputs": [],
   "source": [
    "qs = [t10, t90, dt, tcrit, early, late]\n",
    "ylabels = ['t10', 't90', 'dt', 'fbulge_{tcrit}', 'fbulge_{early}', 'fbulge_{late}']\n",
    "logM_min = 7.0\n",
    "logM_max = 11.5\n",
    "Nm = 36\n",
    "Mbins = np.linspace(logM_min, logM_max, Nm+1)\n",
    "#print(Mbins)"
   ]
  },
  {
   "cell_type": "code",
   "execution_count": null,
   "id": "561d794d-13d3-40a6-938c-88e277ad06be",
   "metadata": {},
   "outputs": [],
   "source": [
    "plot_q_vs_qx_at_z_profile(qs, jnp.log10(diffstar_cens['smh'])[mass_mask], ylabels, \n",
    "              zindexes, zs, bins=Mbins,\n",
    "              title=title,\n",
    "              xname=xname,\n",
    "              plotdir=plotdir,\n",
    "              pltname=\"t10_90_dt_fbulge_vs_log_Mz_{}.png\",\n",
    "              plotsubdir='Fbulge',\n",
    ")"
   ]
  },
  {
   "cell_type": "code",
   "execution_count": null,
   "id": "adf8a02a-743f-4aab-9f34-8fd2b02cfda1",
   "metadata": {},
   "outputs": [],
   "source": [
    "logsSFR_min = -16\n",
    "logsSFR_max = -8\n",
    "Ns = 32\n",
    "sbins = np.linspace(logsSFR_min, logsSFR_max, Ns +1)\n",
    "\n",
    "plot_q_vs_qx_at_z_profile(qs, jnp.log10(diffstar_cens['sSFR'])[mass_mask], ylabels, \n",
    "              zindexes, zs, bins=sbins,\n",
    "              title=title, \n",
    "              xname=xname, xlabel='$\\\\log_{10}(sSFR*yr)$',\n",
    "              plotdir=plotdir,\n",
    "              plotsubdir='Fbulge',\n",
    "              pltname=\"t10_90_dt_fbulge_vs_log_sSFR_{}.png\",\n",
    "              colors=('b', 'g', 'c', 'r', 'darkorange', 'm'),\n",
    ")"
   ]
  },
  {
   "cell_type": "code",
   "execution_count": null,
   "id": "db075520-ca89-4645-845f-99fe349425e5",
   "metadata": {},
   "outputs": [],
   "source": [
    "import itertools\n",
    "FBULGE_MIN = 0.25\n",
    "FBULGE_MAX = 0.85\n",
    "Npts = 3\n",
    "Nt = 3\n",
    "f_e_init =  np.linspace(FBULGE_MIN, FBULGE_MAX, Npts+1)\n",
    "f_tcrit = np.linspace(1.0, 13.0, Nt+1)\n",
    "Dt = np.linspace(2., 8., Nt-1)\n",
    "Df_max=0.5\n",
    "DF = np.linspace(0.05, Df_max, 3)\n",
    "# generate pairs of typical f_early and f_late values\n",
    "f_late=[]\n",
    "f_early=[]\n",
    "for e in f_e_init:\n",
    "    late = np.asarray([(e - df) for df in DF if e-df > 0])\n",
    "    early = np.ones(len(late))*e \n",
    "    f_late.append(late)\n",
    "    f_early.append(early)\n",
    "\n",
    "f_late = np.asarray(list(itertools.chain.from_iterable(f_late)))\n",
    "f_early = np.asarray(list(itertools.chain.from_iterable(f_early)))\n",
    "print(f_late)\n",
    "print(f_early)"
   ]
  },
  {
   "cell_type": "code",
   "execution_count": null,
   "id": "662c6515-f0c7-41cc-a91d-856dd6b786b5",
   "metadata": {},
   "outputs": [],
   "source": [
    "plot_eff_sigmoids(tarr, f_tcrit, f_early, f_late, Dt, plotdir=plotdir,\n",
    "                 )"
   ]
  },
  {
   "cell_type": "code",
   "execution_count": null,
   "id": "7f4a92a0-8f87-45f3-a756-d6133eca8770",
   "metadata": {},
   "outputs": [],
   "source": []
  }
 ],
 "metadata": {
  "kernelspec": {
   "display_name": "diffaux",
   "language": "python",
   "name": "diffaux"
  },
  "language_info": {
   "codemirror_mode": {
    "name": "ipython",
    "version": 3
   },
   "file_extension": ".py",
   "mimetype": "text/x-python",
   "name": "python",
   "nbconvert_exporter": "python",
   "pygments_lexer": "ipython3",
   "version": "3.12.7"
  }
 },
 "nbformat": 4,
 "nbformat_minor": 5
}
