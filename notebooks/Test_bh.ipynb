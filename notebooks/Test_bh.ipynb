{
 "cells": [
  {
   "cell_type": "code",
   "execution_count": null,
   "id": "a3e7bbe8-5ac5-48c2-b8dd-295485cd7454",
   "metadata": {},
   "outputs": [],
   "source": [
    "import os\n",
    "from diffsky.experimental.disk_bulge_modeling.generate_bulge_disk_sample import (\n",
    "    get_bulge_disk_test_sample,\n",
    "    get_bulge_disk_decomposition,\n",
    ")\n",
    "from diffsky.experimental.disk_bulge_modeling.disk_bulge_kernels import (\n",
    "    get_observed_quantity_pop,\n",
    ")\n",
    "\n",
    "from diffaux.validation.plot_utilities import (\n",
    "    get_zindexes,\n",
    ")\n",
    "from diffaux.black_hole_modeling.black_hole_mass import (\n",
    "    bh_mass_from_bulge_mass,\n",
    "    monte_carlo_black_hole_mass,\n",
    ")\n",
    "from diffaux.black_hole_modeling.black_hole_accretion_rate import (\n",
    "    eddington_ratio_distribution,\n",
    "    monte_carlo_eddington_ratio,\n",
    "    monte_carlo_bh_acc_rate,\n",
    ")\n",
    "from jax import random as jran\n",
    "import numpy as np\n",
    "import jax.numpy as jnp\n",
    "import matplotlib.pyplot as plt\n",
    "import numpy as np\n",
    "from collections import OrderedDict, namedtuple\n",
    "from itertools import zip_longest"
   ]
  },
  {
   "cell_type": "code",
   "execution_count": null,
   "id": "62d25b1f-95ab-4c16-944b-c93dcd262f2b",
   "metadata": {},
   "outputs": [],
   "source": [
    "ran_key = jran.key(0)\n",
    "halo_key, ran_key = jran.split(ran_key, 2)\n",
    "lgmp_min = 11.0\n",
    "redshift = 0.05\n",
    "Lbox = 75.0\n",
    "diffstar_cens = get_bulge_disk_test_sample(halo_key, lgmp_min=lgmp_min, redshift=redshift, Lbox=Lbox)\n",
    "print(list(diffstar_cens.keys()))"
   ]
  },
  {
   "cell_type": "code",
   "execution_count": null,
   "id": "83f38fbf-253a-4428-adca-f20f3bdc393f",
   "metadata": {},
   "outputs": [],
   "source": [
    "zvalues = [0.0, 0.5, 1.0, 1.5, 2.0, 2.5]\n",
    "redshifts = diffstar_cens[\"z_table\"]\n",
    "zindexes, zs = get_zindexes(zvalues, redshifts)"
   ]
  },
  {
   "cell_type": "code",
   "execution_count": null,
   "id": "c1f8859d-8d3e-449b-a245-15cce36cf3c7",
   "metadata": {},
   "outputs": [],
   "source": [
    "disk_bulge_key, ran_key = jran.split(ran_key, 2)\n",
    "diffstar_cens = get_bulge_disk_decomposition(disk_bulge_key, diffstar_cens)\n",
    "print(diffstar_cens.keys())"
   ]
  },
  {
   "cell_type": "code",
   "execution_count": null,
   "id": "b94f6484-78f5-481a-bb6b-7ae3fa981a87",
   "metadata": {},
   "outputs": [],
   "source": [
    "# compute bulge mass at t_obs\n",
    "tarr = diffstar_cens['t_table']\n",
    "print(diffstar_cens['t_obs'])\n",
    "tobs = jnp.full(len(diffstar_cens['logsm_obs']), diffstar_cens['t_obs'])\n",
    "print(tarr.shape, tobs.shape, diffstar_cens['smh_bulge'].shape)\n",
    "bulge_sm_obs = get_observed_quantity_pop(tobs, tarr, diffstar_cens['smh_bulge'])\n",
    "print(np.log10(np.min(bulge_sm_obs)), np.log10(np.max(bulge_sm_obs)))"
   ]
  },
  {
   "cell_type": "code",
   "execution_count": null,
   "id": "ebfb2ef6-0872-4049-9517-637b6a2c2998",
   "metadata": {},
   "outputs": [],
   "source": [
    "bh_mass =  bh_mass_from_bulge_mass(bulge_sm_obs)"
   ]
  },
  {
   "cell_type": "code",
   "execution_count": null,
   "id": "54d23e9d-d436-47e0-a384-88fc0a62593a",
   "metadata": {},
   "outputs": [],
   "source": [
    "bh_key, ran_key = jran.split(ran_key, 2)\n",
    "bh_mass_mc = monte_carlo_black_hole_mass(bulge_sm_obs, bh_key)\n",
    "print(np.log10(np.min(bh_mass_mc)), np.log10(np.max(bh_mass_mc)))"
   ]
  },
  {
   "cell_type": "code",
   "execution_count": null,
   "id": "3062c1ac-62f8-4079-b034-508a2a59554b",
   "metadata": {},
   "outputs": [],
   "source": [
    "plotdir = \"/Users/kovacs/cosmology/BlackHole/Plots\"\n",
    "nrow = 1\n",
    "ncol = 2\n",
    "from scipy.stats import binned_statistic\n",
    "bins = np.logspace(7.5, 11.5, 32)\n",
    "bulge_mean, _, _ = binned_statistic(bulge_sm_obs, bulge_sm_obs, statistic='mean', bins=bins)\n",
    "bh_mean, _, _ = binned_statistic(bulge_sm_obs, bh_mass, statistic='mean', bins=bins)\n",
    "bh_mean_mc, _, _ =  binned_statistic(bulge_sm_obs, bh_mass_mc, statistic='mean', bins=bins)\n",
    "bh_std, _, _ =  binned_statistic(bulge_sm_obs, bh_mass_mc, statistic='std', bins=bins)\n",
    "\n",
    "fig, ax_all = plt.subplots(nrow, ncol, figsize=(5 * ncol, 4 * nrow))\n",
    "labels = ('Kormendy & Ho (2013)', 'MC realization')\n",
    "for ax, bhm, label in zip(ax_all, (bh_mean, bh_mean_mc), labels):\n",
    "    ax.loglog(bulge_mean, bhm, label=label)\n",
    "    ax.set_xlabel('$M*_{bulge}$')\n",
    "    ax.set_ylabel('$M_{BH}$')\n",
    "    ax.legend(loc='best')\n",
    "    if 'MC' in label:\n",
    "        ax.fill_between(bulge_mean, bh_mean_mc-bh_std, bh_mean_mc+bh_std, alpha=0.4)\n",
    "\n",
    "fn = os.path.join(plotdir, 'BH_mass_vs_bulge_mass_model.png')\n",
    "plt.savefig(fn)\n",
    "print('Saving {}'.format(fn))\n"
   ]
  },
  {
   "cell_type": "code",
   "execution_count": null,
   "id": "25b701e3-e615-4f1c-886e-bc26ff164cab",
   "metadata": {},
   "outputs": [],
   "source": [
    "# Test Eddington\n",
    "rate_table, prob_table = eddington_ratio_distribution(redshift)\n",
    "print(rate_table.shape, prob_table.shape)"
   ]
  },
  {
   "cell_type": "code",
   "execution_count": null,
   "id": "2481ddc5-cb99-47ba-a6ca-bb931f994c31",
   "metadata": {},
   "outputs": [],
   "source": [
    "zs = np.linspace(.05, 5.05, 11)\n",
    "#print(zs)\n",
    "nrow = 1\n",
    "ncol = 1\n",
    "fig, ax = plt.subplots(nrow, ncol, figsize=(5 * ncol, 4 * nrow))\n",
    "for z in zs:\n",
    "    rate_table, prob_table = eddington_ratio_distribution(z)\n",
    "    ax.plot(rate_table, prob_table, label='z = {:.2f}'.format(z))\n",
    "    \n",
    "ax.set_xscale('log')    \n",
    "ax.legend(loc='best')\n",
    "fn = os.path.join(plotdir, 'eddington_ratio_distribution.png')\n",
    "plt.savefig(fn)\n",
    "print('Saving {}'.format(fn))    "
   ]
  },
  {
   "cell_type": "code",
   "execution_count": null,
   "id": "148cb01c-b042-4f9c-8bf7-d1d98abedade",
   "metadata": {},
   "outputs": [],
   "source": [
    "edd_key, ran_key = jran.split(ran_key, 2)\n",
    "sfr_percentile = jran.uniform(edd_key, minval=1e-4, maxval=1 - 1e-4, shape=(len(bh_mass),))\n",
    "eddington_ratio, accretion_rate = monte_carlo_bh_acc_rate(redshift, bh_mass, sfr_percentile)"
   ]
  },
  {
   "cell_type": "code",
   "execution_count": null,
   "id": "a3527097-ffc1-4edf-bf2b-7807c89ca8e4",
   "metadata": {},
   "outputs": [],
   "source": [
    "print(eddington_ratio.shape, accretion_rate.shape)"
   ]
  },
  {
   "cell_type": "code",
   "execution_count": null,
   "id": "f947e07c-5043-4be7-b7f2-ff5fae2cb753",
   "metadata": {},
   "outputs": [],
   "source": [
    "mbins = np.logspace(4.0, 9.0, 20)\n",
    "sbins = np.logspace(-4., 0., 20)\n",
    "bh_mean, _, _ = binned_statistic(bh_mass, bh_mass, statistic='mean', bins=mbins)\n",
    "sfr_mean, _, _ = binned_statistic(sfr_percentile, sfr_percentile, statistic='mean', bins=sbins)\n",
    "nrow = 2\n",
    "ncol = 2\n",
    "fig, ax_all = plt.subplots(nrow, ncol, figsize=(5 * ncol, 4 * nrow))\n",
    "ylabels = ('Accretion Rate', 'Eddington Ratio')\n",
    "xlabels = ('$M*_{BH}$', 'sfr_percentile')\n",
    "for ax_row, y, ylabel in zip(ax_all, (accretion_rate, eddington_ratio), ylabels):\n",
    "    for ax, x, xlabel, bins in zip(ax_row, (bh_mass, sfr_percentile), xlabels, (mbins, sbins)):\n",
    "        xpts, _, _ = binned_statistic(x, x, statistic='mean', bins=bins)\n",
    "        ypts, _, _ =  binned_statistic(x, y, statistic='mean', bins=bins)\n",
    "        ax.tick_params(\"y\", rotation=90)\n",
    "        ax.loglog(xpts, ypts, label='z = {:.2f}'.format(redshift))\n",
    "        ax.set_xlabel(xlabel)\n",
    "        ax.set_ylabel(ylabel)\n",
    "        ax.legend(loc='best')\n",
    "        #ax.set_xticks(\n",
    "\n",
    "fn = os.path.join(plotdir, 'BH_accretion_rate_model.png')\n",
    "plt.savefig(fn)\n",
    "print('Saving {}'.format(fn))"
   ]
  },
  {
   "cell_type": "code",
   "execution_count": null,
   "id": "84a4e68b-c1dd-48c1-b6d5-3d38587c07a9",
   "metadata": {},
   "outputs": [],
   "source": []
  }
 ],
 "metadata": {
  "kernelspec": {
   "display_name": "diffaux",
   "language": "python",
   "name": "diffaux"
  },
  "language_info": {
   "codemirror_mode": {
    "name": "ipython",
    "version": 3
   },
   "file_extension": ".py",
   "mimetype": "text/x-python",
   "name": "python",
   "nbconvert_exporter": "python",
   "pygments_lexer": "ipython3",
   "version": "3.12.7"
  }
 },
 "nbformat": 4,
 "nbformat_minor": 5
}
