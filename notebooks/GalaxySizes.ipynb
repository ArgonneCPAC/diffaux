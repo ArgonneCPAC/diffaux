{
 "cells": [
  {
   "cell_type": "code",
   "execution_count": 1,
   "id": "fde838c7-aec2-4422-b82b-72666a81a00a",
   "metadata": {},
   "outputs": [
    {
     "name": "stdout",
     "output_type": "stream",
     "text": [
      "None\n"
     ]
    }
   ],
   "source": [
    "import numpy as np\n",
    "import h5py\n",
    "import glob\n",
    "import os\n",
    "import sys\n",
    "import re\n",
    "import matplotlib.pyplot as plt\n",
    "%matplotlib inline\n",
    "from os.path import expanduser\n",
    "from itertools import zip_longest\n",
    "home = expanduser(\"~\")\n",
    "host = os.getenv('HOSTNAME')\n",
    "print(host)"
   ]
  },
  {
   "cell_type": "code",
   "execution_count": 2,
   "id": "9c4b2b36-5850-45b3-8139-13c0e0189722",
   "metadata": {},
   "outputs": [
    {
     "ename": "AttributeError",
     "evalue": "jnp.trapz is deprecated; use jnp.trapezoid instead.",
     "output_type": "error",
     "traceback": [
      "\u001b[0;31m---------------------------------------------------------------------------\u001b[0m",
      "\u001b[0;31mAttributeError\u001b[0m                            Traceback (most recent call last)",
      "Cell \u001b[0;32mIn[2], line 13\u001b[0m\n\u001b[1;32m     11\u001b[0m \u001b[38;5;28;01mfrom\u001b[39;00m \u001b[38;5;21;01mlsstdesc_diffsky\u001b[39;00m\u001b[38;5;21;01m.\u001b[39;00m\u001b[38;5;21;01mvalidation\u001b[39;00m\u001b[38;5;21;01m.\u001b[39;00m\u001b[38;5;21;01mget_catalog_data\u001b[39;00m \u001b[38;5;28;01mimport\u001b[39;00m get_fhlist\n\u001b[1;32m     12\u001b[0m \u001b[38;5;28;01mfrom\u001b[39;00m \u001b[38;5;21;01mlsstdesc_diffsky\u001b[39;00m\u001b[38;5;21;01m.\u001b[39;00m\u001b[38;5;21;01mvalidation\u001b[39;00m\u001b[38;5;21;01m.\u001b[39;00m\u001b[38;5;21;01mget_catalog_data\u001b[39;00m \u001b[38;5;28;01mimport\u001b[39;00m get_colnames\n\u001b[0;32m---> 13\u001b[0m \u001b[38;5;28;01mfrom\u001b[39;00m \u001b[38;5;21;01mlsstdesc_diffsky\u001b[39;00m\u001b[38;5;21;01m.\u001b[39;00m\u001b[38;5;21;01mwrite_mock_to_disk\u001b[39;00m \u001b[38;5;28;01mimport\u001b[39;00m get_astropy_table\n\u001b[1;32m     14\u001b[0m \u001b[38;5;28;01mfrom\u001b[39;00m \u001b[38;5;21;01mlsstdesc_diffsky\u001b[39;00m\u001b[38;5;21;01m.\u001b[39;00m\u001b[38;5;21;01msize_modeling\u001b[39;00m \u001b[38;5;28;01mimport\u001b[39;00m zhang_yang17\n",
      "File \u001b[0;32m~/opt/anaconda3/envs/diffsky_v3/lib/python3.9/site-packages/lsstdesc_diffsky/write_mock_to_disk.py:23\u001b[0m\n\u001b[1;32m     20\u001b[0m \u001b[38;5;28;01mfrom\u001b[39;00m \u001b[38;5;21;01mdiffstar\u001b[39;00m\u001b[38;5;21;01m.\u001b[39;00m\u001b[38;5;21;01msfh\u001b[39;00m \u001b[38;5;28;01mimport\u001b[39;00m sfh_galpop\n\u001b[1;32m     22\u001b[0m \u001b[38;5;66;03m# SED generation\u001b[39;00m\n\u001b[0;32m---> 23\u001b[0m \u001b[38;5;28;01mfrom\u001b[39;00m \u001b[38;5;21;01mdsps\u001b[39;00m\u001b[38;5;21;01m.\u001b[39;00m\u001b[38;5;21;01mdata_loaders\u001b[39;00m \u001b[38;5;28;01mimport\u001b[39;00m load_ssp_templates\n\u001b[1;32m     24\u001b[0m \u001b[38;5;28;01mfrom\u001b[39;00m \u001b[38;5;21;01mdsps\u001b[39;00m\u001b[38;5;21;01m.\u001b[39;00m\u001b[38;5;21;01mmetallicity\u001b[39;00m\u001b[38;5;21;01m.\u001b[39;00m\u001b[38;5;21;01mmzr\u001b[39;00m \u001b[38;5;28;01mimport\u001b[39;00m DEFAULT_MET_PDICT\n\u001b[1;32m     25\u001b[0m \u001b[38;5;28;01mfrom\u001b[39;00m \u001b[38;5;21;01mgalsampler\u001b[39;00m \u001b[38;5;28;01mimport\u001b[39;00m crossmatch\n",
      "File \u001b[0;32m~/opt/anaconda3/envs/diffsky_v3/lib/python3.9/site-packages/dsps/__init__.py:6\u001b[0m\n\u001b[1;32m      4\u001b[0m \u001b[38;5;28;01mfrom\u001b[39;00m \u001b[38;5;21;01m.\u001b[39;00m\u001b[38;5;21;01m_version\u001b[39;00m \u001b[38;5;28;01mimport\u001b[39;00m __version__\n\u001b[1;32m      5\u001b[0m \u001b[38;5;28;01mfrom\u001b[39;00m \u001b[38;5;21;01m.\u001b[39;00m\u001b[38;5;21;01mdata_loaders\u001b[39;00m \u001b[38;5;28;01mimport\u001b[39;00m load_ssp_templates, load_transmission_curve\n\u001b[0;32m----> 6\u001b[0m \u001b[38;5;28;01mfrom\u001b[39;00m \u001b[38;5;21;01m.\u001b[39;00m\u001b[38;5;21;01mphotometry\u001b[39;00m \u001b[38;5;28;01mimport\u001b[39;00m \u001b[38;5;241m*\u001b[39m\n\u001b[1;32m      7\u001b[0m \u001b[38;5;28;01mfrom\u001b[39;00m \u001b[38;5;21;01m.\u001b[39;00m\u001b[38;5;21;01msed\u001b[39;00m \u001b[38;5;28;01mimport\u001b[39;00m \u001b[38;5;241m*\u001b[39m\n\u001b[1;32m      8\u001b[0m \u001b[38;5;28;01mfrom\u001b[39;00m \u001b[38;5;21;01m.\u001b[39;00m\u001b[38;5;21;01mutils\u001b[39;00m \u001b[38;5;28;01mimport\u001b[39;00m cumulative_mstar_formed\n",
      "File \u001b[0;32m~/opt/anaconda3/envs/diffsky_v3/lib/python3.9/site-packages/dsps/photometry/__init__.py:4\u001b[0m\n\u001b[1;32m      1\u001b[0m \u001b[38;5;66;03m# flake8: noqa\u001b[39;00m\n\u001b[1;32m      2\u001b[0m \u001b[38;5;124;03m\"\"\"\u001b[39;00m\n\u001b[1;32m      3\u001b[0m \u001b[38;5;124;03m\"\"\"\u001b[39;00m\n\u001b[0;32m----> 4\u001b[0m \u001b[38;5;28;01mfrom\u001b[39;00m \u001b[38;5;21;01m.\u001b[39;00m\u001b[38;5;21;01mphotometry_kernels\u001b[39;00m \u001b[38;5;28;01mimport\u001b[39;00m \u001b[38;5;241m*\u001b[39m\n",
      "File \u001b[0;32m~/opt/anaconda3/envs/diffsky_v3/lib/python3.9/site-packages/dsps/photometry/photometry_kernels.py:4\u001b[0m\n\u001b[1;32m      2\u001b[0m \u001b[38;5;28;01mfrom\u001b[39;00m \u001b[38;5;21;01mjax\u001b[39;00m \u001b[38;5;28;01mimport\u001b[39;00m numpy \u001b[38;5;28;01mas\u001b[39;00m jnp\n\u001b[1;32m      3\u001b[0m \u001b[38;5;28;01mfrom\u001b[39;00m \u001b[38;5;21;01mjax\u001b[39;00m \u001b[38;5;28;01mimport\u001b[39;00m jit \u001b[38;5;28;01mas\u001b[39;00m jjit\n\u001b[0;32m----> 4\u001b[0m \u001b[38;5;28;01mfrom\u001b[39;00m \u001b[38;5;21;01m.\u001b[39;00m\u001b[38;5;21;01m.\u001b[39;00m\u001b[38;5;21;01mcosmology\u001b[39;00m\u001b[38;5;21;01m.\u001b[39;00m\u001b[38;5;21;01mflat_wcdm\u001b[39;00m \u001b[38;5;28;01mimport\u001b[39;00m distance_modulus_to_z\n\u001b[1;32m      6\u001b[0m AB0 \u001b[38;5;241m=\u001b[39m \u001b[38;5;241m1.13492e-13\u001b[39m  \u001b[38;5;66;03m# 3631 Jansky placed at 10 pc in units of Lsun/Hz\u001b[39;00m\n\u001b[1;32m      9\u001b[0m __all__ \u001b[38;5;241m=\u001b[39m (\u001b[38;5;124m\"\u001b[39m\u001b[38;5;124mcalc_obs_mag\u001b[39m\u001b[38;5;124m\"\u001b[39m, \u001b[38;5;124m\"\u001b[39m\u001b[38;5;124mcalc_rest_mag\u001b[39m\u001b[38;5;124m\"\u001b[39m)\n",
      "File \u001b[0;32m~/opt/anaconda3/envs/diffsky_v3/lib/python3.9/site-packages/dsps/cosmology/__init__.py:6\u001b[0m\n\u001b[1;32m      4\u001b[0m \u001b[38;5;28;01mfrom\u001b[39;00m \u001b[38;5;21;01m.\u001b[39;00m\u001b[38;5;21;01mflat_wcdm\u001b[39;00m \u001b[38;5;28;01mimport\u001b[39;00m \u001b[38;5;241m*\u001b[39m\n\u001b[1;32m      5\u001b[0m \u001b[38;5;28;01mfrom\u001b[39;00m \u001b[38;5;21;01m.\u001b[39;00m\u001b[38;5;21;01mflat_wcdm\u001b[39;00m \u001b[38;5;28;01mimport\u001b[39;00m PLANCK15, WMAP5, FSPS_COSMO\n\u001b[0;32m----> 6\u001b[0m \u001b[38;5;28;01mfrom\u001b[39;00m \u001b[38;5;21;01m.\u001b[39;00m\u001b[38;5;21;01mdefaults\u001b[39;00m \u001b[38;5;28;01mimport\u001b[39;00m DEFAULT_COSMOLOGY, TODAY\n",
      "File \u001b[0;32m~/opt/anaconda3/envs/diffsky_v3/lib/python3.9/site-packages/dsps/cosmology/defaults.py:8\u001b[0m\n\u001b[1;32m      3\u001b[0m \u001b[38;5;28;01mfrom\u001b[39;00m \u001b[38;5;21;01m.\u001b[39;00m\u001b[38;5;21;01mflat_wcdm\u001b[39;00m \u001b[38;5;28;01mimport\u001b[39;00m PLANCK15 \u001b[38;5;28;01mas\u001b[39;00m DEFAULT_COSMOLOGY\n\u001b[1;32m      6\u001b[0m \u001b[38;5;28;01mfrom\u001b[39;00m \u001b[38;5;21;01m.\u001b[39;00m\u001b[38;5;21;01mflat_wcdm\u001b[39;00m \u001b[38;5;28;01mimport\u001b[39;00m age_at_z0\n\u001b[0;32m----> 8\u001b[0m TODAY \u001b[38;5;241m=\u001b[39m \u001b[43mage_at_z0\u001b[49m\u001b[43m(\u001b[49m\u001b[38;5;241;43m*\u001b[39;49m\u001b[43mDEFAULT_COSMOLOGY\u001b[49m\u001b[43m)\u001b[49m\n",
      "    \u001b[0;31m[... skipping hidden 11 frame]\u001b[0m\n",
      "File \u001b[0;32m~/opt/anaconda3/envs/diffsky_v3/lib/python3.9/site-packages/dsps/cosmology/flat_wcdm.py:235\u001b[0m, in \u001b[0;36mage_at_z0\u001b[0;34m(Om0, w0, wa, h)\u001b[0m\n\u001b[1;32m    233\u001b[0m z_table \u001b[38;5;241m=\u001b[39m jnp\u001b[38;5;241m.\u001b[39mlogspace(\u001b[38;5;241m0\u001b[39m, \u001b[38;5;241m3\u001b[39m, \u001b[38;5;241m512\u001b[39m) \u001b[38;5;241m-\u001b[39m \u001b[38;5;241m1.0\u001b[39m\n\u001b[1;32m    234\u001b[0m integrand \u001b[38;5;241m=\u001b[39m \u001b[38;5;241m1\u001b[39m \u001b[38;5;241m/\u001b[39m _Ez(z_table, Om0, w0, wa) \u001b[38;5;241m/\u001b[39m (\u001b[38;5;241m1\u001b[39m \u001b[38;5;241m+\u001b[39m z_table)\n\u001b[0;32m--> 235\u001b[0m res \u001b[38;5;241m=\u001b[39m \u001b[43mjnp\u001b[49m\u001b[38;5;241;43m.\u001b[39;49m\u001b[43mtrapz\u001b[49m(integrand, x\u001b[38;5;241m=\u001b[39mz_table)\n\u001b[1;32m    236\u001b[0m th \u001b[38;5;241m=\u001b[39m _hubble_time(\u001b[38;5;241m0.0\u001b[39m, Om0, w0, wa, h)\n\u001b[1;32m    237\u001b[0m \u001b[38;5;28;01mreturn\u001b[39;00m th \u001b[38;5;241m*\u001b[39m res\n",
      "File \u001b[0;32m~/opt/anaconda3/envs/diffsky_v3/lib/python3.9/site-packages/jax/_src/deprecations.py:52\u001b[0m, in \u001b[0;36mdeprecation_getattr.<locals>.getattr\u001b[0;34m(name)\u001b[0m\n\u001b[1;32m     50\u001b[0m message, fn \u001b[38;5;241m=\u001b[39m deprecations[name]\n\u001b[1;32m     51\u001b[0m \u001b[38;5;28;01mif\u001b[39;00m fn \u001b[38;5;129;01mis\u001b[39;00m \u001b[38;5;28;01mNone\u001b[39;00m:  \u001b[38;5;66;03m# Is the deprecation accelerated?\u001b[39;00m\n\u001b[0;32m---> 52\u001b[0m   \u001b[38;5;28;01mraise\u001b[39;00m \u001b[38;5;167;01mAttributeError\u001b[39;00m(message)\n\u001b[1;32m     53\u001b[0m warnings\u001b[38;5;241m.\u001b[39mwarn(message, \u001b[38;5;167;01mDeprecationWarning\u001b[39;00m, stacklevel\u001b[38;5;241m=\u001b[39m\u001b[38;5;241m2\u001b[39m)\n\u001b[1;32m     54\u001b[0m \u001b[38;5;28;01mreturn\u001b[39;00m fn\n",
      "\u001b[0;31mAttributeError\u001b[0m: jnp.trapz is deprecated; use jnp.trapezoid instead."
     ]
    }
   ],
   "source": [
    "if host is not None:\n",
    "    if 'bebop' in host:\n",
    "        input_dir = '/lcrc/project/galsampler/Catalog_5000/OR_5000/'\n",
    "        size_dir = '/lcrc/project/galsampler/Validation_Data/Sizes'\n",
    "else:\n",
    "    #input_dir = '/lus/eagle/projects/LastJourney/kovacs/Catalog_5000/OR_5000/'\n",
    "    #size_dir = '/lus/eagle/projects/LastJourney/kovacs/Validation_Data/Sizes'\n",
    "    input_dir = '/Users/kovacs/Catalog_5000/OR_5000/roman_rubin_2023_v1.1.3'\n",
    "    size_dir = '/Users/kovacs/Validation_Data/Sizes'\n",
    "fname = 'roman_rubin_2023_z_*_cutout_{}.hdf5'\n",
    "from lsstdesc_diffsky.validation.get_catalog_data import get_fhlist\n",
    "from lsstdesc_diffsky.validation.get_catalog_data import get_colnames\n",
    "from lsstdesc_diffsky.write_mock_to_disk import get_astropy_table\n",
    "from lsstdesc_diffsky.size_modeling import zhang_yang17"
   ]
  },
  {
   "cell_type": "code",
   "execution_count": null,
   "id": "bc9ffb7c-ffa0-4220-ba75-da6a945456f1",
   "metadata": {},
   "outputs": [],
   "source": [
    "data_dict = {'martorano_24': {'filename': 'martorano_2024_table1_Mstar_log10Re_{}.txt',\n",
    "                              'samples': ['all', 'star_forming', 'quiescent']\n",
    "                             }\n",
    "            }\n",
    "def read_size_fits(author, galaxy_sample):\n",
    "    "
   ]
  }
 ],
 "metadata": {
  "kernelspec": {
   "display_name": "diffsky_v3",
   "language": "python",
   "name": "diffsky_v3"
  },
  "language_info": {
   "codemirror_mode": {
    "name": "ipython",
    "version": 3
   },
   "file_extension": ".py",
   "mimetype": "text/x-python",
   "name": "python",
   "nbconvert_exporter": "python",
   "pygments_lexer": "ipython3",
   "version": "3.9.18"
  }
 },
 "nbformat": 4,
 "nbformat_minor": 5
}
