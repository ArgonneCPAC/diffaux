{
 "cells": [
  {
   "cell_type": "code",
   "execution_count": null,
   "id": "afa0329e-30f1-4a6a-899a-523c602d7bb2",
   "metadata": {},
   "outputs": [],
   "source": [
    "import os\n",
    "from diffaux.validation.read_size_validation_data import read_size_data, validation_info\n",
    "from diffaux.validation.read_size_validation_data import get_author_list"
   ]
  },
  {
   "cell_type": "markdown",
   "id": "f0e2ed54-a85e-4d00-add6-2316b2f260fd",
   "metadata": {},
   "source": [
    "## Get Validation Data and Plot Behavior"
   ]
  },
  {
   "cell_type": "code",
   "execution_count": null,
   "id": "47780d35-4792-4630-ae59-b1e6975b5428",
   "metadata": {},
   "outputs": [],
   "source": [
    "authors_rm = get_author_list(validation_info[\"Re_vs_Mstar\"])\n",
    "Rmdata = read_size_data({}, authors_rm, info_key=\"Re_vs_Mstar\")"
   ]
  },
  {
   "cell_type": "markdown",
   "id": "e2df6a32-bb74-48ed-b10f-aedaa812a69d",
   "metadata": {},
   "source": [
    "## Plot Behavior of Fit Coefficients for Median Sizes"
   ]
  },
  {
   "cell_type": "code",
   "execution_count": null,
   "id": "2d1647c1-5f16-4124-a91b-8e614cd677e6",
   "metadata": {},
   "outputs": [],
   "source": [
    "notebook_dir = \"/Users/kovacs/cosmology/diff_notebooks\"\n",
    "from diffaux.validation.plot_size_data import plot_size_data\n",
    "from diffaux.validation.plot_size_data import PLOT_DRN"
   ]
  },
  {
   "cell_type": "code",
   "execution_count": null,
   "id": "43f4d056-25ec-4167-a4c3-2b8196b6de4e",
   "metadata": {},
   "outputs": [],
   "source": [
    "plot_size_data(\n",
    "    Rmdata,\n",
    "    validation_info,\n",
    "    authors_rm,\n",
    "    info_keys=[\"Re_vs_Mstar\"],\n",
    "    summary_only=True,\n",
    "    plotdir=os.path.join(notebook_dir, PLOT_DRN),\n",
    ")"
   ]
  },
  {
   "cell_type": "markdown",
   "id": "376bb158-b554-4cf7-8343-a5484f760841",
   "metadata": {},
   "source": [
    "## Setup Choices for Fitting the Behavior of Median Sizes with M*"
   ]
  },
  {
   "cell_type": "code",
   "execution_count": null,
   "id": "039ec5f5-aabf-458d-b57a-8c7d7f285bb9",
   "metadata": {},
   "outputs": [],
   "source": [
    "from diffaux.size_modeling.fit_size_data import Samples_MFit\n",
    "from diffaux.size_modeling.fit_size_data import MFitParams_initial\n",
    "\n",
    "print(MFitParams_initial)\n",
    "print(Samples_MFit)"
   ]
  },
  {
   "cell_type": "code",
   "execution_count": null,
   "id": "cdceb073-3286-402b-897b-48f3e4c97382",
   "metadata": {},
   "outputs": [],
   "source": [
    "from diffaux.size_modeling.fit_size_data import collect_data_vectors\n",
    "\n",
    "data_vectors = collect_data_vectors(\n",
    "    Rmdata, Samples_MFit, validation_info, fit_type=\"Re_vs_Mstar\", lambda_min=0.5, lambda_max=1.0\n",
    ")"
   ]
  },
  {
   "cell_type": "code",
   "execution_count": null,
   "id": "51cbaeef-1be5-4c37-9a29-e8f00ad00794",
   "metadata": {},
   "outputs": [],
   "source": [
    "from diffaux.size_modeling.fit_size_data import assign_p0_values_to_fits\n",
    "\n",
    "# assign initial values to fits dict and plot\n",
    "fits = assign_p0_values_to_fits(MFitParams_initial, fit_type=\"Re_vs_Mstar\")\n",
    "print(fits)"
   ]
  },
  {
   "cell_type": "code",
   "execution_count": null,
   "id": "258ccc8c-ea2f-40c6-9f7c-e2420835a9ab",
   "metadata": {},
   "outputs": [],
   "source": [
    "from diffaux.validation.plot_size_fits import plot_fits\n",
    "fit_type = \"Re_vs_Mstar\"\n",
    "plot_fits(\n",
    "    fits[fit_type],\n",
    "    data_vectors[fit_type],\n",
    "    Samples_MFit,\n",
    "    validation_info[fit_type],\n",
    "    plotdir=os.path.join(notebook_dir, PLOT_DRN),\n",
    "    title=\"InitialGuess\",\n",
    "    pltname=\"FitRe_vs_Mstar_{}.png\",\n",
    "    fit_label=\"z\"\n",
    ")"
   ]
  },
  {
   "cell_type": "markdown",
   "id": "d480ec39-fbe2-4868-ad18-da380d2422db",
   "metadata": {},
   "source": [
    "## Fit the Coefficients and Save Results"
   ]
  },
  {
   "cell_type": "code",
   "execution_count": null,
   "id": "d29752d4-35d0-4d25-9ebf-c9fd7d9aafab",
   "metadata": {},
   "outputs": [],
   "source": [
    "fit_type = \"Re_vs_Mstar\"\n",
    "from diffaux.size_modeling.fit_size_data import fit_parameters, _sigmoid\n",
    "\n",
    "fits = {}\n",
    "from diffaux.size_modeling.fit_size_data import Xvalue_MFit\n",
    "print(Xvalue_MFit)\n",
    "\n",
    "print(MFitParams_initial)\n",
    "fits[fit_type] = fit_parameters(data_vectors[fit_type], Xvalue_MFit, MFitParams_initial, func=_sigmoid)"
   ]
  },
  {
   "cell_type": "code",
   "execution_count": null,
   "id": "8974ed3b-67c7-4a77-be63-00f83c33821d",
   "metadata": {},
   "outputs": [],
   "source": [
    "author_list = get_author_list(validation_info[\"Re_vs_Mstar\"], lambda_min=0.5, lambda_max=1.0)\n",
    "plot_fits(\n",
    "    fits[fit_type],\n",
    "    data_vectors[fit_type],\n",
    "    Samples_MFit,\n",
    "    validation_info[fit_type],\n",
    "    func=_sigmoid,\n",
    "    data=Rmdata[fit_type],\n",
    "    authors=author_list,\n",
    "    plotdir=os.path.join(notebook_dir, PLOT_DRN),\n",
    "    pltname=\"FitRe_vs_Mstar_{}.png\",\n",
    "    fit_label=\"z\",\n",
    "    title=\"bestfit\",\n",
    ")"
   ]
  },
  {
   "cell_type": "code",
   "execution_count": null,
   "id": "5c99b9a9-b5c5-4f34-9c81-19130395302e",
   "metadata": {},
   "outputs": [],
   "source": [
    "import pickle\n",
    "from diffaux.size_modeling.fit_size_data import MFitParameters\n",
    "from diffaux.size_modeling.fit_size_data import write_fit_parameters, read_fit_parameters"
   ]
  },
  {
   "cell_type": "code",
   "execution_count": null,
   "id": "b160aea4-279d-42b0-930f-ec23bdbfb940",
   "metadata": {},
   "outputs": [],
   "source": [
    "write_fit_parameters(fits, fitdir=\"./\", fit_type=\"Re_vs_Mstar\")"
   ]
  },
  {
   "cell_type": "markdown",
   "id": "c0e27b0a-6149-4c25-aa63-bcae07b82c94",
   "metadata": {},
   "source": [
    "## Read in Fit Parameters and Generate Sizes"
   ]
  },
  {
   "cell_type": "code",
   "execution_count": null,
   "id": "62a3510a-f0a4-4602-aa69-dad3b718b12c",
   "metadata": {},
   "outputs": [],
   "source": [
    "fit_pars, fits = read_fit_parameters(MFitParameters, fit_type=\"Re_vs_Mstar\")\n",
    "print(fit_pars)"
   ]
  },
  {
   "cell_type": "code",
   "execution_count": null,
   "id": "ea3ed5b0-d2c3-41b7-a011-5b99476ba117",
   "metadata": {},
   "outputs": [],
   "source": [
    "# generate sizes\n",
    "import numpy as np\n",
    "from diffaux.size_modeling.fit_size_data import generate_sizes, get_color_mask, _sigmoid, median_size_vs_Mstar, get_median_sizes\n",
    "\n",
    "fit_func = _sigmoid\n",
    "size_func = median_size_vs_Mstar\n",
    "N = 5000\n",
    "lM_lo = 7.5\n",
    "lM_hi = 12.0\n",
    "z_lo = 0.0\n",
    "z_hi = 3.0\n",
    "UVJcolor_cut = 1.5\n",
    "log_Mstar = np.random.uniform(low=lM_lo, high=lM_hi, size=N)\n",
    "redshift = np.random.uniform(low=z_lo, high=z_hi, size=N)\n",
    "color_gal = np.random.uniform(low=-0.2, high=2.3, size=N)"
   ]
  },
  {
   "cell_type": "code",
   "execution_count": null,
   "id": "e7af3f1f-3972-436b-bc63-e3eb562a013e",
   "metadata": {},
   "outputs": [],
   "source": [
    "R_med = get_median_sizes(\n",
    "        fit_pars,\n",
    "        log_Mstar,\n",
    "        redshift,\n",
    "        color_gal,\n",
    "        N,\n",
    "        Samples_MFit,\n",
    "        fit_type=\"Re_vs_Mstar\",\n",
    "        UVJcolor_cut=UVJcolor_cut,\n",
    "        fit_func=fit_func,\n",
    "        size_func=size_func,\n",
    "    )\n",
    "print(np.min(R_med), np.max(R_med))"
   ]
  },
  {
   "cell_type": "code",
   "execution_count": null,
   "id": "91d8bddc-65ca-4428-a8bf-6b62bb1f644e",
   "metadata": {},
   "outputs": [],
   "source": [
    "logRe = np.random.normal(loc=np.log10(R_med), scale=0.2)\n",
    "Re = np.power(10, logRe)\n",
    "print(np.min(Re), np.max(Re))"
   ]
  },
  {
   "cell_type": "code",
   "execution_count": null,
   "id": "b428302c-bd10-40df-ba0d-544529c299b2",
   "metadata": {},
   "outputs": [],
   "source": [
    "Re, R_med = generate_sizes(\n",
    "                fit_pars, log_Mstar, redshift, color_gal, fit_type=\"Re_vs_Mstar\", samples=Samples_MFit, size_func=median_size_vs_Mstar,\n",
    "                scatter=0.2,\n",
    "                )\n",
    "print(np.min(Re), np.max(Re))"
   ]
  },
  {
   "cell_type": "markdown",
   "id": "f50e5dc2-38fa-4dd6-ae3a-9bbd0e5ad483",
   "metadata": {},
   "source": [
    "## Plot Results and Compare Generated Sizes with Validation Data"
   ]
  },
  {
   "cell_type": "code",
   "execution_count": null,
   "id": "28ba991a-7f96-435d-a853-8cda352fafbf",
   "metadata": {},
   "outputs": [],
   "source": [
    "authors_re = get_author_list(validation_info[\"Re_vs_z_data\"])\n",
    "Redata = read_size_data({}, authors_re, info_key=\"Re_vs_z_data\")\n",
    "authors_rd = get_author_list(validation_info[\"Re_vs_Mstar_data\"])\n",
    "Rddata = {}\n",
    "for author in authors_rd:\n",
    "    samples = validation_info[\"Re_vs_Mstar_data\"][author][\"samples\"]\n",
    "    for sample in samples:\n",
    "        if \"All\" not in sample:\n",
    "            Rddata = read_size_data(Rddata, authors_rd, info_key=\"Re_vs_Mstar_data\", sample=sample)\n",
    "tests = [Redata, Rddata]"
   ]
  },
  {
   "cell_type": "code",
   "execution_count": null,
   "id": "f9c1ef97-53f4-422c-b6da-7a9afce1563f",
   "metadata": {},
   "outputs": [],
   "source": [
    "# make validation plots using data for measured sizes and median sizes\n",
    "from diffaux.validation.plot_size_fits import plot_generated_sizes\n",
    "\n",
    "for test, ikey in zip(tests, [\"Re_vs_z_data\", \"Re_vs_Mstar_data\"]):\n",
    "    authors = get_author_list(validation_info[ikey])\n",
    "    plot_generated_sizes(\n",
    "        Re,\n",
    "        R_med,\n",
    "        color_gal,\n",
    "        log_Mstar,\n",
    "        redshift,\n",
    "        Samples_MFit,\n",
    "        authors,\n",
    "        test[ikey],\n",
    "        validation_info[ikey],\n",
    "        logM_lo=7.5,\n",
    "        plotdir=os.path.join(notebook_dir, PLOT_DRN),\n",
    "        pltname=\"GalaxySizes_vs_Mstar_zbins_Mfit_{}.png\",\n",
    "    )"
   ]
  },
  {
   "cell_type": "code",
   "execution_count": null,
   "id": "6ea61749-a00d-4770-ad2b-79cfc886b892",
   "metadata": {},
   "outputs": [],
   "source": [
    "# Plot actual data versus quoted fits.\n"
   ]
  }
 ],
 "metadata": {
  "kernelspec": {
   "display_name": "diffaux",
   "language": "python",
   "name": "diffaux"
  },
  "language_info": {
   "codemirror_mode": {
    "name": "ipython",
    "version": 3
   },
   "file_extension": ".py",
   "mimetype": "text/x-python",
   "name": "python",
   "nbconvert_exporter": "python",
   "pygments_lexer": "ipython3",
   "version": "3.12.7"
  }
 },
 "nbformat": 4,
 "nbformat_minor": 5
}
