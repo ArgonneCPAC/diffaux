{
 "cells": [
  {
   "cell_type": "code",
   "execution_count": null,
   "id": "29611670-846c-4b17-a1bf-f23e4f6dc306",
   "metadata": {},
   "outputs": [],
   "source": [
    "import os\n",
    "from diffaux.disk_bulge_modeling.generate_bulge_disk_sample import (\n",
    "    get_bulge_disk_test_sample,\n",
    "    get_bulge_disk_decomposition,\n",
    "    get_zindexes,\n",
    ")\n",
    "from jax import random as jran\n",
    "import numpy as np\n",
    "import jax.numpy as jnp\n",
    "from jax import jit as jjit\n",
    "from jax import lax, nn\n",
    "import matplotlib.cm as cm\n",
    "import matplotlib.pyplot as plt\n",
    "import numpy as np\n",
    "import itertools\n",
    "from itertools import zip_longest\n",
    "from diffsky.utils import _sigmoid\n",
    "\n",
    "from diffaux.validation.plot_disk_bulge import (\n",
    "    plot_qs_profiles_for_zvals,\n",
    "    plot_qs_profiles,\n",
    "    plot_q_profile,\n",
    "    plot_sigmoid_2d,\n",
    ")\n",
    "from diffaux.disk_bulge_modeling.disk_bulge_kernels import (\n",
    "    _sigmoid_2d,\n",
    ")\n",
    "from diffaux.validation.plot_utilities import get_nrow_ncol, get_subsample\n",
    "\n",
    "ran_key = jran.key(0)"
   ]
  },
  {
   "cell_type": "code",
   "execution_count": null,
   "id": "b93a0081-a369-4b6c-bc98-79945b905270",
   "metadata": {},
   "outputs": [],
   "source": [
    "halo_key, ran_key = jran.split(ran_key, 2)\n",
    "lgmp_min = 11.0\n",
    "redshift = 0.05\n",
    "Lbox = 75.0\n",
    "diffstar_cens = get_bulge_disk_test_sample(halo_key, lgmp_min=lgmp_min, redshift=redshift, Lbox=Lbox)"
   ]
  },
  {
   "cell_type": "code",
   "execution_count": null,
   "id": "dfd4406b-b0ac-43dc-b15f-27deb80f4712",
   "metadata": {},
   "outputs": [],
   "source": [
    "zvalues = [0.0, 0.5, 1.0, 1.5, 2.0, 2.5]\n",
    "redshifts = diffstar_cens[\"z_table\"]\n",
    "zindexes, zs = get_zindexes(zvalues, redshifts)"
   ]
  },
  {
   "cell_type": "code",
   "execution_count": null,
   "id": "497325ad-8eaf-44eb-bebb-e376f9d5a8c1",
   "metadata": {},
   "outputs": [],
   "source": [
    "from diffsky.dustpop.avpop import DEFAULT_AVPOP_PDICT, DEFAULT_AVPOP_PARAMS, LGSM_K, LGSSFR_K\n",
    "print(DEFAULT_AVPOP_PDICT, DEFAULT_AVPOP_PARAMS)"
   ]
  },
  {
   "cell_type": "code",
   "execution_count": null,
   "id": "13911f09-6f87-444c-8886-07955b32c2eb",
   "metadata": {},
   "outputs": [],
   "source": [
    "def get_av_from_avpop_params(avpop_params, logsm, logssfr):\n",
    "    lgav_logssfr_x0 = _sigmoid(\n",
    "        logsm,\n",
    "        avpop_params.lgav_logsm_x0_x0,\n",
    "        LGSM_K,\n",
    "        avpop_params.lgav_logsm_ylo_x0,\n",
    "        avpop_params.lgav_logsm_yhi_x0,\n",
    "    )\n",
    "    lgav_logssfr_q = _sigmoid(\n",
    "        logsm,\n",
    "        avpop_params.lgav_logsm_x0_q,\n",
    "        LGSM_K,\n",
    "        avpop_params.lgav_logsm_ylo_q,\n",
    "        avpop_params.lgav_logsm_yhi_q,\n",
    "    )\n",
    "    lgav_logssfr_ms = _sigmoid(\n",
    "        logsm,\n",
    "        avpop_params.lgav_logsm_x0_ms,\n",
    "        LGSSFR_K,\n",
    "        avpop_params.lgav_logsm_ylo_ms,\n",
    "        avpop_params.lgav_logsm_yhi_ms,\n",
    "    )\n",
    "\n",
    "    lgav = _sigmoid(\n",
    "        logssfr,\n",
    "        lgav_logssfr_x0,\n",
    "        LGSSFR_K,\n",
    "        lgav_logssfr_q,\n",
    "        lgav_logssfr_ms,\n",
    "    )\n",
    "    return lgav_logssfr_x0, lgav_logssfr_q, lgav_logssfr_ms, lgav"
   ]
  },
  {
   "cell_type": "code",
   "execution_count": null,
   "id": "26ea628d-5c89-4491-96d6-1d17b29ac535",
   "metadata": {},
   "outputs": [],
   "source": [
    "logMz0_min = 8.0\n",
    "logssfr_min = -16\n",
    "mass_mask = np.log10(diffstar_cens[\"smh\"][:, -1]) > logMz0_min\n",
    "sfr_mask = np.log10(diffstar_cens[\"sSFR\"][:, -1]) > logssfr_min\n",
    "mask = mass_mask & sfr_mask\n",
    "title = \"$M^*_{{z=0}} > 10^{{{:.1f}}} M_\\\\odot, sSFR > 10^{{{}}} yr^{{-1}}$\".format(logMz0_min, logssfr_min)\n",
    "xname = \"log_M0_min_{:.1f}_logssfr_min_{}\".format(logMz0_min, -logssfr_min)\n",
    "\n",
    "logsm = np.log10(diffstar_cens['smh'])[mask]\n",
    "logssfr = np.log10(diffstar_cens['sSFR'])[mask]\n",
    "lgav_logssfr_x0, lgav_logssfr_q, lgav_logssfr_ms, lgav = get_av_from_avpop_params(DEFAULT_AVPOP_PARAMS, logsm, logssfr)"
   ]
  },
  {
   "cell_type": "code",
   "execution_count": null,
   "id": "86c489ac-4c0b-4d38-8a96-ea8c31af715e",
   "metadata": {},
   "outputs": [],
   "source": [
    "from diffaux.validation.plot_utilities import get_nrow_ncol\n",
    "\n",
    "plotdir = \"/Users/kovacs/cosmology/BulgeDisk/DiskBulgePlots\"\n",
    "\n",
    "logM_min = 7.5\n",
    "logM_max = 11.5\n",
    "Nm = 8\n",
    "Mbins = np.linspace(logM_min, logM_max, Nm+1)\n",
    "logsSFR_min = -15\n",
    "logsSFR_max = -8\n",
    "Ns = 7\n",
    "sbins = np.linspace(logsSFR_min, logsSFR_max, Ns +1)\n",
    "\n",
    "qs = [lgav_logssfr_x0, lgav_logssfr_q, lgav_logssfr_ms, lgav]\n",
    "xs = [logsm, logsm, logsm, logssfr]\n",
    "binz = [Mbins, Mbins, Mbins, sbins]\n",
    "labels = ['logssfr_x0', 'logssfr_q', 'logssfr_ms', 'lgav']\n",
    "xlabels = ['logsm', 'logsm', 'logsm', 'logssfr']\n",
    "\n",
    "#qs0 = [lgav_logssfr_x00, lgav_logssfr_q0, lgav_logssfr_ms0, lgav0]\n",
    "#xs0 = [logsm0, logsm0, logsm0, logssfr0]\n",
    "#labels0 = ['logssfr_x00', 'logssfr_q0', 'logssfr_ms0', 'lgav0']\n",
    "#xlabels = ['logsm', 'logsm', 'logsm', 'logssfr']"
   ]
  },
  {
   "cell_type": "code",
   "execution_count": null,
   "id": "a5d9539d-d384-4be9-979a-c51a52d90694",
   "metadata": {},
   "outputs": [],
   "source": [
    "\n",
    "plot_qs_profiles_for_zvals(xs, qs, binz, labels, zindexes, zs, xlabels,\n",
    "                           plotsubdir='sigmoids', plotdir=plotdir,\n",
    "                           pltname=\"avpop_z_{}.png\", title=title, xname=xname)"
   ]
  },
  {
   "cell_type": "markdown",
   "id": "50a2b9a1-c200-4fad-852f-b84c9d2e6d13",
   "metadata": {},
   "source": [
    "### 2d Sigmoid"
   ]
  },
  {
   "cell_type": "code",
   "execution_count": null,
   "id": "1459e672-7535-4e35-9ce4-6f98b04a10cf",
   "metadata": {},
   "outputs": [],
   "source": [
    "# use Mbins and sbins for x and y\n",
    "x0 = -10.\n",
    "y0 = 10\n",
    "kx_min = 0.2\n",
    "kx_max = 0.8\n",
    "Nkx = 2\n",
    "kxs = np.linspace(kx_min, kx_max, Nkx+1)\n",
    "\n",
    "ky_min = 0.2\n",
    "ky_max = 0.8\n",
    "Nky = 2\n",
    "kys = np.linspace(ky_min, ky_max, Nky+1)\n",
    "print(kxs, kys)\n",
    "kpairs = np.array(list(itertools.product(kxs, kys)))"
   ]
  },
  {
   "cell_type": "code",
   "execution_count": null,
   "id": "d2cbf902-b162-4580-b064-dfa54c3d60b6",
   "metadata": {},
   "outputs": [],
   "source": [
    "X, Y = jnp.meshgrid(sbins, Mbins)\n",
    "print(X[0], Y[:, 0], jnp.min(X), jnp.max(Y))\n",
    "\n",
    "zmin=1.0\n",
    "zmax=0.0\n",
    "for kx, ky in kpairs:\n",
    "    print(kx, ky)\n",
    "    z = _sigmoid_2d(X, x0, Y, y0, kx, ky, zmin, zmax)\n",
    "    print(jnp.min(z), jnp.max(z))\n",
    "    "
   ]
  },
  {
   "cell_type": "code",
   "execution_count": null,
   "id": "fbc21d53-aabb-464c-b743-f10ceeb48263",
   "metadata": {},
   "outputs": [],
   "source": [
    "plot_sigmoid_2d(X, x0, Y, y0, kpairs, zmin, zmax,\n",
    "                alpha=0.6, contour=True, ytit=0.99,\n",
    "               plotdir=plotdir, title=title, xname=xname)"
   ]
  },
  {
   "cell_type": "code",
   "execution_count": null,
   "id": "3158e6c3-0aeb-4068-99c8-04a2c79a1b0b",
   "metadata": {},
   "outputs": [],
   "source": []
  },
  {
   "cell_type": "code",
   "execution_count": null,
   "id": "5b719269-8e92-466d-b833-89c37d81433f",
   "metadata": {},
   "outputs": [],
   "source": [
    "# Try values similar to tcrit\n",
    "x0 = -10.\n",
    "y0 = 10\n",
    "tx_min = 0.2\n",
    "tx_max = 0.8\n",
    "Ntx = 2\n",
    "txs = np.linspace(tx_min, tx_max, Ntx+1)\n",
    "ty_min = 0.2\n",
    "ty_max = 0.8\n",
    "Nty = 2\n",
    "tys = np.linspace(ty_min, ty_max, Nty+1)\n",
    "print(txs, tys)\n",
    "tpairs = np.array(list(itertools.product(txs, tys)))\n",
    "X, Y = jnp.meshgrid(sbins, Mbins)\n",
    "print(X[0], Y[:, 0], jnp.min(X), jnp.max(Y))\n",
    "\n",
    "tmin=13.0\n",
    "tmax=2.0"
   ]
  },
  {
   "cell_type": "code",
   "execution_count": null,
   "id": "c48e9506-fcf6-4c96-a3db-404bb6db0969",
   "metadata": {},
   "outputs": [],
   "source": [
    "plot_sigmoid_2d(X, x0, Y, y0, tpairs, tmin, tmax,\n",
    "                alpha=0.6, contour=True, ytit=0.99,\n",
    "                pltname=\"sigmoid_2d_tcritlike_{}.png\",\n",
    "                plotdir=plotdir, title=title, xname=xname)"
   ]
  },
  {
   "cell_type": "code",
   "execution_count": null,
   "id": "aba09233-e992-48f1-80e1-00ada88ace0a",
   "metadata": {},
   "outputs": [],
   "source": [
    "zmin=0.2\n",
    "zmax=0.95\n",
    "X, Y = jnp.meshgrid(Mbins, sbins)\n",
    "print(X[0], Y[:, 0], jnp.min(X), jnp.max(Y))\n",
    "x0 = 10.\n",
    "y0 = -10.\n",
    "kxs = np.linspace(-kx_min, -kx_max, Nkx+1)\n",
    "kys = np.linspace(-ky_min, -ky_max, Nky+1)\n",
    "print(kxs, kys)\n",
    "kpairs = np.array(list(itertools.product(kxs, kys)))"
   ]
  },
  {
   "cell_type": "code",
   "execution_count": null,
   "id": "5e8ab840-1f86-4d11-943c-73c4c9f7b795",
   "metadata": {},
   "outputs": [],
   "source": [
    "plot_sigmoid_2d(X, x0, Y, y0, kpairs, zmin, zmax,\n",
    "                ylabel=\"$\\\\log_{10}(sSFR/yr)$\",\n",
    "                xlabel=\"$\\\\log_{10}(M^*/M_\\\\odot)$\",\n",
    "                alpha=0.6, contour=True, ytit=0.99,\n",
    "                pltname=\"sigmoid_2d_reversed_{}.png\",\n",
    "                plotdir=plotdir, title=title, xname=xname)"
   ]
  },
  {
   "cell_type": "code",
   "execution_count": null,
   "id": "0a82d53d-1a85-4705-94bc-8295302eacf4",
   "metadata": {},
   "outputs": [],
   "source": []
  }
 ],
 "metadata": {
  "kernelspec": {
   "display_name": "diffaux",
   "language": "python",
   "name": "diffaux"
  },
  "language_info": {
   "codemirror_mode": {
    "name": "ipython",
    "version": 3
   },
   "file_extension": ".py",
   "mimetype": "text/x-python",
   "name": "python",
   "nbconvert_exporter": "python",
   "pygments_lexer": "ipython3",
   "version": "3.12.7"
  }
 },
 "nbformat": 4,
 "nbformat_minor": 5
}
