{
 "cells": [
  {
   "cell_type": "code",
   "execution_count": null,
   "id": "39e06fa4-3d73-4a1a-835d-f655f041b235",
   "metadata": {},
   "outputs": [],
   "source": [
    "import os\n",
    "from diffaux.disk_bulge_modeling.generate_bulge_disk_sample import (\n",
    "    get_bulge_disk_test_sample,\n",
    "    get_bulge_disk_decomposition,\n",
    "    get_zindexes\n",
    ")\n",
    "from jax import random as jran\n",
    "import numpy as np\n",
    "import jax.numpy as jnp\n",
    "\n",
    "ran_key = jran.key(0)"
   ]
  },
  {
   "cell_type": "code",
   "execution_count": null,
   "id": "ae49536e-d94d-412b-8345-6fe17bfd7ea8",
   "metadata": {},
   "outputs": [],
   "source": [
    "halo_key, ran_key = jran.split(ran_key, 2)\n",
    "lgmp_min = 11.0\n",
    "redshift = 0.05\n",
    "Lbox = 100.0\n",
    "diffstar_cens = get_bulge_disk_test_sample(halo_key, lgmp_min=lgmp_min, redshift=redshift, Lbox=Lbox)"
   ]
  },
  {
   "cell_type": "markdown",
   "id": "47cc1fde-a286-4382-9dcc-8815f4de97c4",
   "metadata": {},
   "source": [
    "## logsm0 Bug-fixed Version"
   ]
  },
  {
   "cell_type": "code",
   "execution_count": null,
   "id": "54f3b993-1729-4370-8a3c-d43e221ac266",
   "metadata": {},
   "outputs": [],
   "source": [
    "disk_bulge_key, ran_key = jran.split(ran_key, 2)\n",
    "diffstar_cens = get_bulge_disk_decomposition(disk_bulge_key, diffstar_cens, new_model=False)\n",
    "print(diffstar_cens.keys())"
   ]
  },
  {
   "cell_type": "code",
   "execution_count": null,
   "id": "c20eb911-0dc0-4071-951a-880376a9212d",
   "metadata": {},
   "outputs": [],
   "source": [
    "dz = 0.1\n",
    "zvalues = [0.0, 0.5, 1.0, 1.5, 2.0, 2.5]\n",
    "redshifts = diffstar_cens[\"z_table\"]\n",
    "zindexes, zs = get_zindexes(zvalues, redshifts)\n",
    "print(zs, zindexes)"
   ]
  },
  {
   "cell_type": "code",
   "execution_count": null,
   "id": "71daf3a0-fb82-42af-8847-2132635f9c77",
   "metadata": {},
   "outputs": [],
   "source": [
    "from diffaux.validation.plot_disk_bulge import (\n",
    "    plot_qs_nocuts,\n",
    "    plot_histories,\n",
    "    plot_q_with_cuts,\n",
    "    plot_q1_q2,\n",
    "    plot_q1_vs_q2,\n",
    "    plot_q_vs_qx_at_z_profile,\n",
    ")\n",
    "\n",
    "plotdir = \"/Users/kovacs/cosmology/BulgeDisk/DiskBulgePlots\""
   ]
  },
  {
   "cell_type": "code",
   "execution_count": null,
   "id": "1d7d85bc-520c-4dfc-a74f-e1d89dd5224a",
   "metadata": {},
   "outputs": [],
   "source": [
    "logMz0_min = 8.0\n",
    "logssfr_min = -15\n",
    "mass_mask = np.log10(diffstar_cens[\"smh\"][:, -1]) > logMz0_min\n",
    "sfr_mask = np.log10(diffstar_cens[\"sSFR\"][:, -1]) > logssfr_min\n",
    "mask = mass_mask & sfr_mask\n",
    "title = \"$M^*_{{z=0}} > 10^{{{:.1f}}} M_\\\\odot, sSFR > 10^{{{}}} yr^{{-1}}$\".format(logMz0_min, logssfr_min)\n",
    "xname = \"log_M0_min_{:.1f}_logssfr_min_{}\".format(logMz0_min, -logssfr_min)"
   ]
  },
  {
   "cell_type": "code",
   "execution_count": null,
   "id": "5203d328-df84-4c61-bf1d-ea8ef77c9bb3",
   "metadata": {},
   "outputs": [],
   "source": [
    "plot_q1_vs_q2(\n",
    "    jnp.log10(diffstar_cens[\"sSFR\"][mask]),\n",
    "    diffstar_cens[\"bth\"][mask],\n",
    "    zvalues,\n",
    "    redshifts,\n",
    "    jnp.log10(diffstar_cens[\"smh\"][mask]),\n",
    "    title=title,\n",
    "    xname=xname,\n",
    "    cbar_title=\"$\\\\log_{10}(M^*/M_\\\\odot)$\",\n",
    "    N=3000,\n",
    "    xmin=-14,\n",
    "    xmax=-8.4,\n",
    "    ymin=0,\n",
    "    ymax=1.0,\n",
    "    ylabel=\"B/T\",\n",
    "    xlabel=\"$\\\\log_{10}(sSFR/yr)$\",\n",
    "    pltname=\"BoverT_vs_sSFR_{}.png\",\n",
    "    plotdir=plotdir,\n",
    ")"
   ]
  },
  {
   "cell_type": "code",
   "execution_count": null,
   "id": "5bb99fe1-0f0f-4171-83c7-872714c363d2",
   "metadata": {},
   "outputs": [],
   "source": [
    "logMz0_min = 8.0\n",
    "logssfr_min = -15\n",
    "logM_min = 7.0\n",
    "mass_mask = np.log10(diffstar_cens[\"smh\"][:, -1]) > logMz0_min\n",
    "sfr_mask = np.log10(diffstar_cens[\"sSFR\"][:, -1]) > logssfr_min\n",
    "mask = mass_mask & sfr_mask\n",
    "title = \"$M^*_{{z=0}} > 10^{{{:.1f}}} M_\\\\odot, sSFR > 10^{{{}}} yr^{{-1}}$\".format(logMz0_min, logssfr_min)\n",
    "xname = \"log_M0_min_{:.1f}_logssfr_min_{}\".format(logMz0_min, -logssfr_min)"
   ]
  },
  {
   "cell_type": "code",
   "execution_count": null,
   "id": "df5a43a0-ab1d-4a08-a679-405226865799",
   "metadata": {},
   "outputs": [],
   "source": [
    "plot_q1_vs_q2(\n",
    "    jnp.log10(diffstar_cens[\"smh\"][mask]),\n",
    "    diffstar_cens[\"bth\"][mask],\n",
    "    zvalues,\n",
    "    redshifts,\n",
    "    jnp.log10(diffstar_cens[\"sSFR\"][mask]),\n",
    "    title=title,\n",
    "    xname=xname, cmap=\"jet_r\",\n",
    "    N=2000,\n",
    "    ymin=0,\n",
    "    ymax=1.0,\n",
    "    xmin=7,\n",
    "    xmax=12,\n",
    "    xlabel=\"$\\\\log_{10}(M^*/M_\\\\odot)$\",\n",
    "    ylabel=\"B/T\", cbar_title=\"$\\\\log_{10}(sSFR/yr)$\",\n",
    "    pltname=\"BoverT_vs_logMstar_{}.png\",\n",
    "    plotdir=plotdir,\n",
    ")"
   ]
  },
  {
   "cell_type": "code",
   "execution_count": null,
   "id": "f74c5b69-41bd-4f6d-8a70-5939af8600c1",
   "metadata": {},
   "outputs": [],
   "source": [
    "plot_q1_vs_q2(\n",
    "    diffstar_cens[\"eff_bulge\"][mask],\n",
    "    diffstar_cens[\"bth\"][mask],\n",
    "    zvalues,\n",
    "    redshifts,\n",
    "    jnp.log10(diffstar_cens[\"smh\"][mask]),\n",
    "    title=title,\n",
    "    xname=xname, cmap=\"jet\",\n",
    "    N=2000,\n",
    "    ymin=0,\n",
    "    ymax=1.0,\n",
    "    xmin=0,\n",
    "    xmax=1.,\n",
    "    xlabel=\"$\\\\epsilon_{bulge}$\",\n",
    "    ylabel=\"B/T\", cbar_title=\"$\\\\log_{10}(M^*/M_\\\\odot)$\",\n",
    "    pltname=\"BoverT_vs_eff_bulge_{}.png\",\n",
    "    plotdir=plotdir,\n",
    ")"
   ]
  },
  {
   "cell_type": "code",
   "execution_count": null,
   "id": "21117dcd-9939-4865-864f-7f23cdf55846",
   "metadata": {},
   "outputs": [],
   "source": [
    "# profiles\n",
    "qs = [diffstar_cens[\"bth\"][mask], diffstar_cens[\"eff_bulge\"][mask]] \n",
    "ylabels = ['B/T', '\\\\epsilon_{bulge}']\n",
    "logM_min = 7.0\n",
    "logM_max = 11.5\n",
    "Nm = 9\n",
    "Mbins = np.linspace(logM_min, logM_max, Nm+1)\n",
    "logsSFR_min = -16\n",
    "logsSFR_max = -8\n",
    "Ns = 8\n",
    "sbins = np.linspace(logsSFR_min, logsSFR_max, Ns +1)"
   ]
  },
  {
   "cell_type": "code",
   "execution_count": null,
   "id": "5a69f3ea-7de5-46dc-b332-680bca363a10",
   "metadata": {},
   "outputs": [],
   "source": [
    "plot_q_vs_qx_at_z_profile(qs, jnp.log10(diffstar_cens['smh'][mask]), ylabels, \n",
    "              zindexes, zs, bins=Mbins,\n",
    "              title=title,\n",
    "              xname=xname,\n",
    "              plotdir=plotdir,\n",
    "              pltname=\"BoverT_vs_log_Mz_{}.png\",\n",
    "              errors=[True, True],\n",
    "              qs_depends_z=True,\n",
    ")"
   ]
  },
  {
   "cell_type": "code",
   "execution_count": null,
   "id": "d766aeb6-4b77-47c8-90cb-87ce1a408ec3",
   "metadata": {},
   "outputs": [],
   "source": [
    "plot_q_vs_qx_at_z_profile(qs, jnp.log10(diffstar_cens['sSFR'])[mask], ylabels, \n",
    "              zindexes, zs, bins=sbins,\n",
    "              title=title, \n",
    "              xname=xname, xlabel='$\\\\log_{10}(sSFR*yr)$',\n",
    "              plotdir=plotdir,\n",
    "              pltname=\"BoverT_vs_log_sSFR_{}.png\",\n",
    "              errors=[True, True],\n",
    "              qs_depends_z=True,\n",
    ")"
   ]
  },
  {
   "cell_type": "code",
   "execution_count": null,
   "id": "f18b8241-e770-44a9-9b53-9133a4ed5297",
   "metadata": {},
   "outputs": [],
   "source": []
  },
  {
   "cell_type": "code",
   "execution_count": null,
   "id": "41982bda-44c7-4d5f-a9fa-b61c29847bf0",
   "metadata": {},
   "outputs": [],
   "source": []
  }
 ],
 "metadata": {
  "kernelspec": {
   "display_name": "diffaux",
   "language": "python",
   "name": "diffaux"
  },
  "language_info": {
   "codemirror_mode": {
    "name": "ipython",
    "version": 3
   },
   "file_extension": ".py",
   "mimetype": "text/x-python",
   "name": "python",
   "nbconvert_exporter": "python",
   "pygments_lexer": "ipython3",
   "version": "3.12.7"
  }
 },
 "nbformat": 4,
 "nbformat_minor": 5
}
