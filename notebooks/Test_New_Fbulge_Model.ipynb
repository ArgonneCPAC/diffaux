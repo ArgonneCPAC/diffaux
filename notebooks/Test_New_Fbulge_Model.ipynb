{
 "cells": [
  {
   "cell_type": "code",
   "execution_count": null,
   "id": "6dcbfae6-e7c3-4b72-9476-cb24ad5a4f42",
   "metadata": {},
   "outputs": [],
   "source": [
    "import os\n",
    "from diffaux.disk_bulge_modeling.generate_bulge_disk_sample import (\n",
    "    get_bulge_disk_test_sample,\n",
    "    get_bulge_disk_decomposition,\n",
    "    get_zindexes,\n",
    ")\n",
    "\n",
    "from jax import random as jran\n",
    "import numpy as np\n",
    "import jax.numpy as jnp\n",
    "import matplotlib.pyplot as plt\n",
    "import numpy as np\n",
    "from collections import OrderedDict, namedtuple\n",
    "from itertools import zip_longest\n",
    "from diffaux.validation.plot_disk_bulge import (\n",
    "    plot_qs_profiles_for_zvals,\n",
    "    plot_qs_profiles,\n",
    "    plot_q_profile,\n",
    "    plot_q_vs_xs_color_scatter,\n",
    "    plot_q_with_cuts,\n",
    "    plot_q1_vs_q2,\n",
    "    plot_q1_q2,\n",
    "    plot_q_vs_q_x_at_z_scatter,\n",
    "    plot_q_vs_qx_at_z_profile,\n",
    ")\n",
    "\n",
    "from diffaux.validation.plot_utilities import get_nrow_ncol\n",
    "\n",
    "ran_key = jran.key(0)"
   ]
  },
  {
   "cell_type": "code",
   "execution_count": null,
   "id": "8b4540ef-6d45-4886-805e-3097bd382321",
   "metadata": {},
   "outputs": [],
   "source": [
    "halo_key, ran_key = jran.split(ran_key, 2)\n",
    "lgmp_min = 11.0\n",
    "redshift = 0.05\n",
    "Lbox = 75.0\n",
    "diffstar_cens = get_bulge_disk_test_sample(halo_key, lgmp_min=lgmp_min, redshift=redshift, Lbox=Lbox)"
   ]
  },
  {
   "cell_type": "code",
   "execution_count": null,
   "id": "590ff1dc-4a7c-4a6a-be48-2bc187942980",
   "metadata": {},
   "outputs": [],
   "source": [
    "zvalues = [0.0, 0.5, 1.0, 1.5, 2.0, 2.5]\n",
    "redshifts = diffstar_cens[\"z_table\"]\n",
    "zindexes, zs = get_zindexes(zvalues, redshifts)"
   ]
  },
  {
   "cell_type": "markdown",
   "id": "9afb540f-49cc-4367-8d57-b6067be79b9f",
   "metadata": {},
   "source": [
    "## New Fbulge Model"
   ]
  },
  {
   "cell_type": "code",
   "execution_count": null,
   "id": "dc906a71-7a68-4a86-a95e-980603407c08",
   "metadata": {},
   "outputs": [],
   "source": [
    "from diffaux.disk_bulge_modeling.mc_disk_bulge import DEFAULT_FBULGEPARAMS\n",
    "\n",
    "disk_bulge_key, ran_key = jran.split(ran_key, 2)\n",
    "\n",
    "diffstar_cens = get_bulge_disk_decomposition(\n",
    "    disk_bulge_key, diffstar_cens, FbulgeFixedParams=DEFAULT_FBULGEPARAMS, new_model=True\n",
    ")\n",
    "\n",
    "print(diffstar_cens.keys())\n",
    "for q in [\"tcrit_bulge\", \"fbulge_early\", \"fbulge_late\"]:\n",
    "    print(q, diffstar_cens[q].shape)"
   ]
  },
  {
   "cell_type": "markdown",
   "id": "fe16bf8e-0d5e-4c5b-927e-1ec088c43426",
   "metadata": {},
   "source": [
    "## Disk-Bulge Distribution Plots with New Model"
   ]
  },
  {
   "cell_type": "code",
   "execution_count": null,
   "id": "ca0a6dd0-d9ac-4d80-ab3d-a493610f60be",
   "metadata": {},
   "outputs": [],
   "source": [
    "plotdir = \"/Users/kovacs/cosmology/BulgeDisk/DiskBulgePlots\""
   ]
  },
  {
   "cell_type": "code",
   "execution_count": null,
   "id": "19bf7346-a802-48a4-98d4-ee4029b91cd6",
   "metadata": {},
   "outputs": [],
   "source": [
    "# setup mass mask\n",
    "logMz0_min = 8.0\n",
    "mass_mask = np.log10(diffstar_cens[\"smh\"][:, -1]) > logMz0_min\n",
    "lgnd_title = \", $\\\\log_{{10}}(M^*_{{z=0}}/M_\\\\odot) > {:.1f}$\".format(logMz0_min)\n",
    "\n",
    "plot_q_with_cuts(\n",
    "    diffstar_cens[\"bth\"][mass_mask],\n",
    "    zvalues,\n",
    "    redshifts,\n",
    "    jnp.log10(diffstar_cens[\"sSFR\"])[mass_mask],\n",
    "    [-11, -10],\n",
    "    dz=0.2,\n",
    "    lgnd_title=lgnd_title,\n",
    "    plotdir=plotdir,\n",
    "    xname=\"log_sSFR_new_model\",\n",
    ")"
   ]
  },
  {
   "cell_type": "code",
   "execution_count": null,
   "id": "b51e0be4-70bc-49da-b39d-78a29dc8496a",
   "metadata": {},
   "outputs": [],
   "source": [
    "plot_q_with_cuts(\n",
    "    diffstar_cens[\"eff_bulge\"][mass_mask],\n",
    "    zvalues,\n",
    "    redshifts,\n",
    "    np.log10(diffstar_cens[\"sSFR\"])[mass_mask],\n",
    "    [-11, -10],\n",
    "    dz=0.2,\n",
    "    pltname=\"effB_cut_on_{}_new_model.png\",\n",
    "    xlabel=\"Bulge Efficiency\",\n",
    "    lgnd_title=lgnd_title,\n",
    "    plotdir=plotdir,\n",
    ")"
   ]
  },
  {
   "cell_type": "code",
   "execution_count": null,
   "id": "6f840de1-295d-4fc8-9394-7512392dcf83",
   "metadata": {},
   "outputs": [],
   "source": [
    "logMz0_min = 8.5\n",
    "mass_mask = np.log10(diffstar_cens[\"smh\"][:, -1]) > logMz0_min\n",
    "print(mass_mask.shape)\n",
    "bins = np.logspace(7, 12, 51)\n",
    "lgnd_title = \", $\\\\log_{{10}}(M^*_{{z=0}}/M_\\\\odot) > {:.1f}$\".format(logMz0_min)\n",
    "# print(lgnd_title)\n",
    "\n",
    "plot_q_with_cuts(\n",
    "    diffstar_cens[\"smh_bulge\"][mass_mask],\n",
    "    zvalues,\n",
    "    redshifts,\n",
    "    np.log10(diffstar_cens[\"sSFR\"])[mass_mask],\n",
    "    [-11, -10],\n",
    "    dz=0.2,\n",
    "    pltname=\"bulge_mass_cut_on_{}_new_model.png\",\n",
    "    xlabel=\"Bulge Mass ($M_\\\\odot$)\",\n",
    "    xscale=\"log\",\n",
    "    bins=bins,\n",
    "    lgnd_title=lgnd_title,\n",
    "    plotdir=plotdir,\n",
    ")"
   ]
  },
  {
   "cell_type": "code",
   "execution_count": null,
   "id": "001baccf-c166-43b7-8dff-ec08ed4cec32",
   "metadata": {},
   "outputs": [],
   "source": [
    "# logMz0_min = 8.5\n",
    "# mass_mask = np.log10(diffstar_cens['smh'][:, -1]) > logMz0_min\n",
    "bins = np.logspace(-14, -7, 71)\n",
    "mass_bins = np.linspace(7.5, 11.5, 5)\n",
    "print(mass_bins, np.min(bins), np.max(bins))\n",
    "# test masking\n",
    "zmask = redshifts < 0.2\n",
    "q1_z = diffstar_cens[\"sSFR_bulge\"][:, zmask]\n",
    "cut_array_z = np.log10(diffstar_cens[\"smh\"])[:, zmask]\n",
    "cut_mask = (cut_array_z[:, -1] >= 8.5) & (cut_array_z[:, -1] < 11.5)\n",
    "print(cut_mask.shape, np.where(cut_mask == False)[0][0:2])\n",
    "cut_mask = np.broadcast_to(cut_mask, (np.count_nonzero(zmask), len(cut_mask))).T\n",
    "print(cut_mask.shape)"
   ]
  },
  {
   "cell_type": "code",
   "execution_count": null,
   "id": "f4f76d79-956b-451b-8a88-14d0e3109df1",
   "metadata": {},
   "outputs": [],
   "source": [
    "for m_lo, m_hi in zip(mass_bins[0:-1], mass_bins[1:]):\n",
    "    plot_q1_q2(\n",
    "        diffstar_cens[\"sSFR_bulge\"],\n",
    "        diffstar_cens[\"sSFR_disk\"],\n",
    "        zvalues,\n",
    "        redshifts,\n",
    "        np.log10(diffstar_cens[\"smh\"]),\n",
    "        m_lo,\n",
    "        m_hi,\n",
    "        dz=0.2,\n",
    "        xname=\"log_M0_{:.1f}_{:.1f}\",\n",
    "        cut_name=\"$\\\\log_{10}(M^*_{z=0}/M_\\\\odot)$\",\n",
    "        cut_at_z0=True,\n",
    "        bins=bins,\n",
    "        plotdir=plotdir,\n",
    "        pltname=\"sSFR_cut_on_{}_new_model.png\",\n",
    "    )"
   ]
  },
  {
   "cell_type": "code",
   "execution_count": null,
   "id": "bebc858d-0e30-4512-ba9c-788661924c57",
   "metadata": {},
   "outputs": [],
   "source": [
    "logMz0_min = 8.5\n",
    "logssfr_min = -14\n",
    "mass_mask = np.log10(diffstar_cens[\"smh\"][:, -1]) > logMz0_min\n",
    "title = \"$M^*_{{z=0}} > 10^{{{:.1f}}} M_\\\\odot, sSFR > 10^{{{}}} yr^{{-1}}$\".format(logMz0_min, logssfr_min)\n",
    "xname = \"log_M0_min_{:.1f}_logssfr_min_{}\".format(logMz0_min, -logssfr_min)\n",
    "plot_q1_vs_q2(\n",
    "    jnp.log10(diffstar_cens[\"smh\"][mass_mask]),\n",
    "    jnp.log10(diffstar_cens[\"sSFR\"][mass_mask]),\n",
    "    zvalues,\n",
    "    redshifts,\n",
    "    diffstar_cens[\"bth\"][mass_mask],\n",
    "    title=title,\n",
    "    xname=xname + \"_new_model\",\n",
    "    ymin=logssfr_min,\n",
    "    N=2000,\n",
    "    plotdir=plotdir,\n",
    ")"
   ]
  },
  {
   "cell_type": "markdown",
   "id": "ef672dfb-6131-49d0-833c-c7070fc06d6d",
   "metadata": {},
   "source": [
    "## Fbulge parameter plots with new model"
   ]
  },
  {
   "cell_type": "code",
   "execution_count": null,
   "id": "41f142fe-1dad-4802-8280-39d540dfeea5",
   "metadata": {},
   "outputs": [],
   "source": [
    "logMz0_min = 8.0\n",
    "logssfr_min = -16\n",
    "mass_mask = np.log10(diffstar_cens[\"smh\"][:, -1]) > logMz0_min\n",
    "sfr_mask = np.log10(diffstar_cens[\"sSFR\"][:, -1]) > logssfr_min\n",
    "mask = mass_mask & sfr_mask\n",
    "title = \"$M^*_{{z=0}} > 10^{{{:.1f}}} M_\\\\odot, sSFR > 10^{{{}}} yr^{{-1}}$\".format(logMz0_min, logssfr_min)\n",
    "xname = \"log_M0_min_{:.1f}_logssfr_min_{}\".format(logMz0_min, -logssfr_min)\n",
    "print(diffstar_cens[\"eff_bulge\"][mass_mask].shape)\n",
    "\n",
    "qs = [diffstar_cens[\"fbulge_early\"][mass_mask], diffstar_cens[\"fbulge_late\"][mass_mask]]\n",
    "ylabels = [\"fbulge_early\", \"fbulge_late\"]"
   ]
  },
  {
   "cell_type": "code",
   "execution_count": null,
   "id": "009108fb-d6b9-421a-a3cc-c76aa1566c05",
   "metadata": {},
   "outputs": [],
   "source": [
    "for q, ylabel in zip(qs, ylabels):\n",
    "    plot_q_vs_q_x_at_z_scatter(\n",
    "        q,\n",
    "        diffstar_cens[\"tcrit_bulge\"][mass_mask],\n",
    "        ylabel,\n",
    "        diffstar_cens[\"eff_bulge\"][mass_mask],\n",
    "        zindexes,\n",
    "        zs,\n",
    "        cbar_title=\"$\\\\epsilon_{bulge}$\",\n",
    "        title=title,\n",
    "        xname=xname,\n",
    "        N=2000,\n",
    "        plotdir=plotdir,\n",
    "        xlabel=\"tcrit_bulge\",\n",
    "        plotsubdir=\"Fbulge\",\n",
    "        pltname=\"{}_vs_tcrit_bulge_{}_new_model.png\",\n",
    "    )"
   ]
  },
  {
   "cell_type": "code",
   "execution_count": null,
   "id": "28f262b5-4342-4316-82d0-7d8873c81629",
   "metadata": {},
   "outputs": [],
   "source": [
    "plot_q_vs_q_x_at_z_scatter(\n",
    "    diffstar_cens[\"fbulge_late\"][mass_mask],\n",
    "    diffstar_cens[\"fbulge_early\"][mass_mask],\n",
    "    \"fbulge_late\",\n",
    "    diffstar_cens[\"eff_bulge\"][mass_mask],\n",
    "    zindexes,\n",
    "    zs,\n",
    "    cbar_title=\"$\\\\epsilon_{bulge}$\",\n",
    "    title=title,\n",
    "    xname=xname,\n",
    "    N=2000,\n",
    "    plotdir=plotdir,\n",
    "    plotsubdir=\"Fbulge\",\n",
    "    xlabel=\"fbulge_early\",\n",
    "    pltname=\"{}_vs_fbulge_early_{}_new_model.png\",\n",
    ")"
   ]
  },
  {
   "cell_type": "code",
   "execution_count": null,
   "id": "10e8e46b-cec5-4126-aaf9-8ccb95ab06cc",
   "metadata": {},
   "outputs": [],
   "source": [
    "Df = diffstar_cens[\"fbulge_early\"][mass_mask] - diffstar_cens[\"fbulge_late\"][mass_mask]\n",
    "plot_q_vs_q_x_at_z_scatter(\n",
    "    Df,\n",
    "    diffstar_cens[\"tcrit_bulge\"][mass_mask],\n",
    "    \"dfbulge\",\n",
    "    diffstar_cens[\"eff_bulge\"][mass_mask],\n",
    "    zindexes,\n",
    "    zs,\n",
    "    cbar_title=\"$\\\\epsilon_{bulge}$\",\n",
    "    title=title,\n",
    "    xname=xname,\n",
    "    N=2000,\n",
    "    plotdir=plotdir,\n",
    "    xlabel=\"tcrit_bulge\",\n",
    "    plotsubdir=\"Fbulge\",\n",
    "    pltname=\"{}_vs_tcrit_bulge_{}_new_model.png\",\n",
    ")"
   ]
  },
  {
   "cell_type": "code",
   "execution_count": null,
   "id": "c9dd6a63-b122-4444-872d-cdd7415c64a5",
   "metadata": {},
   "outputs": [],
   "source": [
    "# Look at t10, t90 and dt distributions\n",
    "from diffaux.disk_bulge_modeling.disk_bulge_kernels import (\n",
    "    calc_tform_pop,\n",
    ")\n",
    "\n",
    "tarr = diffstar_cens[\"t_table\"]\n",
    "smh_pop = diffstar_cens[\"smh\"][mass_mask]\n",
    "t10 = calc_tform_pop(tarr, smh_pop, 0.1)\n",
    "t90 = calc_tform_pop(tarr, smh_pop, 0.9)\n",
    "dt = t90 - t10\n",
    "tcrit = diffstar_cens[\"tcrit_bulge\"][mass_mask]\n",
    "early = diffstar_cens[\"fbulge_early\"][mass_mask]\n",
    "late = diffstar_cens[\"fbulge_late\"][mass_mask]\n",
    "print(t90.shape, dt.shape, tcrit.shape, early.shape)"
   ]
  },
  {
   "cell_type": "code",
   "execution_count": null,
   "id": "4c27ef72-a306-429d-8a4c-a2a845506be8",
   "metadata": {},
   "outputs": [],
   "source": [
    "qs = [t10, t90, dt, tcrit, early, late]\n",
    "ylabels = [\"t10\", \"t90\", \"dt\", \"fbulge_{tcrit}\", \"fbulge_{early}\", \"fbulge_{late}\"]\n",
    "logM_min = 7.0\n",
    "logM_max = 11.5\n",
    "Nm = 36\n",
    "Mbins = np.linspace(logM_min, logM_max, Nm + 1)"
   ]
  },
  {
   "cell_type": "code",
   "execution_count": null,
   "id": "0651d008-c936-48cd-a848-ea96d814cb72",
   "metadata": {},
   "outputs": [],
   "source": [
    "plot_q_vs_qx_at_z_profile(\n",
    "    qs,\n",
    "    jnp.log10(diffstar_cens[\"smh\"])[mass_mask],\n",
    "    ylabels,\n",
    "    zindexes,\n",
    "    zs,\n",
    "    bins=Mbins,\n",
    "    title=title,\n",
    "    xname=xname,\n",
    "    plotdir=plotdir,\n",
    "    pltname=\"t10_90_dt_fbulge_vs_log_Mz_{}_new_model.png\",\n",
    "    plotsubdir=\"Fbulge\",\n",
    ")"
   ]
  },
  {
   "cell_type": "code",
   "execution_count": null,
   "id": "e49611e6-2b9c-4aec-8264-558419325e98",
   "metadata": {},
   "outputs": [],
   "source": [
    "logsSFR_min = -16\n",
    "logsSFR_max = -8\n",
    "Ns = 32\n",
    "sbins = np.linspace(logsSFR_min, logsSFR_max, Ns + 1)\n",
    "\n",
    "plot_q_vs_qx_at_z_profile(\n",
    "    qs,\n",
    "    jnp.log10(diffstar_cens[\"sSFR\"])[mass_mask],\n",
    "    ylabels,\n",
    "    zindexes,\n",
    "    zs,\n",
    "    bins=sbins,\n",
    "    title=title,\n",
    "    xname=xname,\n",
    "    xlabel=\"$\\\\log_{10}(sSFR*yr)$\",\n",
    "    plotdir=plotdir,\n",
    "    plotsubdir=\"Fbulge\",\n",
    "    pltname=\"t10_90_dt_fbulge_vs_log_sSFR_{}_new_model.png\",\n",
    "    colors=(\"b\", \"g\", \"c\", \"r\", \"darkorange\", \"m\"),\n",
    ")"
   ]
  },
  {
   "cell_type": "markdown",
   "id": "cd6da61e-2a54-478e-a936-e64f02e5776b",
   "metadata": {},
   "source": [
    "## B/T Plots"
   ]
  },
  {
   "cell_type": "code",
   "execution_count": null,
   "id": "3f0d9ca6-ffc8-48c9-8122-796fce6ba061",
   "metadata": {},
   "outputs": [],
   "source": [
    "logMz0_min = 8.0\n",
    "logssfr_min = -15\n",
    "mass_mask = np.log10(diffstar_cens[\"smh\"][:, -1]) > logMz0_min\n",
    "sfr_mask = np.log10(diffstar_cens[\"sSFR\"][:, -1]) > logssfr_min\n",
    "mask = mass_mask & sfr_mask\n",
    "title = \"$M^*_{{z=0}} > 10^{{{:.1f}}} M_\\\\odot, sSFR > 10^{{{}}} yr^{{-1}}$\".format(logMz0_min, logssfr_min)\n",
    "xname = \"log_M0_min_{:.1f}_logssfr_min_{}\".format(logMz0_min, -logssfr_min)"
   ]
  },
  {
   "cell_type": "code",
   "execution_count": null,
   "id": "b7ed126e-f22a-4150-9f80-63fc78726317",
   "metadata": {},
   "outputs": [],
   "source": [
    "plot_q1_vs_q2(\n",
    "    jnp.log10(diffstar_cens[\"sSFR\"][mask]),\n",
    "    diffstar_cens[\"bth\"][mask],\n",
    "    zvalues,\n",
    "    redshifts,\n",
    "    jnp.log10(diffstar_cens[\"smh\"][mask]),\n",
    "    title=title,\n",
    "    xname=xname,\n",
    "    cbar_title=\"$\\\\log_{10}(M^*/M_\\\\odot)$\",\n",
    "    N=3000,\n",
    "    xmin=-14,\n",
    "    xmax=-8.4,\n",
    "    ymin=0,\n",
    "    ymax=1.0,\n",
    "    ylabel=\"B/T\",\n",
    "    xlabel=\"$\\\\log_{10}(sSFR/yr)$\",\n",
    "    pltname=\"BoverT_vs_sSFR_{}_new_model.png\",\n",
    "    plotdir=plotdir,\n",
    ")"
   ]
  },
  {
   "cell_type": "code",
   "execution_count": null,
   "id": "7d2bab2d-a141-4a3a-975a-90ef0b94d71c",
   "metadata": {},
   "outputs": [],
   "source": [
    "plot_q1_vs_q2(\n",
    "    jnp.log10(diffstar_cens[\"smh\"][mask]),\n",
    "    diffstar_cens[\"bth\"][mask],\n",
    "    zvalues,\n",
    "    redshifts,\n",
    "    jnp.log10(diffstar_cens[\"sSFR\"][mask]),\n",
    "    title=title,\n",
    "    xname=xname,\n",
    "    cmap=\"jet_r\",\n",
    "    N=2000,\n",
    "    ymin=0,\n",
    "    ymax=1.0,\n",
    "    xmin=7,\n",
    "    xmax=12,\n",
    "    xlabel=\"$\\\\log_{10}(M^*/M_\\\\odot)$\",\n",
    "    ylabel=\"B/T\",\n",
    "    cbar_title=\"$\\\\log_{10}(sSFR/yr)$\",\n",
    "    pltname=\"BoverT_vs_logMstar_{}_new_model.png\",\n",
    "    plotdir=plotdir,\n",
    ")"
   ]
  },
  {
   "cell_type": "code",
   "execution_count": null,
   "id": "bf2460ea-3202-43cc-a7e3-1e2c70f932eb",
   "metadata": {},
   "outputs": [],
   "source": [
    "plot_q1_vs_q2(\n",
    "    diffstar_cens[\"eff_bulge\"][mask],\n",
    "    diffstar_cens[\"bth\"][mask],\n",
    "    zvalues,\n",
    "    redshifts,\n",
    "    jnp.log10(diffstar_cens[\"smh\"][mask]),\n",
    "    title=title,\n",
    "    xname=xname,\n",
    "    cmap=\"jet\",\n",
    "    N=2000,\n",
    "    ymin=0,\n",
    "    ymax=1.0,\n",
    "    xmin=0,\n",
    "    xmax=1.0,\n",
    "    xlabel=\"$\\\\epsilon_{bulge}$\",\n",
    "    ylabel=\"B/T\",\n",
    "    cbar_title=\"$\\\\log_{10}(M^*/M_\\\\odot)$\",\n",
    "    pltname=\"BoverT_vs_eff_bulge_{}_new_model.png\",\n",
    "    plotdir=plotdir,\n",
    ")"
   ]
  },
  {
   "cell_type": "code",
   "execution_count": null,
   "id": "e9de889f-8f6e-4fe0-89fe-3891b57e80b9",
   "metadata": {},
   "outputs": [],
   "source": [
    "# profiles\n",
    "qs = [diffstar_cens[\"bth\"][mask], diffstar_cens[\"eff_bulge\"][mask]]\n",
    "ylabels = [\"B/T\", \"\\\\epsilon_{bulge}\"]\n",
    "logM_min = 7.0\n",
    "logM_max = 11.5\n",
    "Nm = 9\n",
    "Mbins = np.linspace(logM_min, logM_max, Nm + 1)\n",
    "logsSFR_min = -16\n",
    "logsSFR_max = -8\n",
    "Ns = 8\n",
    "sbins = np.linspace(logsSFR_min, logsSFR_max, Ns + 1)"
   ]
  },
  {
   "cell_type": "code",
   "execution_count": null,
   "id": "da3a5e3d-8d45-4932-a0d1-a0d9bcde78ac",
   "metadata": {},
   "outputs": [],
   "source": [
    "plot_q_vs_qx_at_z_profile(\n",
    "    qs,\n",
    "    jnp.log10(diffstar_cens[\"smh\"][mask]),\n",
    "    ylabels,\n",
    "    zindexes,\n",
    "    zs,\n",
    "    bins=Mbins,\n",
    "    title=title,\n",
    "    xname=xname,\n",
    "    plotdir=plotdir,\n",
    "    pltname=\"BoverT_vs_log_Mz_{}_new_model.png\",\n",
    "    errors=[True, True],\n",
    "    qs_depends_z=True,\n",
    ")"
   ]
  },
  {
   "cell_type": "code",
   "execution_count": null,
   "id": "95160ce7-1ca2-43ba-98dd-a54328bd9c51",
   "metadata": {},
   "outputs": [],
   "source": [
    "plot_q_vs_qx_at_z_profile(\n",
    "    qs,\n",
    "    jnp.log10(diffstar_cens[\"sSFR\"])[mask],\n",
    "    ylabels,\n",
    "    zindexes,\n",
    "    zs,\n",
    "    bins=sbins,\n",
    "    title=title,\n",
    "    xname=xname,\n",
    "    xlabel=\"$\\\\log_{10}(sSFR*yr)$\",\n",
    "    plotdir=plotdir,\n",
    "    pltname=\"BoverT_vs_log_sSFR_{}_new_model.png\",\n",
    "    errors=[True, True],\n",
    "    qs_depends_z=True,\n",
    ")"
   ]
  },
  {
   "cell_type": "code",
   "execution_count": null,
   "id": "3ea57e6a-8534-4bf2-a602-c343fbb6b58e",
   "metadata": {},
   "outputs": [],
   "source": []
  }
 ],
 "metadata": {
  "kernelspec": {
   "display_name": "diffaux",
   "language": "python",
   "name": "diffaux"
  },
  "language_info": {
   "codemirror_mode": {
    "name": "ipython",
    "version": 3
   },
   "file_extension": ".py",
   "mimetype": "text/x-python",
   "name": "python",
   "nbconvert_exporter": "python",
   "pygments_lexer": "ipython3",
   "version": "3.12.7"
  }
 },
 "nbformat": 4,
 "nbformat_minor": 5
}
