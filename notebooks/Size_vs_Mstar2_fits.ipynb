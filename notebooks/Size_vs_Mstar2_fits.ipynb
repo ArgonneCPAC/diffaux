{
 "cells": [
  {
   "cell_type": "code",
   "execution_count": null,
   "id": "031f242d-fcbe-4bc0-abd9-8a6eba56332b",
   "metadata": {},
   "outputs": [],
   "source": [
    "import os\n",
    "import numpy as np\n",
    "import re\n",
    "from diffaux.validation.read_size_validation_data import read_size_data, validation_info\n",
    "from diffaux.validation.read_size_validation_data import get_author_list"
   ]
  },
  {
   "cell_type": "code",
   "execution_count": null,
   "id": "9b4d4472-fca0-45ca-9677-f5ac6aae681b",
   "metadata": {},
   "outputs": [],
   "source": [
    "authors_rm = get_author_list(validation_info[\"Re_vs_Mstar2\"])"
   ]
  },
  {
   "cell_type": "code",
   "execution_count": null,
   "id": "c0990ba2-9b46-451f-bf84-2762be7553e1",
   "metadata": {},
   "outputs": [],
   "source": [
    "Rmdata = read_size_data({}, authors_rm, info_key=\"Re_vs_Mstar2\")"
   ]
  },
  {
   "cell_type": "markdown",
   "id": "bc48cc7b-3207-4aea-9617-cc927c0a1a4d",
   "metadata": {},
   "source": [
    "## Plot Behavior of Fit Coefficients for Median Sizes"
   ]
  },
  {
   "cell_type": "code",
   "execution_count": null,
   "id": "72f79b02-3877-49c9-ace4-4fc07e56efb7",
   "metadata": {},
   "outputs": [],
   "source": [
    "notebook_dir = \"/Users/kovacs/cosmology/diff_notebooks\"\n",
    "from diffaux.validation.plot_size_data import plot_size_data\n",
    "from diffaux.validation.plot_size_data import PLOT_DRN"
   ]
  },
  {
   "cell_type": "code",
   "execution_count": null,
   "id": "18679aab-7fa7-4dc7-8ee3-5abcf6fd94dc",
   "metadata": {},
   "outputs": [],
   "source": [
    "plot_size_data(\n",
    "    Rmdata,\n",
    "    validation_info,\n",
    "    authors_rm,\n",
    "    info_keys=[\"Re_vs_Mstar2\"],\n",
    "    summary_only=True,\n",
    "    plotdir=os.path.join(notebook_dir, PLOT_DRN),\n",
    ")"
   ]
  },
  {
   "cell_type": "markdown",
   "id": "de5899d1-71a5-4201-bb05-e185c02395d3",
   "metadata": {},
   "source": [
    "## Setup Choices for Fitting the Behavior of Median Sizes with M*"
   ]
  },
  {
   "cell_type": "code",
   "execution_count": null,
   "id": "4c70ada8-645a-481f-9a8f-8a2223925b72",
   "metadata": {},
   "outputs": [],
   "source": [
    "from diffaux.size_modeling.fit_size_data import collect_data_vectors, Samples_MFit2, Samples_MFit\n",
    "\n",
    "data_vectors = collect_data_vectors(\n",
    "    Rmdata, Samples_MFit2, validation_info, fit_type=\"Re_vs_Mstar2\", lambda_min=0.5, lambda_max=1.0\n",
    ")\n",
    "print(data_vectors)\n",
    "from diffaux.size_modeling.fit_size_data import Names_MFit2\n",
    "\n",
    "print(Names_MFit2)"
   ]
  },
  {
   "cell_type": "code",
   "execution_count": null,
   "id": "f5160235-dec5-4e4a-bda2-1aedd6b21ad5",
   "metadata": {},
   "outputs": [],
   "source": [
    "from diffaux.size_modeling.fit_size_data import MFit2Params_Sig_initial, MFit2Params_Lin_initial\n",
    "\n",
    "print(MFit2Params_Lin_initial)"
   ]
  },
  {
   "cell_type": "code",
   "execution_count": null,
   "id": "d4bd4458-4f97-4be1-85ad-d786c4245f47",
   "metadata": {},
   "outputs": [],
   "source": [
    "from diffaux.size_modeling.fit_size_data import assign_p0_values_to_fits, _linear\n",
    "\n",
    "# assign initial values to fits dict and plot\n",
    "fits = assign_p0_values_to_fits(MFit2Params_Lin_initial, fit_type=\"Re_vs_Mstar2\")\n",
    "print(fits)"
   ]
  },
  {
   "cell_type": "code",
   "execution_count": null,
   "id": "8e44daf3-2102-42e8-9002-1114e2c0df74",
   "metadata": {},
   "outputs": [],
   "source": [
    "from diffaux.validation.plot_size_fits import plot_fits\n",
    "\n",
    "fit_type = \"Re_vs_Mstar2\"\n",
    "plot_fits(\n",
    "    fits[fit_type],\n",
    "    data_vectors[fit_type],\n",
    "    Samples_MFit2,\n",
    "    validation_info[fit_type],\n",
    "    plotdir=os.path.join(notebook_dir, PLOT_DRN),\n",
    "    title=\"InitialGuess\",\n",
    "    pltname=\"FitRe_vs_Mstar2_Lin_{}.png\",\n",
    "    fit_label=\"z\",\n",
    "    func=_linear,\n",
    ")"
   ]
  },
  {
   "cell_type": "markdown",
   "id": "f0fc1172-cddc-48b1-ad05-fcdf4bcb8e1f",
   "metadata": {},
   "source": [
    "## Fit the Coefficients and Save Results"
   ]
  },
  {
   "cell_type": "code",
   "execution_count": null,
   "id": "e4e62882-7f57-40cd-8e72-ce917c04d4d9",
   "metadata": {},
   "outputs": [],
   "source": [
    "fit_type = \"Re_vs_Mstar2\"\n",
    "from diffaux.size_modeling.fit_size_data import fit_parameters, _sigmoid, _linear\n",
    "\n",
    "fits = {}\n",
    "from diffaux.size_modeling.fit_size_data import Xvalue_MFit2\n",
    "\n",
    "fits[fit_type] = fit_parameters(data_vectors[fit_type], Xvalue_MFit2, MFit2Params_Lin_initial, func=_linear)\n",
    "print(fits[\"Re_vs_Mstar2\"])"
   ]
  },
  {
   "cell_type": "code",
   "execution_count": null,
   "id": "1e24942e-aada-453d-b8d6-9a64d9c9888c",
   "metadata": {},
   "outputs": [],
   "source": [
    "plot_fits(\n",
    "    fits[fit_type],\n",
    "    data_vectors[fit_type],\n",
    "    Samples_MFit2,\n",
    "    validation_info[fit_type],\n",
    "    func=_linear,\n",
    "    data=Rmdata[fit_type],\n",
    "    authors=authors_rm,\n",
    "    plotdir=os.path.join(notebook_dir, PLOT_DRN),\n",
    "    pltname=\"FitRe_vs_Mstar2_{}.png\",\n",
    "    fit_label=\"z\",\n",
    "    title=\"Linear_bestfit\",\n",
    ")"
   ]
  },
  {
   "cell_type": "code",
   "execution_count": null,
   "id": "8fc200a0-06ff-44ce-9e13-2c7f6683a6e7",
   "metadata": {},
   "outputs": [],
   "source": [
    "import pickle\n",
    "from diffaux.size_modeling.fit_size_data import MFit2Parameters, MFitParameters\n",
    "from diffaux.size_modeling.fit_size_data import write_fit_parameters, read_fit_parameters"
   ]
  },
  {
   "cell_type": "code",
   "execution_count": null,
   "id": "b21e3da8-fa66-4358-9283-fd272f3aaf4b",
   "metadata": {},
   "outputs": [],
   "source": [
    "write_fit_parameters(fits, fitdir=\"./\", fit_type=\"Re_vs_Mstar2\")"
   ]
  },
  {
   "cell_type": "markdown",
   "id": "aee0ce5d-e2a8-411f-ae13-0e1207eab5d9",
   "metadata": {},
   "source": [
    "## Read in Fit Parameters and Generate Sizes"
   ]
  },
  {
   "cell_type": "code",
   "execution_count": null,
   "id": "ba95c96b-4d4c-4d6a-8ab0-2d014b19351f",
   "metadata": {},
   "outputs": [],
   "source": [
    "fit_pars_Mfit2, _ = read_fit_parameters(MFit2Parameters, fit_type=\"Re_vs_Mstar2\")\n",
    "print(fit_pars_Mfit2)"
   ]
  },
  {
   "cell_type": "code",
   "execution_count": null,
   "id": "69da91ca-87ae-4017-bc39-5fc9ae5a3733",
   "metadata": {},
   "outputs": [],
   "source": [
    "from diffaux.size_modeling.fit_size_data import assemble_mixed_fit_parameters\n",
    "\n",
    "fit_pars = assemble_mixed_fit_parameters(Samples_MFit)\n",
    "print(fit_pars)"
   ]
  },
  {
   "cell_type": "code",
   "execution_count": null,
   "id": "7e5a2bb8-5988-4775-a439-63cb41a83826",
   "metadata": {},
   "outputs": [],
   "source": [
    "# try to tinker the beta coefficients for Quiescent galaxies\n",
    "print(fit_pars[\"Quiescent\"].beta_Quiescent)\n",
    "fit_pars_test = {}\n",
    "fit_pars_tmp = {}\n",
    "fit_pars_test[\"Starforming\"] = fit_pars[\"Starforming\"]\n",
    "fit_pars_tmp[\"Quiescent\"] = fit_pars[\"Quiescent\"]._replace(beta_Quiescent=np.asarray([0.71, 0.055]))\n",
    "fit_pars_test[\"Quiescent\"] = fit_pars_tmp[\"Quiescent\"]._replace(logMp_Quiescent=np.asarray([10.0, 0.4]))\n",
    "print(fit_pars_test[\"Quiescent\"].beta_Quiescent)\n",
    "print(fit_pars_test[\"Quiescent\"].logMp_Quiescent)"
   ]
  },
  {
   "cell_type": "code",
   "execution_count": null,
   "id": "dc8a6799-2d92-4f26-86b5-a3421a8f98d4",
   "metadata": {},
   "outputs": [],
   "source": [
    "# tinker with dict to save values\n",
    "print(fits[\"Re_vs_Mstar2\"][\"beta_Quiescent\"])\n",
    "fits[\"Re_vs_Mstar2\"][\"beta_Quiescent\"][\"popt\"] = np.asarray([0.71, 0.055])\n",
    "fits[\"Re_vs_Mstar2\"][\"logMp_Quiescent\"][\"popt\"] = np.asarray([10.0, 0.4])\n",
    "print(fits[\"Re_vs_Mstar2\"][\"beta_Quiescent\"], fits[\"Re_vs_Mstar2\"][\"logMp_Quiescent\"])"
   ]
  },
  {
   "cell_type": "code",
   "execution_count": null,
   "id": "8462288c-5cb1-41b6-b743-c2d3468960c0",
   "metadata": {},
   "outputs": [],
   "source": [
    "# Write tinkered fir coefficients to pkl file\n",
    "write_fit_parameters(fits, fitdir=\"./\", fn=\"{}_betaQ_adjusted_fit_parameters.pkl\", fit_type=\"Re_vs_Mstar2\")"
   ]
  },
  {
   "cell_type": "code",
   "execution_count": null,
   "id": "58b3d0d9-02c2-4dba-b157-b6a66c329dfe",
   "metadata": {},
   "outputs": [],
   "source": [
    "fit_pars_betaQ, _ = read_fit_parameters(\n",
    "    MFit2Parameters, fit_type=\"Re_vs_Mstar2\", fn=\"{}_betaQ_adjusted_fit_parameters.pkl\"\n",
    ")\n",
    "from diffaux.size_modeling.fit_size_data import DEFAULT_MIXED_FIT_FILENAMES\n",
    "\n",
    "MODQ_MIXED_FIT_FILENAMES = DEFAULT_MIXED_FIT_FILENAMES.copy()\n",
    "MODQ_MIXED_FIT_FILENAMES[\"Quiescent\"] = \"{}_betaQ_adjusted_fit_parameters.pkl\".format(fit_type)\n",
    "fit_pars_Qmod = assemble_mixed_fit_parameters(Samples_MFit, plknames=MODQ_MIXED_FIT_FILENAMES)\n",
    "print(fit_pars_Qmod)"
   ]
  },
  {
   "cell_type": "code",
   "execution_count": null,
   "id": "0897a8ac-444d-45a8-94fa-cf75a575be70",
   "metadata": {},
   "outputs": [],
   "source": [
    "# generate sizes\n",
    "import numpy as np\n",
    "from diffaux.size_modeling.fit_size_data import (\n",
    "    generate_sizes,\n",
    "    get_color_mask,\n",
    "    _linear,\n",
    "    median_size_vs_Mstar2,\n",
    "    get_median_sizes,\n",
    ")\n",
    "from diffaux.size_modeling.fit_size_data import (\n",
    "    DEFAULT_FIT_FUNCTIONS,\n",
    "    DEFAULT_SIZE_FUNCTIONS,\n",
    "    DEFAULT_MIXED_FIT_FITTYPES,\n",
    ")\n",
    "\n",
    "N = 6000\n",
    "lM_lo = 7.5\n",
    "lM_hi = 12.0\n",
    "z_lo = 0.0\n",
    "z_hi = 3.0\n",
    "UVJcolor_cut = 1.5\n",
    "log_Mstar = np.random.uniform(low=lM_lo, high=lM_hi, size=N)\n",
    "redshift = np.random.uniform(low=z_lo, high=z_hi, size=N)\n",
    "color_gal = np.random.uniform(low=-0.2, high=2.3, size=N)"
   ]
  },
  {
   "cell_type": "code",
   "execution_count": null,
   "id": "2d4e6cd3-bc16-4554-b320-533211d06ff2",
   "metadata": {},
   "outputs": [],
   "source": [
    "# check how R_median changes with different fit parameters\n",
    "R_median = {}\n",
    "keys = [\"Mfit2 Parameters\", \"Q-modified Parameters\"]\n",
    "pars = [fit_pars, fit_pars_Qmod]\n",
    "\n",
    "for k, p in zip(keys, pars):\n",
    "    R_median[k] = get_median_sizes(\n",
    "        p,\n",
    "        log_Mstar,\n",
    "        redshift,\n",
    "        color_gal,\n",
    "        N,\n",
    "        Samples_MFit2,\n",
    "        fit_types=DEFAULT_MIXED_FIT_FITTYPES,\n",
    "        UVJcolor_cut=UVJcolor_cut,\n",
    "        fit_funcs=DEFAULT_FIT_FUNCTIONS,\n",
    "        size_funcs=DEFAULT_SIZE_FUNCTIONS,\n",
    "    )\n",
    "    print(np.min(R_median[k]), np.max(R_median[k]))"
   ]
  },
  {
   "cell_type": "code",
   "execution_count": null,
   "id": "fcbba73d-5789-45a0-a5a6-4beaef7b79f1",
   "metadata": {},
   "outputs": [],
   "source": [
    "from diffaux.validation.plot_utilities import get_nrow_ncol, save_fig\n",
    "import matplotlib.pyplot as plt\n",
    "from scipy.stats import binned_statistic\n",
    "\n",
    "\n",
    "def plot_R_median(\n",
    "    R_median,\n",
    "    color_gal,\n",
    "    log_Mstar,\n",
    "    redshift,\n",
    "    val_info,\n",
    "    sample=\"Quiesent\",\n",
    "    z_lo=0.0,\n",
    "    z_hi=3.0,\n",
    "    Nz=7,\n",
    "    logM_lo=7.5,\n",
    "    logM_hi=12.0,\n",
    "    NM=6,\n",
    "    plotdir=PLOT_DRN,\n",
    "    xtitle=\"parameter_tests\",\n",
    "    pltname=\"R_median_vs_Mstar_zbins_{}.png\",\n",
    "):\n",
    "    z_bins = np.linspace(z_lo, z_hi, Nz)\n",
    "    nrow, ncol = get_nrow_ncol(len(R_median.keys()))\n",
    "\n",
    "    fig, ax_all = plt.subplots(nrow, ncol, figsize=(ncol * 7, nrow * 5), sharey=True)\n",
    "    for ax, (k, v) in zip(ax_all.flat, R_median.items()):\n",
    "        for z_min, z_max in zip(z_bins[0:-1], z_bins[1:]):\n",
    "            zmask = (redshift >= z_min) & (redshift < z_max)\n",
    "            cmask = get_color_mask(color_gal, sample)\n",
    "            mask = zmask & cmask\n",
    "            ztitle = f\"${z_min:.1f} \\\\leq z < {z_max:.1f}$\"\n",
    "            result = binned_statistic(\n",
    "                log_Mstar[mask],\n",
    "                [v[mask], v[mask] ** 2],\n",
    "                bins=NM,\n",
    "                range=(logM_lo, logM_hi),\n",
    "                statistic=\"mean\",\n",
    "            )\n",
    "            means, means2 = result.statistic\n",
    "            bin_edges = result.bin_edges\n",
    "            bin_centers = (bin_edges[:-1] + bin_edges[1:]) / 2.0\n",
    "            ax.plot(bin_centers, means, label=f\"{ztitle}\", linewidth=3)\n",
    "\n",
    "        ax.legend(loc=\"best\", title=k)\n",
    "        ax.set_yscale(\"log\")\n",
    "        ax.set_xlabel(val_info[\"xlabel\"])\n",
    "        ax.set_ylabel(val_info[\"ylabel\"])\n",
    "\n",
    "    fig.suptitle(f\"{sample} Median Sizes\", y=0.92, fontweight=\"bold\")\n",
    "    plotdir = os.path.join(notebook_dir, PLOT_DRN)\n",
    "    save_fig(fig, plotdir, pltname.format(xtitle))\n",
    "\n",
    "    return"
   ]
  },
  {
   "cell_type": "code",
   "execution_count": null,
   "id": "cd1d57be-17ec-464f-bf63-46e281d86dd6",
   "metadata": {},
   "outputs": [],
   "source": [
    "plot_R_median(R_median, color_gal, log_Mstar, redshift, validation_info[\"Re_vs_Mstar_data\"])"
   ]
  },
  {
   "cell_type": "code",
   "execution_count": null,
   "id": "617cd5af-8ec3-4d4a-8508-11129cc456ab",
   "metadata": {},
   "outputs": [],
   "source": [
    "R_med = {}\n",
    "Re = {}\n",
    "keys = [\"Mfit2 Parameters\", \"Q-modified Parameters\"]\n",
    "pars = [fit_pars, fit_pars_Qmod]\n",
    "\n",
    "for k, p in zip(keys, pars):\n",
    "    Re[k], R_med[k] = generate_sizes(\n",
    "        p,\n",
    "        log_Mstar,\n",
    "        redshift,\n",
    "        color_gal,\n",
    "        fit_types=DEFAULT_MIXED_FIT_FITTYPES,\n",
    "        samples=Samples_MFit2,\n",
    "        size_funcs=DEFAULT_SIZE_FUNCTIONS,\n",
    "        fit_funcs=DEFAULT_FIT_FUNCTIONS,\n",
    "        scatter=0.2,\n",
    "    )\n",
    "    print(np.min(Re[k]), np.max(Re[k]))"
   ]
  },
  {
   "cell_type": "markdown",
   "id": "9db1a3ee-ead5-4df7-b68c-773189aae6bb",
   "metadata": {},
   "source": [
    "## Plot Results and Compare Generated Sizes with Validation Data"
   ]
  },
  {
   "cell_type": "code",
   "execution_count": null,
   "id": "c3a6bdb0-8b4d-417f-a00c-0a758fd5784f",
   "metadata": {},
   "outputs": [],
   "source": [
    "authors_re = get_author_list(validation_info[\"Re_vs_z_data\"])\n",
    "Redata = read_size_data({}, authors_re, info_key=\"Re_vs_z_data\")\n",
    "authors_rd = get_author_list(validation_info[\"Re_vs_Mstar_data\"])\n",
    "Rddata = {}\n",
    "for author in authors_rd:\n",
    "    samples = validation_info[\"Re_vs_Mstar_data\"][author][\"samples\"]\n",
    "    for sample in samples:\n",
    "        if \"All\" not in sample:\n",
    "            Rddata = read_size_data(Rddata, authors_rd, info_key=\"Re_vs_Mstar_data\", sample=sample)\n",
    "tests = [Redata, Rddata]"
   ]
  },
  {
   "cell_type": "code",
   "execution_count": null,
   "id": "99f4597a-b68f-47d3-89b4-265fa6855fa6",
   "metadata": {},
   "outputs": [],
   "source": [
    "# make validation plots using data for measured sizes and median sizes\n",
    "from diffaux.validation.plot_size_fits import plot_generated_sizes\n",
    "\n",
    "for k in Re.keys():\n",
    "    for test, ikey in zip(tests, [\"Re_vs_z_data\", \"Re_vs_Mstar_data\"]):\n",
    "        authors = get_author_list(validation_info[ikey])\n",
    "        plot_generated_sizes(\n",
    "            Re[k],\n",
    "            R_med[k],\n",
    "            color_gal,\n",
    "            log_Mstar,\n",
    "            redshift,\n",
    "            Samples_MFit2,\n",
    "            authors,\n",
    "            test[ikey],\n",
    "            validation_info[ikey],\n",
    "            logM_lo=7.5,\n",
    "            plotdir=os.path.join(notebook_dir, PLOT_DRN),\n",
    "            pltname=\"GalaxySizes_vs_Mstar_zbins_MixedFit_{}_{{}}.png\".format(re.sub(\" \", \"_\", k)),\n",
    "        )"
   ]
  },
  {
   "cell_type": "code",
   "execution_count": null,
   "id": "4d4437d3-850c-4b26-a85f-9203b66a7164",
   "metadata": {},
   "outputs": [],
   "source": [
    "# test the test\n",
    "from diffaux.size_modeling.tests import test_generate_sizes\n",
    "\n",
    "types = (\"SF\", \"Q\")\n",
    "var = \"R_med_{}\"\n",
    "vals = [var.format(t) for t in list(types)]"
   ]
  },
  {
   "cell_type": "code",
   "execution_count": null,
   "id": "c54e4452-b76f-4658-bde3-62e502dad7e1",
   "metadata": {},
   "outputs": [],
   "source": [
    "from importlib.resources import files\n",
    "\n",
    "TESTDATA_DRN = files(\"diffaux\").joinpath(\"size_modeling/tests/testing_data\")\n",
    "# TESTDATA_DRN = \"./\"\n",
    "\n",
    "import numpy as np\n",
    "\n",
    "from diffaux.size_modeling.fit_size_data import (\n",
    "    Samples_MFit,\n",
    "    generate_sizes,\n",
    "    assemble_mixed_fit_parameters,\n",
    "    DEFAULT_MIXED_FIT_FITTYPES,\n",
    "    DEFAULT_SIZE_FUNCTIONS,\n",
    "    DEFAULT_FIT_FUNCTIONS,\n",
    ")\n",
    "\n",
    "\n",
    "def chk_generate_sizes(\n",
    "    lM_lo=7.5,\n",
    "    lM_hi=12.0,\n",
    "    Nm=10,\n",
    "    z_lo=0.0,\n",
    "    z_hi=3.0,\n",
    "    Nz=4,\n",
    "    color_SF=0.0,\n",
    "    color_Q=2,\n",
    "    testdata_dir=TESTDATA_DRN,\n",
    "    UVJcolor_cut=1.5,\n",
    "    scatter=0.2,\n",
    "    read=True,\n",
    "    fn=\"generate_sizes_test_data.txt\",\n",
    "    rtol=1e-4,\n",
    "    variables=(\"logM\", \"z\"),\n",
    "    types=(\"SF\", \"Q\"),\n",
    "    var=\"R_med_{}\",\n",
    "):\n",
    "    vals = [var.format(t) for t in list(types)]\n",
    "    header = list(variables) + vals\n",
    "    filename = os.path.join(testdata_dir, fn)\n",
    "    if read:\n",
    "        usecols = [header.index(header[i]) for i in range(len(header))]\n",
    "        data = np.loadtxt(filename, unpack=True, usecols=usecols, skiprows=1)\n",
    "        test_data = dict(zip(header, data))\n",
    "        logM = test_data[\"logM\"]\n",
    "        z = test_data[\"z\"]\n",
    "    else:\n",
    "        logM_values = np.linspace(lM_lo, lM_hi, Nm)\n",
    "        print(logM_values)\n",
    "        z_values = np.linspace(z_lo, z_hi, Nz)\n",
    "        z = np.repeat(z_values, Nm)\n",
    "        logM = np.tile(logM_values, Nz)\n",
    "\n",
    "    # assemble fit parameters and generate new size data\n",
    "    results = {\"logM\": logM, \"z\": z}\n",
    "    fit_pars = assemble_mixed_fit_parameters(Samples_MFit)\n",
    "    for color, t in zip([color_SF, color_Q], types):\n",
    "        _res = generate_sizes(\n",
    "            fit_pars,\n",
    "            logM,\n",
    "            z,\n",
    "            np.repeat(color, Nm * Nz),\n",
    "            fit_types=DEFAULT_MIXED_FIT_FITTYPES,\n",
    "            samples=Samples_MFit,\n",
    "            size_funcs=DEFAULT_SIZE_FUNCTIONS,\n",
    "            fit_funcs=DEFAULT_FIT_FUNCTIONS,\n",
    "            UVJcolor_cut=UVJcolor_cut,\n",
    "            scatter=scatter,\n",
    "        )\n",
    "\n",
    "        results[var.format(t)] = _res[1]\n",
    "\n",
    "    # test or save median values\n",
    "    if read:\n",
    "        for k in header[len(variables) :]:\n",
    "            test = np.isclose(results[k], test_data[k], rtol=rtol)\n",
    "            assert np.all(test)\n",
    "    else:\n",
    "        np.savetxt(\n",
    "            filename, np.vstack(list(results[k] for k in results)).T, fmt=\"%11.4e\", header=\"    \".join(header)\n",
    "        )\n",
    "        print(f\"Writing test data in {filename}\")\n",
    "\n",
    "    return"
   ]
  },
  {
   "cell_type": "code",
   "execution_count": null,
   "id": "aa44f4db-d7d0-482b-afe7-76d493573ea5",
   "metadata": {},
   "outputs": [],
   "source": [
    "chk_generate_sizes(read=False)"
   ]
  },
  {
   "cell_type": "code",
   "execution_count": null,
   "id": "aa2b5203-1fdf-43cd-bc3c-ea59c0833a7d",
   "metadata": {},
   "outputs": [],
   "source": [
    "chk_generate_sizes()"
   ]
  },
  {
   "cell_type": "code",
   "execution_count": null,
   "id": "bfa828b9-9052-4dfe-b392-437e3aab1e1e",
   "metadata": {},
   "outputs": [],
   "source": [
    "test_generate_sizes()"
   ]
  },
  {
   "cell_type": "code",
   "execution_count": null,
   "id": "13ef75c9-002f-40af-a819-39a218db0d97",
   "metadata": {},
   "outputs": [],
   "source": []
  }
 ],
 "metadata": {
  "kernelspec": {
   "display_name": "diffaux",
   "language": "python",
   "name": "diffaux"
  },
  "language_info": {
   "codemirror_mode": {
    "name": "ipython",
    "version": 3
   },
   "file_extension": ".py",
   "mimetype": "text/x-python",
   "name": "python",
   "nbconvert_exporter": "python",
   "pygments_lexer": "ipython3",
   "version": "3.12.7"
  }
 },
 "nbformat": 4,
 "nbformat_minor": 5
}
