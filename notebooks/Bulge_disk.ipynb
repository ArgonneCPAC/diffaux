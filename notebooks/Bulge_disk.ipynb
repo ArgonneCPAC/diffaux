{
 "cells": [
  {
   "cell_type": "code",
   "execution_count": null,
   "id": "a85a8d32-744e-429b-a87f-30b59df654dd",
   "metadata": {},
   "outputs": [],
   "source": [
    "import os\n",
    "from diffsky.mc_diffsky import mc_diffstar_galpop, mc_diffstar_cenpop\n",
    "from jax import random as jran\n",
    "\n",
    "ran_key = jran.key(0)"
   ]
  },
  {
   "cell_type": "markdown",
   "id": "07cac55e-69bd-40a3-addf-2643a2dfe890",
   "metadata": {},
   "source": [
    "### Generate subcat and SFH catalog"
   ]
  },
  {
   "cell_type": "code",
   "execution_count": null,
   "id": "4b440fdd-50f0-40d9-ad28-42c1a3e4758f",
   "metadata": {},
   "outputs": [],
   "source": [
    "halo_key, ran_key = jran.split(ran_key, 2)\n",
    "lgmp_min = 11.0\n",
    "redshift = 0.05\n",
    "Lbox = 100.0\n",
    "volume_com = Lbox**3\n",
    "args = (ran_key, redshift, lgmp_min, volume_com)\n",
    "diffstar_cens = mc_diffstar_cenpop(*args, return_internal_quantities=True)"
   ]
  },
  {
   "cell_type": "code",
   "execution_count": null,
   "id": "d87ce6e9-7bce-4238-9231-1f6a00b459b9",
   "metadata": {},
   "outputs": [],
   "source": [
    "print(len(diffstar_cens['t_table']), diffstar_cens['sfh'].shape)"
   ]
  },
  {
   "cell_type": "markdown",
   "id": "7d9e061d-82b1-4702-bc48-801fd51b9be7",
   "metadata": {},
   "source": [
    "### Explore Existing Model for Disk-Bulge Decomposition"
   ]
  },
  {
   "cell_type": "code",
   "execution_count": null,
   "id": "7631560b-a1d8-4b3d-a694-8f6c7d071e78",
   "metadata": {},
   "outputs": [],
   "source": [
    "from diffaux.disk_bulge_modeling.mc_disk_bulge import mc_disk_bulge, generate_fbulge_params"
   ]
  },
  {
   "cell_type": "code",
   "execution_count": null,
   "id": "d05e876d-041f-4d32-984e-e87615976c0a",
   "metadata": {},
   "outputs": [],
   "source": [
    "disk_bulge_key, ran_key = jran.split(ran_key, 2)\n",
    "_res = mc_disk_bulge(ran_key, diffstar_cens['t_table'], diffstar_cens['sfh'])\n",
    "fbulge_params, smh, eff_bulge, sfh_bulge, smh_bulge, bth = _res\n",
    "tcrit_bulge = fbulge_params[:, 0]\n",
    "fbulge_early = fbulge_params[:, 1]\n",
    "fbulge_late = fbulge_params[:, 2]"
   ]
  },
  {
   "cell_type": "code",
   "execution_count": null,
   "id": "25b0d3db-e727-4799-8514-cc84f1da7cc2",
   "metadata": {},
   "outputs": [],
   "source": [
    "print(smh.shape, eff_bulge.shape, sfh_bulge.shape, smh_bulge.shape, bth.shape)"
   ]
  },
  {
   "cell_type": "code",
   "execution_count": null,
   "id": "b7a67dad-3f22-4c00-ac6f-f41e025c3cf3",
   "metadata": {
    "scrolled": true
   },
   "outputs": [],
   "source": [
    "# Compute sSSFR and disk quantities\n",
    "diffstar_cens['sSFR'] = np.divide(diffstar_cens['sfh'], diffstar_cens['smh'])\n",
    "diffstar_cens['sSFR_bulge'] = np.divide(sfh_bulge, smh_bulge)\n",
    "diffstar_cens['smh_disk'] = diffstar_cens['smh'] - smh_bulge\n",
    "diffstar_cens['sfh_disk'] = diffstar_cens['sfh'] - sfh_bulge\n",
    "diffstar_cens['sSFR_disk'] = np.divide(diffstar_cens['sfh_disk'], diffstar_cens['smh_disk'])"
   ]
  },
  {
   "cell_type": "code",
   "execution_count": null,
   "id": "91719c76-ef9b-42ad-a54c-01432a867c7a",
   "metadata": {},
   "outputs": [],
   "source": [
    "import matplotlib.pyplot as plt\n",
    "import numpy as np\n",
    "import matplotlib.cm as cm\n",
    "from itertools import zip_longest\n",
    "from diffaux.validation.plot_utilities import get_nrow_ncol\n",
    "plotdir = '/Users/kovacs/cosmology/DiskBulgePlots'\n",
    "\n",
    "qs = [eff_bulge, smh_bulge, diffstar_cens['smh'], bth,\n",
    "      #sfh_bulge, diffstar_cens['sfh'],\n",
    "      diffstar_cens['sSFR_bulge'], diffstar_cens['sSFR']]\n",
    "ylabels = ['Bulge_efficiency', 'Bulge_SMH ($M_\\\\odot$)', 'SMH ($M_\\\\odot$)', 'B/T',\n",
    "           #'Bulge_SFH ($M_\\\\odot \\\\mathrm{yr}^{-1}$)', 'SFH ($M_\\\\odot \\\\mathrm{yr}^{-1}$)',\n",
    "           'Bulge_sSFH ($\\\\mathrm{yr}^{-1}$)', 'sSFH ($\\\\mathrm{yr}^{-1}$)']\n",
    "labels = ['effB', 'SMHB', 'SMH', 'BT',\n",
    "          #'SFHB', 'SFH',\n",
    "          'sSFRB', 'sSFR']\n",
    "\n",
    "def plot_histories(qs, t_table, labels, ylabels, plot_label=None,\n",
    "                   color_array=None, row_mask=None, lgnd_label='#{}', \n",
    "                   pltname='History_{}_step_{}.png', yscale='', reverse=False,\n",
    "                   check_step=5000, xlimlo=0.5, xlimhi=14,\n",
    "                   step=300, plotdir = os.path.join(plotdir, 'DiskBulge_Histories')):\n",
    "    \n",
    "    nrow, ncol = get_nrow_ncol(len(qs))\n",
    "    fig, ax_all = plt.subplots(nrow, ncol, figsize=(5*ncol, 4*nrow))\n",
    "    colors=cm.coolwarm(np.linspace(0, 1, len(qs[0]))) #expect all q to be same length\n",
    "    #print(len(colors))\n",
    "    indices = np.linspace(0, len(qs[0])-1, len(qs[0]), dtype=int)\n",
    "    if not plot_label: #assume plot_label, color_array, indx_array supplied together\n",
    "        color_array = indices\n",
    "    if row_mask is None:\n",
    "        row_mask = np.ones(len(qs[0]), dtype=bool)\n",
    "    sort_array = np.argsort(color_array[row_mask])\n",
    "    if reverse:\n",
    "        sort_array =  sort_array[::-1]\n",
    "        print(len(color_array[row_mask]), color_array[row_mask][sort_array][::check_step])\n",
    "\n",
    "    for ax, q, ylabel in zip_longest(ax_all.flat, qs, ylabels):\n",
    "        if ylabel is None:\n",
    "            ax.set_visible(False)\n",
    "            continue\n",
    "        if len(color_array[row_mask]) != len(q[row_mask]):\n",
    "            print('oops: array mismatch')\n",
    "        for n, (h, c, i) in enumerate(zip(q[row_mask][sort_array][::step],\n",
    "                                          color_array[row_mask][sort_array][::step],\n",
    "                                          indices[row_mask][::step])):\n",
    "            if n==0:\n",
    "                __=ax.plot(t_table, h, color=colors[i], label=lgnd_label.format(c))\n",
    "            elif n==int(len(q)/step):\n",
    "                __=ax.plot(t_table, h, color=colors[i], label=lgnd_label.format(c))\n",
    "            else:\n",
    "                __=ax.plot(t_table, h, color=colors[i])\n",
    "\n",
    "        ax.set_xlim(xlimlo, xlimhi)\n",
    "        ax.set_ylabel(ylabel)\n",
    "        if yscale=='log' and ('SMH' in ylabel or 'SFH' in ylabel or 'SFR' in ylabel):\n",
    "            ax.set_yscale('log')\n",
    "        ax.set_xlabel('$t$ (Gyr)')\n",
    "        ax.legend(loc='best')\n",
    "    fig.suptitle('Sample Histories')\n",
    "    \n",
    "    xname = '_'.join(labels)\n",
    "    if plot_label:\n",
    "        xname = '_'.join([xname, plot_label])\n",
    "    if yscale=='log':\n",
    "        xname = '_'.join([xname, yscale])\n",
    "    fn = os.path.join(plotdir, pltname.format(xname, step))\n",
    "    plt.tight_layout()\n",
    "    plt.savefig(fn)\n",
    "    print('Saving {}'.format(fn))"
   ]
  },
  {
   "cell_type": "code",
   "execution_count": null,
   "id": "d460f553-a498-4a0e-8ab2-db25c437ca27",
   "metadata": {},
   "outputs": [],
   "source": [
    "plot_histories(qs, diffstar_cens['t_table'], labels, ylabels, step=5000)"
   ]
  },
  {
   "cell_type": "code",
   "execution_count": null,
   "id": "db5c51f6-b587-4527-8310-2b7d0cef88fe",
   "metadata": {},
   "outputs": [],
   "source": [
    "logM_min = 8.0\n",
    "row_mask = np.log10(diffstar_cens['smh'][:, -1]) > logM_min\n",
    "print(np.count_nonzero(mask))\n",
    "print(np.log10(diffstar_cens['smh'][:, -1][row_mask][0]), np.log10(diffstar_cens['smh'][:, -1][row_mask][30000]))\n",
    "plot_histories(qs, diffstar_cens['t_table'], labels, ylabels, \n",
    "               color_array=np.log10(diffstar_cens['smh'][:, -1]), row_mask=row_mask, yscale='log',\n",
    "               plot_label='Mstar_z0', step=500, lgnd_label='$\\\\log_{{10}}(M^*/M_\\\\odot) = {:.1f}$')"
   ]
  },
  {
   "cell_type": "code",
   "execution_count": null,
   "id": "630b8eb2-19e6-40a5-b5e2-a6f8234ad199",
   "metadata": {},
   "outputs": [],
   "source": [
    "# sfh_bulge = eff_bulge*diffstar_cens['sfh']\n",
    "plot_histories(qs, diffstar_cens['t_table'], labels, ylabels, \n",
    "               color_array=np.log10(diffstar_cens['sSFR'][:, -1]), row_mask=row_mask, yscale='log',\n",
    "               reverse=True,\n",
    "               plot_label='sSFR_z0', step=500, lgnd_label='$\\\\log_{{10}}(sSFR/yr^{{-1}})) = {:.1f}$')\n"
   ]
  },
  {
   "cell_type": "code",
   "execution_count": null,
   "id": "ba510280-c912-4512-81ef-e0c235824ab0",
   "metadata": {},
   "outputs": [],
   "source": [
    "from dsps.cosmology.defaults import DEFAULT_COSMOLOGY\n",
    "from dsps.cosmology.flat_wcdm import lookback_to_z, age_at_z, age_at_z0\n",
    "tl = lookback_to_z(1.0, *DEFAULT_COSMOLOGY)\n",
    "a = age_at_z(1.0, *DEFAULT_COSMOLOGY)\n",
    "print(DEFAULT_COSMOLOGY, tl, a, tl+a, age_at_z0(*DEFAULT_COSMOLOGY))\n",
    "#print(diffstar_cens['t_table'])\n",
    "# interpolate to invert t_table\n",
    "def get_redshifts_from_times(t_table, cosmo_params, zmin=.001, zmax=50, Ngrid=200, zcheck=3):\n",
    "    zgrid = np.logspace(np.log10(zmax), np.log10(zmin), Ngrid)\n",
    "    age_grid = age_at_z(zgrid, *cosmo_params)\n",
    "    #print(age_grid)\n",
    "    redshifts = np.interp(t_table, age_grid, zgrid)\n",
    "    mask = (redshifts <= zcheck)\n",
    "    t_interp = age_at_z(redshifts, *cosmo_params)\n",
    "    check = np.isclose(t_interp, diffstar_cens['t_table'], atol=1e-3, rtol=1e-3)\n",
    "    print(\"Check within 1e-3 for z< {}: {}\".format(zcheck, np.all(check[mask])))\n",
    "    #print(check)\n",
    "    return redshifts\n",
    "\n",
    "redshifts = get_redshifts_from_times(diffstar_cens['t_table'], DEFAULT_COSMOLOGY)\n",
    "#print(redshifts)\n",
    "zvalues = [0.0, 0.5, 1.0, 1.5, 2.0, 2.5]\n",
    "dz = 0.1\n"
   ]
  },
  {
   "cell_type": "code",
   "execution_count": null,
   "id": "1fe08da4-870e-45e1-acb4-9d002330198a",
   "metadata": {},
   "outputs": [],
   "source": [
    "def plot_q(q, zvalues, redshifts, cut_array, cuts, dz=0.1,\n",
    "           cut_labels=['{{}} $\\\\leq$ {:.0f}', '{{}} $\\\\geq$ {:.0f}'],\n",
    "           colors = ['r', 'blue'], xlabel='B/T', cut_name='$\\\\log_{10}(sSFR/yr)$',\n",
    "           pltname='BT_cut_on_{}.png', yscale='log', xscale='', bins=50, xname='log_sSFR',\n",
    "           plotdir = os.path.join(plotdir, '/DiskBulge_Histograms'), lgnd_title=''):\n",
    "    \n",
    "    nrow, ncol = get_nrow_ncol(len(zvalues))\n",
    "    fig, ax_all = plt.subplots(nrow, ncol, figsize=(5*ncol, 4*nrow))\n",
    "\n",
    "    for ax, z in zip_longest(ax_all.flat, zvalues):\n",
    "        zmask = (z-dz <= redshifts) & (z+dz >= redshifts)\n",
    "        zlabel = '${:.1f} \\\\leq z \\\\leq {:.1f}$'.format(max(0., z-dz), z+dz)\n",
    "        # apply row mask to arrays\n",
    "        q_z = q[:, zmask]\n",
    "        cut_array_z = cut_array[:, zmask]\n",
    "        #print(cut_array_z.shape, q_z.shape)\n",
    "        for n, (cut, cut_label, color) in enumerate(zip(cuts, cut_labels, colors)):\n",
    "            cut_mask = (cut_array_z <= cut) if n==0 else (cut_array_z >= cut)\n",
    "            label = cut_label.format(cut).format(cut_name)\n",
    "            #print(np.count_nonzero(cut_mask), q_z[cut_mask].shape)\n",
    "            ax.hist(q_z[cut_mask], bins=bins, color=color, label=label, alpha=0.4)\n",
    "        if yscale=='log':\n",
    "            ax.set_yscale('log')\n",
    "        if xscale=='log':\n",
    "            ax.set_xscale('log')\n",
    "        ax.set_xlabel(xlabel)\n",
    "        ax.set_ylabel('$N$')\n",
    "        ax.legend(loc='best', title=zlabel+lgnd_title)\n",
    "    \n",
    "    fn = os.path.join(plotdir, pltname.format(xname))\n",
    "    plt.tight_layout()\n",
    "    plt.savefig(fn)\n",
    "    print('Saving {}'.format(fn))\n",
    "    return"
   ]
  },
  {
   "cell_type": "code",
   "execution_count": null,
   "id": "dda13189-f191-4a4c-b3bd-e70561e6be26",
   "metadata": {},
   "outputs": [],
   "source": [
    "# setup mass mask\n",
    "logMz0_min = 8.0\n",
    "mass_mask = np.log10(diffstar_cens['smh'][:, -1]) > logMz0_min\n",
    "lgnd_title=', $\\\\log_{{10}}(M^*_{{z=0}}/M_\\\\odot) > {:.1f}$'.format(logMz0_min)"
   ]
  },
  {
   "cell_type": "code",
   "execution_count": null,
   "id": "18b1c7fb-62dd-4afa-b23e-95f8f16bb459",
   "metadata": {},
   "outputs": [],
   "source": [
    "# test what masks do\n",
    "zmask = redshifts < 0.2\n",
    "q_z = bth[mass_mask][:, zmask]\n",
    "cut_array_z = np.log10(diffstar_cens['sSFR'])[mass_mask][:, zmask]\n",
    "cut_mask = (cut_array_z <= -11)\n",
    "print(cut_mask.shape, q_z.shape)\n",
    "#print(cut_mask[0], q_z[0], cut_mask[3], q_z[3])\n",
    "print(np.count_nonzero(cut_mask), q_z[cut_mask].shape)\n",
    "#print(q_z[cut_mask][0:22])"
   ]
  },
  {
   "cell_type": "code",
   "execution_count": null,
   "id": "6670746a-bfd3-4fa8-b965-90e7dfdf7e9c",
   "metadata": {},
   "outputs": [],
   "source": [
    "plot_q(bth[mass_mask], zvalues, redshifts, np.log10(diffstar_cens['sSFR'])[mass_mask], [-11, -10], dz=0.2,\n",
    "       lgnd_title=lgnd_title,\n",
    "      )\n",
    "       \n"
   ]
  },
  {
   "cell_type": "code",
   "execution_count": null,
   "id": "422b0855-0c83-452e-91fe-e95a3a9c4785",
   "metadata": {},
   "outputs": [],
   "source": [
    "plot_q(eff_bulge[mass_mask], zvalues, redshifts, np.log10(diffstar_cens['sSFR'])[mass_mask], [-11, -10], dz=0.2,\n",
    "       pltname='effB_cut_on_{}.png', xlabel='Bulge Efficiency',\n",
    "       lgnd_title=lgnd_title,\n",
    "      )"
   ]
  },
  {
   "cell_type": "code",
   "execution_count": null,
   "id": "903b0120-47ab-4c29-9fd8-2a65e90e76e7",
   "metadata": {},
   "outputs": [],
   "source": [
    "logMz0_min = 8.5\n",
    "mass_mask = np.log10(diffstar_cens['smh'][:, -1]) > logMz0_min\n",
    "print(mass_mask.shape)\n",
    "print(smh_bulge[mass_mask].shape)\n",
    "bins = np.logspace(7, 12, 51)\n",
    "lgnd_title=', $\\\\log_{{10}}(M^*_{{z=0}}/M_\\\\odot) > {:.1f}$'.format(logMz0_min)\n",
    "#print(lgnd_title)\n",
    "\n",
    "plot_q(smh_bulge[mass_mask], zvalues, redshifts, np.log10(diffstar_cens['sSFR'])[mass_mask], [-11, -10], dz=0.2,\n",
    "       pltname='bulge_mass_cut_on_{}.png', xlabel='Bulge Mass ($M_\\\\odot$)', xscale='log', bins=bins,\n",
    "       lgnd_title=lgnd_title,\n",
    "      )"
   ]
  },
  {
   "cell_type": "code",
   "execution_count": null,
   "id": "b775c123-735d-40d5-824b-44a8efb36852",
   "metadata": {},
   "outputs": [],
   "source": [
    "def plot_q1_q2(q1, q2, zvalues, redshifts, cut_array, cut_lo, cut_hi, dz=0.1,\n",
    "           cut_label='{:.1f} $\\\\leq$ {{}} $\\\\leq$ {:.1f}', qlabels=['Bulge', 'Disk'],\n",
    "           colors = ['r', 'blue'], xlabel='sSFR $(yr^{-1})$', cut_name='$\\\\log_{10}(M^*_{z=0}/M_\\\\odot)$',\n",
    "           pltname='log_sSFR_cut_on_{}.png', yscale='log', xscale='log', bins=50, xname='log_M0_{:.1f}_{:.1f}',\n",
    "           plotdir = os.path.join(plotdir, 'DiskBulge_Histograms'), lgnd_title=''):\n",
    "    \n",
    "    nrow, ncol = get_nrow_ncol(len(zvalues))\n",
    "    fig, ax_all = plt.subplots(nrow, ncol, figsize=(5*ncol, 4*nrow))\n",
    "\n",
    "    clabel = cut_label.format(cut_lo, cut_hi).format(cut_name)\n",
    "    for ax, z in zip_longest(ax_all.flat, zvalues):\n",
    "        zmask = (z-dz <= redshifts) & (z+dz >= redshifts)\n",
    "        zlabel = '${:.1f} \\\\leq z \\\\leq {:.1f}$'.format(max(0., z-dz), z+dz)\n",
    "        # apply row mask to arrays\n",
    "        q1_z = q1[:, zmask]\n",
    "        q2_z = q2[:, zmask]\n",
    "        cut_array_z = cut_array[:, zmask]\n",
    "        #print(q1_z.shape, cut_array_z.shape)\n",
    "        #cut on value at z=0\n",
    "        cut_mask = (cut_array_z[:, -1] >= cut_lo) & (cut_array_z[:, -1] < cut_hi)\n",
    "        #now broadcast back to 2-d mask\n",
    "        cut_mask = np.broadcast_to(cut_mask, (np.count_nonzero(zmask), len(cut_mask))).T\n",
    "        for q_z, qlabel, color in zip([q1_z[cut_mask], q2_z[cut_mask]], qlabels, colors):\n",
    "            ax.hist(q_z, bins=bins, color=color, label=qlabel, alpha=0.4)\n",
    "            \n",
    "        if yscale=='log':\n",
    "            ax.set_yscale('log')\n",
    "        if xscale=='log':\n",
    "            ax.set_xscale('log')\n",
    "        ax.set_xlim(max(np.min(bins), min(np.min(q1_z[cut_mask]), np.min(q1_z[cut_mask]))*0.5),\n",
    "                    min(np.max(bins), max(np.max(q1_z[cut_mask]), np.max(q1_z[cut_mask])))*2.)\n",
    "        ax.set_xlabel(xlabel)\n",
    "        ax.set_ylabel('$N$')\n",
    "        ax.legend(loc='best', title='\\n'.join([zlabel, clabel]))\n",
    "\n",
    "    fn = os.path.join(plotdir, pltname.format(xname.format(cut_lo, cut_hi)))\n",
    "    plt.tight_layout()\n",
    "    plt.savefig(fn)\n",
    "    print('Saving {}'.format(fn))\n",
    "    return\n",
    "    "
   ]
  },
  {
   "cell_type": "code",
   "execution_count": null,
   "id": "1a4566ef-4416-40a5-9de6-f7808c4d1875",
   "metadata": {},
   "outputs": [],
   "source": [
    "#logMz0_min = 8.5\n",
    "#mass_mask = np.log10(diffstar_cens['smh'][:, -1]) > logMz0_min\n",
    "bins = np.logspace(-14, -7, 71)\n",
    "mass_bins = np.linspace(8.5, 11.5, 4)\n",
    "print(mass_bins, np.min(bins), np.max(bins))\n",
    "# test masking\n",
    "zmask = redshifts < 0.2\n",
    "q1_z = diffstar_cens['sSFR_bulge'][:, zmask]\n",
    "print(q1_z.shape)\n",
    "cut_array_z= np.log10(diffstar_cens['smh'])[:, zmask]\n",
    "cut_mask = (cut_array_z[:, -1]>=8.5) & (cut_array_z[:, -1] < 11.5)\n",
    "print(cut_mask.shape, np.where(cut_mask==False)[0][0:2])\n",
    "cut_mask = np.broadcast_to(cut_mask, (np.count_nonzero(zmask), len(cut_mask))).T\n",
    "print(cut_mask.shape)\n",
    "q1 = q1_z[cut_mask]\n",
    "#print(q1_z[36:39])\n",
    "#print(q1[18*36: 18*37])\n",
    "print(q1.shape)"
   ]
  },
  {
   "cell_type": "code",
   "execution_count": null,
   "id": "7231c779-4ec5-4b5e-a7b5-14aa43bd123a",
   "metadata": {},
   "outputs": [],
   "source": [
    "for m_lo, m_hi in zip(mass_bins[0:-1], mass_bins[1:]):\n",
    "    plot_q1_q2(diffstar_cens['sSFR_bulge'], diffstar_cens['sSFR_disk'], zvalues, redshifts, \n",
    "           np.log10(diffstar_cens['smh']), m_lo, m_hi, dz=0.2,\n",
    "           bins=bins,\n",
    "          )"
   ]
  },
  {
   "cell_type": "code",
   "execution_count": null,
   "id": "0e518665-45c8-4aac-8ce3-5c88d91764e1",
   "metadata": {},
   "outputs": [],
   "source": []
  }
 ],
 "metadata": {
  "kernelspec": {
   "display_name": "diffaux",
   "language": "python",
   "name": "diffaux"
  },
  "language_info": {
   "codemirror_mode": {
    "name": "ipython",
    "version": 3
   },
   "file_extension": ".py",
   "mimetype": "text/x-python",
   "name": "python",
   "nbconvert_exporter": "python",
   "pygments_lexer": "ipython3",
   "version": "3.12.7"
  }
 },
 "nbformat": 4,
 "nbformat_minor": 5
}
