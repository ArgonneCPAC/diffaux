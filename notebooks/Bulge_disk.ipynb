{
 "cells": [
  {
   "cell_type": "code",
   "execution_count": null,
   "id": "a85a8d32-744e-429b-a87f-30b59df654dd",
   "metadata": {},
   "outputs": [],
   "source": [
    "import os\n",
    "from diffaux.disk_bulge_modeling.generate_bulge_disk_sample import get_bulge_disk_test_sample, get_bulge_disk_decomposition\n",
    "from jax import random as jran\n",
    "import numpy as np\n",
    "import jax.numpy as jnp\n",
    "\n",
    "ran_key = jran.key(0)"
   ]
  },
  {
   "cell_type": "markdown",
   "id": "07cac55e-69bd-40a3-addf-2643a2dfe890",
   "metadata": {},
   "source": [
    "### Generate subcat and SFH catalog"
   ]
  },
  {
   "cell_type": "code",
   "execution_count": null,
   "id": "4b440fdd-50f0-40d9-ad28-42c1a3e4758f",
   "metadata": {},
   "outputs": [],
   "source": [
    "halo_key, ran_key = jran.split(ran_key, 2)\n",
    "lgmp_min = 11.0\n",
    "redshift = 0.05\n",
    "Lbox = 100.0\n",
    "diffstar_cens = get_bulge_disk_test_sample(ran_key, lgmp_min=lgmp_min, redshift=redshift, Lbox=Lbox)"
   ]
  },
  {
   "cell_type": "markdown",
   "id": "7d9e061d-82b1-4702-bc48-801fd51b9be7",
   "metadata": {},
   "source": [
    "### Explore Existing Model for Disk-Bulge Decomposition"
   ]
  },
  {
   "cell_type": "code",
   "execution_count": null,
   "id": "d05e876d-041f-4d32-984e-e87615976c0a",
   "metadata": {},
   "outputs": [],
   "source": [
    "disk_bulge_key, ran_key = jran.split(ran_key, 2)\n",
    "diffstar_cens = get_bulge_disk_decomposition(ran_key, diffstar_cens)\n",
    "print(diffstar_cens.keys())"
   ]
  },
  {
   "cell_type": "code",
   "execution_count": null,
   "id": "fc795a14-61b7-467b-9951-20e3a4965760",
   "metadata": {},
   "outputs": [],
   "source": [
    "zvalues = [0.0, 0.5, 1.0, 1.5, 2.0, 2.5]\n",
    "dz = 0.1\n",
    "redshifts = diffstar_cens['z_table']\n",
    "from diffaux.validation.plot_disk_bulge import plot_qs_nocuts, plot_histories, plot_q_with_cuts, plot_q1_q2, plot_q1_vs_q2"
   ]
  },
  {
   "cell_type": "code",
   "execution_count": null,
   "id": "32a1f38c-6629-4a9c-a6dc-0c4b54fff210",
   "metadata": {},
   "outputs": [],
   "source": [
    "# plot smf\n",
    "mass_bins = np.linspace(8.0, 11.6, 19)\n",
    "print(mass_bins)\n",
    "plot_qs_nocuts([jnp.log10(diffstar_cens['smh_disk']), jnp.log10(diffstar_cens['smh_bulge']), jnp.log10(diffstar_cens['smh'])],\n",
    "               zvalues, redshifts, \n",
    "               dz=0.1, bins=mass_bins, qlabels=['Disk', 'Bulge', 'Total'],\n",
    "                  yscale='log', xscale='linear',\n",
    "          )"
   ]
  },
  {
   "cell_type": "code",
   "execution_count": null,
   "id": "6e90cb73-51d7-48db-b8b6-47342ed97d7d",
   "metadata": {},
   "outputs": [],
   "source": [
    "qs = [diffstar_cens['eff_bulge'], diffstar_cens['smh_bulge'], diffstar_cens['smh'], diffstar_cens['bth'],\n",
    "      #sfh_bulge, diffstar_cens['sfh'],\n",
    "      diffstar_cens['sSFR_bulge'], diffstar_cens['sSFR']]\n",
    "ylabels = ['Bulge_efficiency', 'Bulge_SMH ($M_\\\\odot$)', 'SMH ($M_\\\\odot$)', 'B/T',\n",
    "           #'Bulge_SFH ($M_\\\\odot \\\\mathrm{yr}^{-1}$)', 'SFH ($M_\\\\odot \\\\mathrm{yr}^{-1}$)',\n",
    "           'Bulge_sSFH ($\\\\mathrm{yr}^{-1}$)', 'sSFH ($\\\\mathrm{yr}^{-1}$)']\n",
    "labels = ['effB', 'SMHB', 'SMH', 'BT',\n",
    "          #'SFHB', 'SFH',\n",
    "          'sSFRB', 'sSFR']"
   ]
  },
  {
   "cell_type": "code",
   "execution_count": null,
   "id": "db5c51f6-b587-4527-8310-2b7d0cef88fe",
   "metadata": {},
   "outputs": [],
   "source": [
    "logM_min = 8.0\n",
    "row_mask = np.log10(diffstar_cens['smh'][:, -1]) > logM_min\n",
    "print(np.count_nonzero(row_mask))\n",
    "plot_histories(qs, diffstar_cens['t_table'], labels, ylabels, \n",
    "               color_array=np.log10(diffstar_cens['smh'][:, -1]), row_mask=row_mask, yscale='log',\n",
    "               plot_label='Mstar_z0', step=500, lgnd_label='$\\\\log_{{10}}(M^*/M_\\\\odot) = {:.1f}$')"
   ]
  },
  {
   "cell_type": "code",
   "execution_count": null,
   "id": "dda13189-f191-4a4c-b3bd-e70561e6be26",
   "metadata": {},
   "outputs": [],
   "source": [
    "# setup mass mask\n",
    "logMz0_min = 8.0\n",
    "mass_mask = np.log10(diffstar_cens['smh'][:, -1]) > logMz0_min\n",
    "lgnd_title=', $\\\\log_{{10}}(M^*_{{z=0}}/M_\\\\odot) > {:.1f}$'.format(logMz0_min)"
   ]
  },
  {
   "cell_type": "code",
   "execution_count": null,
   "id": "6670746a-bfd3-4fa8-b965-90e7dfdf7e9c",
   "metadata": {},
   "outputs": [],
   "source": [
    "plotdir = '/Users/kovacs/cosmology/DiskBulgePlots'\n",
    "plot_q_with_cuts(diffstar_cens['bth'][mass_mask], zvalues, redshifts, jnp.log10(diffstar_cens['sSFR'])[mass_mask], [-11, -10], dz=0.2,\n",
    "                 lgnd_title=lgnd_title, plotdir = os.path.join(plotdir, 'DiskBulge_Histograms'),\n",
    "                )\n"
   ]
  },
  {
   "cell_type": "code",
   "execution_count": null,
   "id": "422b0855-0c83-452e-91fe-e95a3a9c4785",
   "metadata": {},
   "outputs": [],
   "source": [
    "plot_q_with_cuts(diffstar_cens['eff_bulge'][mass_mask], zvalues, redshifts, np.log10(diffstar_cens['sSFR'])[mass_mask], [-11, -10], dz=0.2,\n",
    "                 pltname='effB_cut_on_{}.png', xlabel='Bulge Efficiency',\n",
    "                 lgnd_title=lgnd_title,\n",
    "                )"
   ]
  },
  {
   "cell_type": "code",
   "execution_count": null,
   "id": "903b0120-47ab-4c29-9fd8-2a65e90e76e7",
   "metadata": {},
   "outputs": [],
   "source": [
    "logMz0_min = 8.5\n",
    "mass_mask = np.log10(diffstar_cens['smh'][:, -1]) > logMz0_min\n",
    "print(mass_mask.shape)\n",
    "bins = np.logspace(7, 12, 51)\n",
    "lgnd_title=', $\\\\log_{{10}}(M^*_{{z=0}}/M_\\\\odot) > {:.1f}$'.format(logMz0_min)\n",
    "#print(lgnd_title)\n",
    "\n",
    "plot_q_with_cuts(diffstar_cens['smh_bulge'][mass_mask], zvalues, redshifts, np.log10(diffstar_cens['sSFR'])[mass_mask], [-11, -10], dz=0.2,\n",
    "       pltname='bulge_mass_cut_on_{}.png', xlabel='Bulge Mass ($M_\\\\odot$)', xscale='log', bins=bins,\n",
    "       lgnd_title=lgnd_title,\n",
    "      )"
   ]
  },
  {
   "cell_type": "code",
   "execution_count": null,
   "id": "1a4566ef-4416-40a5-9de6-f7808c4d1875",
   "metadata": {},
   "outputs": [],
   "source": [
    "#logMz0_min = 8.5\n",
    "#mass_mask = np.log10(diffstar_cens['smh'][:, -1]) > logMz0_min\n",
    "bins = np.logspace(-14, -7, 71)\n",
    "mass_bins = np.linspace(7.5, 11.5, 5)\n",
    "print(mass_bins, np.min(bins), np.max(bins))\n",
    "# test masking\n",
    "zmask = redshifts < 0.2\n",
    "q1_z = diffstar_cens['sSFR_bulge'][:, zmask]\n",
    "cut_array_z= np.log10(diffstar_cens['smh'])[:, zmask]\n",
    "cut_mask = (cut_array_z[:, -1]>=8.5) & (cut_array_z[:, -1] < 11.5)\n",
    "print(cut_mask.shape, np.where(cut_mask==False)[0][0:2])\n",
    "cut_mask = np.broadcast_to(cut_mask, (np.count_nonzero(zmask), len(cut_mask))).T\n",
    "print(cut_mask.shape)"
   ]
  },
  {
   "cell_type": "code",
   "execution_count": null,
   "id": "7231c779-4ec5-4b5e-a7b5-14aa43bd123a",
   "metadata": {
    "scrolled": true
   },
   "outputs": [],
   "source": [
    "for m_lo, m_hi in zip(mass_bins[0:-1], mass_bins[1:]):\n",
    "    plot_q1_q2(diffstar_cens['sSFR_bulge'], diffstar_cens['sSFR_disk'], zvalues, redshifts, \n",
    "           np.log10(diffstar_cens['smh']), m_lo, m_hi, dz=0.2, xname='log_M0_{:.1f}_{:.1f}',\n",
    "           cut_name='$\\\\log_{10}(M^*_{z=0}/M_\\\\odot)$', cut_at_z0=True,\n",
    "           bins=bins,\n",
    "          )"
   ]
  },
  {
   "cell_type": "code",
   "execution_count": null,
   "id": "3a6c4a63-7420-4383-93e7-7b85ca5d61a2",
   "metadata": {},
   "outputs": [],
   "source": [
    "logMz0_min = 8.5\n",
    "logssfr_min = -14\n",
    "mass_mask = np.log10(diffstar_cens['smh'][:, -1]) > logMz0_min\n",
    "title='$M^*_{{z=0}} > 10^{{{:.1f}}} M_\\\\odot, sSFR > 10^{{{}}} yr^{{-1}}$'.format(logMz0_min, logssfr_min)\n",
    "xname='log_M0_min_{:.1f}_logssfr_min_{}'.format(logMz0_min, -logssfr_min)\n",
    "plot_q1_vs_q2(jnp.log10(diffstar_cens['smh'][mass_mask]), jnp.log10(diffstar_cens['sSFR'][mass_mask]),\n",
    "              zvalues, redshifts, diffstar_cens['bth'][mass_mask], title=title, xname=xname, ymin=logssfr_min, N=2000\n",
    "             )"
   ]
  },
  {
   "cell_type": "code",
   "execution_count": null,
   "id": "7ebd1e05-7a66-4fb8-81e1-f7eed4839d50",
   "metadata": {},
   "outputs": [],
   "source": [
    "logMz0_min = 8.5\n",
    "logssfr_min = -14\n",
    "mass_mask = np.log10(diffstar_cens['smh'][:, -1]) > logMz0_min\n",
    "title='$M^*_{{z=0}} > 10^{{{:.1f}}} M_\\\\odot, sSFR > 10^{{{}}} yr^{{-1}}$'.format(logMz0_min, logssfr_min)\n",
    "xname='log_M0_min_{:.1f}_logssfr_min_{}'.format(logMz0_min, -logssfr_min)\n",
    "plot_q1_vs_q2(jnp.log10(diffstar_cens['smh_bulge'][mass_mask]), jnp.log10(diffstar_cens['sSFR'][mass_mask]),\n",
    "              zvalues, redshifts, diffstar_cens['bth'][mass_mask], title=title, xname=xname, ymin=logssfr_min, N=2000,\n",
    "              xlabel='$\\\\log_{10}(M^*_{bulge}/M_\\\\odot)$', pltname='sSFR_vs_Mbulge_{}.png'\n",
    "             )"
   ]
  },
  {
   "cell_type": "code",
   "execution_count": null,
   "id": "973d75c7-776b-4abc-9675-2338277aa6e2",
   "metadata": {},
   "outputs": [],
   "source": []
  }
 ],
 "metadata": {
  "kernelspec": {
   "display_name": "diffaux",
   "language": "python",
   "name": "diffaux"
  },
  "language_info": {
   "codemirror_mode": {
    "name": "ipython",
    "version": 3
   },
   "file_extension": ".py",
   "mimetype": "text/x-python",
   "name": "python",
   "nbconvert_exporter": "python",
   "pygments_lexer": "ipython3",
   "version": "3.12.7"
  }
 },
 "nbformat": 4,
 "nbformat_minor": 5
}
